{
 "cells": [
  {
   "cell_type": "markdown",
   "metadata": {},
   "source": [
    "## This Notebook aims to calculate VaR using a Monte Carlo with Copulas Approach"
   ]
  },
  {
   "cell_type": "code",
   "execution_count": 3,
   "metadata": {},
   "outputs": [],
   "source": [
    "import pandas as pd  \n",
    "import numpy as np\n",
    "\n",
    "from scipy.stats import t, rankdata\n",
    "#from pycopula.copula import StudentCopula\n",
    "\n",
    "from copulae import StudentCopula\n",
    "\n",
    "import matplotlib.pyplot as plt\n",
    "\n",
    "from dotenv.main import load_dotenv\n",
    "load_dotenv(override=True)\n",
    "\n",
    "import os"
   ]
  },
  {
   "cell_type": "code",
   "execution_count": 4,
   "metadata": {},
   "outputs": [],
   "source": [
    "def fetch_data_df():\n",
    "    df = pd.read_csv('../../data/final_daily_returns_asset_classes.csv', index_col=0, parse_dates=True)\n",
    "    df.index = pd.to_datetime(df.index)\n",
    "    return df"
   ]
  },
  {
   "cell_type": "code",
   "execution_count": 5,
   "metadata": {},
   "outputs": [
    {
     "data": {
      "text/html": [
       "<div>\n",
       "<style scoped>\n",
       "    .dataframe tbody tr th:only-of-type {\n",
       "        vertical-align: middle;\n",
       "    }\n",
       "\n",
       "    .dataframe tbody tr th {\n",
       "        vertical-align: top;\n",
       "    }\n",
       "\n",
       "    .dataframe thead th {\n",
       "        text-align: right;\n",
       "    }\n",
       "</style>\n",
       "<table border=\"1\" class=\"dataframe\">\n",
       "  <thead>\n",
       "    <tr style=\"text-align: right;\">\n",
       "      <th></th>\n",
       "      <th>REEL</th>\n",
       "      <th>PE</th>\n",
       "      <th>MSCIWORLD</th>\n",
       "      <th>IG</th>\n",
       "      <th>GOV</th>\n",
       "      <th>HY</th>\n",
       "      <th>EONIA</th>\n",
       "    </tr>\n",
       "    <tr>\n",
       "      <th>Date</th>\n",
       "      <th></th>\n",
       "      <th></th>\n",
       "      <th></th>\n",
       "      <th></th>\n",
       "      <th></th>\n",
       "      <th></th>\n",
       "      <th></th>\n",
       "    </tr>\n",
       "  </thead>\n",
       "  <tbody>\n",
       "    <tr>\n",
       "      <th>2005-10-11</th>\n",
       "      <td>0.003231</td>\n",
       "      <td>0.006833</td>\n",
       "      <td>0.004578</td>\n",
       "      <td>-0.001342</td>\n",
       "      <td>-0.001916</td>\n",
       "      <td>-0.004075</td>\n",
       "      <td>0.000054</td>\n",
       "    </tr>\n",
       "    <tr>\n",
       "      <th>2005-10-12</th>\n",
       "      <td>-0.003550</td>\n",
       "      <td>-0.009657</td>\n",
       "      <td>-0.007867</td>\n",
       "      <td>-0.002606</td>\n",
       "      <td>-0.001570</td>\n",
       "      <td>-0.004370</td>\n",
       "      <td>0.000058</td>\n",
       "    </tr>\n",
       "    <tr>\n",
       "      <th>2005-10-13</th>\n",
       "      <td>-0.018599</td>\n",
       "      <td>-0.010692</td>\n",
       "      <td>0.000588</td>\n",
       "      <td>-0.002331</td>\n",
       "      <td>-0.003062</td>\n",
       "      <td>-0.003423</td>\n",
       "      <td>0.000058</td>\n",
       "    </tr>\n",
       "    <tr>\n",
       "      <th>2005-10-14</th>\n",
       "      <td>-0.007856</td>\n",
       "      <td>0.001569</td>\n",
       "      <td>-0.002991</td>\n",
       "      <td>-0.000564</td>\n",
       "      <td>0.000060</td>\n",
       "      <td>0.001618</td>\n",
       "      <td>0.000058</td>\n",
       "    </tr>\n",
       "    <tr>\n",
       "      <th>2005-10-17</th>\n",
       "      <td>-0.003613</td>\n",
       "      <td>0.000492</td>\n",
       "      <td>0.003290</td>\n",
       "      <td>0.000458</td>\n",
       "      <td>-0.000227</td>\n",
       "      <td>0.005447</td>\n",
       "      <td>0.000173</td>\n",
       "    </tr>\n",
       "  </tbody>\n",
       "</table>\n",
       "</div>"
      ],
      "text/plain": [
       "                REEL        PE  MSCIWORLD        IG       GOV        HY  \\\n",
       "Date                                                                      \n",
       "2005-10-11  0.003231  0.006833   0.004578 -0.001342 -0.001916 -0.004075   \n",
       "2005-10-12 -0.003550 -0.009657  -0.007867 -0.002606 -0.001570 -0.004370   \n",
       "2005-10-13 -0.018599 -0.010692   0.000588 -0.002331 -0.003062 -0.003423   \n",
       "2005-10-14 -0.007856  0.001569  -0.002991 -0.000564  0.000060  0.001618   \n",
       "2005-10-17 -0.003613  0.000492   0.003290  0.000458 -0.000227  0.005447   \n",
       "\n",
       "               EONIA  \n",
       "Date                  \n",
       "2005-10-11  0.000054  \n",
       "2005-10-12  0.000058  \n",
       "2005-10-13  0.000058  \n",
       "2005-10-14  0.000058  \n",
       "2005-10-17  0.000173  "
      ]
     },
     "execution_count": 5,
     "metadata": {},
     "output_type": "execute_result"
    }
   ],
   "source": [
    "returns_df = fetch_data_df()\n",
    "\n",
    "returns_df.head()"
   ]
  },
  {
   "cell_type": "code",
   "execution_count": 6,
   "metadata": {},
   "outputs": [
    {
     "data": {
      "text/plain": [
       "(4671, 7)"
      ]
     },
     "execution_count": 6,
     "metadata": {},
     "output_type": "execute_result"
    }
   ],
   "source": [
    "returns_df.shape"
   ]
  },
  {
   "cell_type": "markdown",
   "metadata": {},
   "source": [
    "### Defining Parameters"
   ]
  },
  {
   "cell_type": "code",
   "execution_count": 7,
   "metadata": {},
   "outputs": [],
   "source": [
    "assets_0 = int(os.getenv(\"INIT_ASSETS\"))\n",
    "liabilities_0 = assets_0 * os.getenv(\"FRAC_LIABILITIES\")\n",
    "n_simulations = int(os.getenv(\"N_SIMULATIONS\"))\n",
    "n_days = int(os.getenv(\"N_DAYS\"))\n",
    "\n",
    "# Example weights\n",
    "weights = np.array([0.0, 0.0, 0.5, 0.0, 0.5, 0.00, 0.0]) \n",
    "\n",
    "asset_classes = returns_df.columns"
   ]
  },
  {
   "cell_type": "markdown",
   "metadata": {},
   "source": [
    "### Creating Monte Carlo with Copulas\n",
    "Assuming t-student"
   ]
  },
  {
   "cell_type": "code",
   "execution_count": 8,
   "metadata": {},
   "outputs": [
    {
     "name": "stdout",
     "output_type": "stream",
     "text": [
      "Data shape for copula fitting: (4671, 7)\n"
     ]
    },
    {
     "data": {
      "text/html": [
       "<div>\n",
       "<style scoped>\n",
       "    .dataframe tbody tr th:only-of-type {\n",
       "        vertical-align: middle;\n",
       "    }\n",
       "\n",
       "    .dataframe tbody tr th {\n",
       "        vertical-align: top;\n",
       "    }\n",
       "\n",
       "    .dataframe thead th {\n",
       "        text-align: right;\n",
       "    }\n",
       "</style>\n",
       "<table border=\"1\" class=\"dataframe\">\n",
       "  <thead>\n",
       "    <tr style=\"text-align: right;\">\n",
       "      <th></th>\n",
       "      <th>REEL</th>\n",
       "      <th>PE</th>\n",
       "      <th>MSCIWORLD</th>\n",
       "      <th>IG</th>\n",
       "      <th>GOV</th>\n",
       "      <th>HY</th>\n",
       "      <th>EONIA</th>\n",
       "    </tr>\n",
       "    <tr>\n",
       "      <th>Date</th>\n",
       "      <th></th>\n",
       "      <th></th>\n",
       "      <th></th>\n",
       "      <th></th>\n",
       "      <th></th>\n",
       "      <th></th>\n",
       "      <th></th>\n",
       "    </tr>\n",
       "  </thead>\n",
       "  <tbody>\n",
       "    <tr>\n",
       "      <th>2005-10-11</th>\n",
       "      <td>0.618151</td>\n",
       "      <td>0.751498</td>\n",
       "      <td>0.712543</td>\n",
       "      <td>0.221104</td>\n",
       "      <td>0.196276</td>\n",
       "      <td>0.047731</td>\n",
       "      <td>0.718964</td>\n",
       "    </tr>\n",
       "    <tr>\n",
       "      <th>2005-10-12</th>\n",
       "      <td>0.334974</td>\n",
       "      <td>0.150899</td>\n",
       "      <td>0.137628</td>\n",
       "      <td>0.105522</td>\n",
       "      <td>0.234803</td>\n",
       "      <td>0.043450</td>\n",
       "      <td>0.724636</td>\n",
       "    </tr>\n",
       "    <tr>\n",
       "      <th>2005-10-13</th>\n",
       "      <td>0.063142</td>\n",
       "      <td>0.133348</td>\n",
       "      <td>0.485017</td>\n",
       "      <td>0.125856</td>\n",
       "      <td>0.110445</td>\n",
       "      <td>0.061216</td>\n",
       "      <td>0.724636</td>\n",
       "    </tr>\n",
       "    <tr>\n",
       "      <th>2005-10-14</th>\n",
       "      <td>0.205265</td>\n",
       "      <td>0.526969</td>\n",
       "      <td>0.290454</td>\n",
       "      <td>0.343750</td>\n",
       "      <td>0.477954</td>\n",
       "      <td>0.806721</td>\n",
       "      <td>0.724636</td>\n",
       "    </tr>\n",
       "    <tr>\n",
       "      <th>2005-10-17</th>\n",
       "      <td>0.331764</td>\n",
       "      <td>0.476241</td>\n",
       "      <td>0.650899</td>\n",
       "      <td>0.548801</td>\n",
       "      <td>0.428938</td>\n",
       "      <td>0.971533</td>\n",
       "      <td>0.949700</td>\n",
       "    </tr>\n",
       "  </tbody>\n",
       "</table>\n",
       "</div>"
      ],
      "text/plain": [
       "                REEL        PE  MSCIWORLD        IG       GOV        HY  \\\n",
       "Date                                                                      \n",
       "2005-10-11  0.618151  0.751498   0.712543  0.221104  0.196276  0.047731   \n",
       "2005-10-12  0.334974  0.150899   0.137628  0.105522  0.234803  0.043450   \n",
       "2005-10-13  0.063142  0.133348   0.485017  0.125856  0.110445  0.061216   \n",
       "2005-10-14  0.205265  0.526969   0.290454  0.343750  0.477954  0.806721   \n",
       "2005-10-17  0.331764  0.476241   0.650899  0.548801  0.428938  0.971533   \n",
       "\n",
       "               EONIA  \n",
       "Date                  \n",
       "2005-10-11  0.718964  \n",
       "2005-10-12  0.724636  \n",
       "2005-10-13  0.724636  \n",
       "2005-10-14  0.724636  \n",
       "2005-10-17  0.949700  "
      ]
     },
     "execution_count": 8,
     "metadata": {},
     "output_type": "execute_result"
    }
   ],
   "source": [
    "# Transform Returns to Uniform Marginals (Empirical CDF)\n",
    "# Each asset's returns are converted to percentiles (uniform [0,1] space)\n",
    "uniform_data = returns_df.apply(lambda x: rankdata(x) / (len(x) + 1), axis=0)\n",
    "\n",
    "print(\"Data shape for copula fitting:\", uniform_data.shape)\n",
    "uniform_data.head()"
   ]
  },
  {
   "cell_type": "code",
   "execution_count": 9,
   "metadata": {},
   "outputs": [
    {
     "name": "stderr",
     "output_type": "stream",
     "text": [
      "/Users/nickaskari/opt/anaconda3/lib/python3.9/site-packages/scipy/optimize/optimize.py:282: RuntimeWarning: Values in x were outside bounds during a minimize step, clipping to bounds\n",
      "  warnings.warn(\"Values in x were outside bounds during a \"\n"
     ]
    },
    {
     "name": "stdout",
     "output_type": "stream",
     "text": [
      "              REEL           PE    MSCIWORLD           IG          GOV  \\\n",
      "count  4671.000000  4671.000000  4671.000000  4671.000000  4671.000000   \n",
      "mean      0.500000     0.500000     0.500000     0.500000     0.500000   \n",
      "std       0.288644     0.288644     0.288644     0.288644     0.288644   \n",
      "min       0.000214     0.000214     0.000214     0.000214     0.000214   \n",
      "25%       0.250107     0.250107     0.250107     0.250107     0.250107   \n",
      "50%       0.500000     0.500000     0.500000     0.500000     0.500000   \n",
      "75%       0.749893     0.749893     0.749893     0.749893     0.749893   \n",
      "max       0.999786     0.999786     0.999786     0.999786     0.999786   \n",
      "\n",
      "                HY        EONIA  \n",
      "count  4671.000000  4671.000000  \n",
      "mean      0.500000     0.500000  \n",
      "std       0.288644     0.288644  \n",
      "min       0.000214     0.000214  \n",
      "25%       0.250107     0.250749  \n",
      "50%       0.500000     0.500000  \n",
      "75%       0.749893     0.749893  \n",
      "max       0.999786     0.999786  \n"
     ]
    },
    {
     "data": {
      "text/plain": [
       "<copulae.elliptical.student.StudentCopula at 0x7f87697f2c10>"
      ]
     },
     "execution_count": 9,
     "metadata": {},
     "output_type": "execute_result"
    }
   ],
   "source": [
    "# Fit Student-t Copula\n",
    "\n",
    "# Initialize Student Copula with appropriate dimension\n",
    "ndim = uniform_data.shape[1]\n",
    "t_cop = StudentCopula(dim=ndim)\n",
    "t_cop.fit(uniform_data)\n"
   ]
  },
  {
   "cell_type": "code",
   "execution_count": 11,
   "metadata": {},
   "outputs": [],
   "source": [
    "# Generate uniform samples that preserve the dependencies\n",
    "simulated_uniforms = t_cop.random(n_simulations * n_days).to_numpy().reshape(n_simulations, n_days, uniform_data.shape[1])\n",
    "\n",
    "# Transform Uniform Samples Back to Returns (Inverse CDF)\n",
    "simulated_returns = np.zeros_like(simulated_uniforms)"
   ]
  },
  {
   "cell_type": "code",
   "execution_count": 12,
   "metadata": {},
   "outputs": [],
   "source": [
    "# Fit Student-t marginals to each asset's returns\n",
    "for i, col in enumerate(returns_df.columns):\n",
    "    params = t.fit(returns_df[col])  # Fit Student-t distribution for each asset\n",
    "    simulated_returns[:, :, i] = t.ppf(simulated_uniforms[:, :, i], *params)"
   ]
  },
  {
   "cell_type": "code",
   "execution_count": 13,
   "metadata": {},
   "outputs": [],
   "source": [
    "# Step 6: Aggregate Portfolio Returns (Equally Weighted Portfolio)\n",
    "weights = np.array([1 / uniform_data.shape[1]] * uniform_data.shape[1])  # Equal weights\n",
    "portfolio_returns = np.sum(simulated_returns * weights, axis=2)"
   ]
  },
  {
   "cell_type": "code",
   "execution_count": 14,
   "metadata": {},
   "outputs": [],
   "source": [
    "# Compute cumulative returns over the simulation horizon\n",
    "cumulative_returns = np.prod(1 + portfolio_returns, axis=1) - 1"
   ]
  },
  {
   "cell_type": "code",
   "execution_count": 15,
   "metadata": {},
   "outputs": [
    {
     "data": {
      "image/png": "[encoded data removed]",
      "text/plain": [
       "<Figure size 720x432 with 1 Axes>"
      ]
     },
     "metadata": {
      "needs_background": "light"
     },
     "output_type": "display_data"
    },
    {
     "name": "stdout",
     "output_type": "stream",
     "text": [
      "Value at Risk (95% confidence): -4.38%\n",
      "Expected Annual Return: 10.97%\n",
      "Annual Standard Deviation: 10.37%\n"
     ]
    }
   ],
   "source": [
    "plt.figure(figsize=(10, 6))\n",
    "plt.hist(cumulative_returns, bins=100, edgecolor='black')\n",
    "plt.title('Monte Carlo Simulation of Portfolio Returns Using Student-t Copula (copulae)')\n",
    "plt.xlabel('Cumulative Return')\n",
    "plt.ylabel('Frequency')\n",
    "plt.show()\n",
    "\n",
    "VaR_95 = np.percentile(cumulative_returns, 5)\n",
    "expected_return = np.mean(cumulative_returns)\n",
    "std_dev = np.std(cumulative_returns)\n",
    "\n",
    "print(f\"Value at Risk (95% confidence): {VaR_95:.2%}\")\n",
    "print(f\"Expected Annual Return: {expected_return:.2%}\")\n",
    "print(f\"Annual Standard Deviation: {std_dev:.2%}\")"
   ]
  },
  {
   "cell_type": "code",
   "execution_count": null,
   "metadata": {},
   "outputs": [],
   "source": []
  }
 ],
 "metadata": {
  "kernelspec": {
   "display_name": "base",
   "language": "python",
   "name": "python3"
  },
  "language_info": {
   "codemirror_mode": {
    "name": "ipython",
    "version": 3
   },
   "file_extension": ".py",
   "mimetype": "text/x-python",
   "name": "python",
   "nbconvert_exporter": "python",
   "pygments_lexer": "ipython3",
   "version": "3.9.12"
  }
 },
 "nbformat": 4,
 "nbformat_minor": 2
}
