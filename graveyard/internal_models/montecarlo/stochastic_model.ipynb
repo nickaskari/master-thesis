{
 "cells": [
  {
   "cell_type": "markdown",
   "id": "236a7733",
   "metadata": {},
   "source": [
    "## Creating a Stochastic Model Benchmark"
   ]
  },
  {
   "cell_type": "code",
   "execution_count": 15,
   "id": "58eb5c9d",
   "metadata": {},
   "outputs": [
    {
     "data": {
      "text/plain": [
       "True"
      ]
     },
     "execution_count": 15,
     "metadata": {},
     "output_type": "execute_result"
    }
   ],
   "source": [
    "import pandas as pd  \n",
    "import numpy as np\n",
    "from scipy.stats import t, rankdata\n",
    "from copulae import StudentCopula\n",
    "import matplotlib.pyplot as plt\n",
    "from dotenv.main import load_dotenv\n",
    "from tqdm import tqdm\n",
    "import sys\n",
    "import os\n",
    "parent_dir = os.path.abspath(os.path.join(os.getcwd(), \"../../\"))\n",
    "sys.path.insert(0, parent_dir)\n",
    "\n",
    "load_dotenv(override=True)"
   ]
  },
  {
   "cell_type": "code",
   "execution_count": 16,
   "id": "b5c5283b",
   "metadata": {},
   "outputs": [],
   "source": [
    "assets_0 = int(os.getenv(\"INIT_ASSETS\"))\n",
    "liabilities_0 = int(os.getenv(\"INIT_ASSETS\")) * float(os.getenv(\"FRAC_LIABILITIES\"))\n",
    "num_simulations = int(os.getenv(\"N_SIMULATIONS\"))\n",
    "bof_0 = assets_0 - liabilities_0"
   ]
  },
  {
   "cell_type": "code",
   "execution_count": 17,
   "id": "8fd13eac",
   "metadata": {},
   "outputs": [
    {
     "data": {
      "text/plain": [
       "'c:\\\\Users\\\\nicka\\\\master-thesis'"
      ]
     },
     "execution_count": 17,
     "metadata": {},
     "output_type": "execute_result"
    }
   ],
   "source": [
    "parent_dir"
   ]
  },
  {
   "cell_type": "code",
   "execution_count": null,
   "id": "c28cc94d",
   "metadata": {},
   "outputs": [],
   "source": [
    "def fetch_data_df():\n",
    "    # Load the data\n",
    "    df = pd.read_csv('../../data/final_daily_returns_asset_classes.csv', index_col=0, parse_dates=True)\n",
    "    df.index = pd.to_datetime(df.index)\n",
    "    start_test_date = os.getenv(\"START_TEST_DATE\")\n",
    "    \n",
    "    if start_test_date is None:\n",
    "        raise ValueError(\"Environment variable 'START_TEST_DATE' is not set.\")\n",
    "\n",
    "    start_test_date = pd.to_datetime(start_test_date)\n",
    "\n",
    "    columns = [0,1,2,3,4,5,6] \n",
    "    selected_columns = df.iloc[:, columns]  # Remember: Python uses 0-based indexing\n",
    "\n",
    "    pre_test_df = selected_columns[selected_columns.index < start_test_date]\n",
    "    test_df = selected_columns[selected_columns.index >= start_test_date].iloc[:]\n",
    "    \n",
    "    return pre_test_df, test_df\n",
    "\n",
    "returns_df, test_returns_df = fetch_data_df()"
   ]
  },
  {
   "cell_type": "code",
   "execution_count": 19,
   "id": "534b7ac2",
   "metadata": {},
   "outputs": [],
   "source": [
    "asset_names = returns_df.columns\n",
    "\n",
    "num_assets = returns_df.shape[1]\n",
    "weights = np.full(num_assets, 1 / num_assets)  "
   ]
  },
  {
   "cell_type": "code",
   "execution_count": 20,
   "id": "6b9210c9",
   "metadata": {},
   "outputs": [],
   "source": [
    "entire_df = pd.concat([returns_df, test_returns_df])\n",
    "\n",
    "test_start_date = test_returns_df.index.min()\n",
    "test_end_date = test_returns_df.index.max()\n",
    "idx = entire_df.index.get_loc(test_end_date)\n",
    "idx_start = entire_df.index.get_loc(test_start_date)\n",
    "historical_df = entire_df.iloc[idx_start - 252:]\n",
    "historical_df.head()\n",
    "\n",
    "eonia = historical_df.iloc[:, -1]\n",
    "bof_0 = assets_0 - liabilities_0"
   ]
  },
  {
   "cell_type": "markdown",
   "id": "978d6287",
   "metadata": {},
   "source": [
    "# Creating Testing Data"
   ]
  },
  {
   "cell_type": "code",
   "execution_count": 21,
   "id": "c721d9f7",
   "metadata": {},
   "outputs": [],
   "source": [
    "n_windows = len(historical_df) - 252 + 1\n",
    "\n",
    "window_start_dates = []\n",
    "window_end_dates = []\n",
    "realized_delta_bof_values_1 = []\n",
    "\n",
    "for t in range(n_windows):\n",
    "    # Get window data\n",
    "    window_data = historical_df.iloc[t:t+252]\n",
    "    window_start_date = historical_df.index[t]\n",
    "    window_end_date = historical_df.index[t+252-1]\n",
    "    \n",
    "    # Get returns and EONIA for this window\n",
    "    window_returns = (window_data * weights).sum(axis=1)\n",
    "    window_eonia = window_data.iloc[:, -1]\n",
    "    \n",
    "    # Calculate portfolio value at the end of the window\n",
    "    # Starting from assets_0 each time\n",
    "    portfolio_value_end = assets_0 * (1 + window_returns).prod() # This is analogous to the yearly return\n",
    "    \n",
    "    # Calculate liabilities at the end of the window\n",
    "    # Starting from liabilities_0 each time\n",
    "    liabilities_end = liabilities_0 * (1 + window_eonia).prod()\n",
    "    \n",
    "    # Calculate BOF at the end of the window\n",
    "    bof_end = portfolio_value_end - liabilities_end\n",
    "    delta_bof = bof_end - bof_0\n",
    "    \n",
    "    # Store results\n",
    "    window_start_dates.append(window_start_date)\n",
    "    window_end_dates.append(window_end_date)\n",
    "    realized_delta_bof_values_1.append(delta_bof)"
   ]
  },
  {
   "cell_type": "markdown",
   "id": "a8616808",
   "metadata": {},
   "source": [
    "## Concatonating all Stochastic Models\n",
    "\n",
    "Plan\n",
    "1. Same GBM with jumps model for all assets\n",
    "2. Special Model for EONIA\n",
    "3. Use some Copula --> Use Student-t Copula"
   ]
  },
  {
   "cell_type": "code",
   "execution_count": 22,
   "id": "b5cf2374",
   "metadata": {},
   "outputs": [],
   "source": [
    "#from internal_models.montecarlo.mc_jumpgbm import MonteCarloJumpGBM\n",
    "from internal_models.montecarlo.hybrid_mc import MonteCarloJumpGBM\n",
    "from internal_models.montecarlo.test import OptimizedMonteCarloJumpGBM\n",
    "from utilities.bof_var_plot import plot_bof_var"
   ]
  },
  {
   "cell_type": "markdown",
   "id": "71b01a72",
   "metadata": {},
   "source": [
    "Uncomment if you want to test some stuff"
   ]
  },
  {
   "cell_type": "code",
   "execution_count": 23,
   "id": "19e37b9a",
   "metadata": {},
   "outputs": [
    {
     "data": {
      "text/plain": [
       "'\\nmc = MonteCarloJumpGBM(returns_df, weights)\\nbof_change, scr, simulated_results = mc.calculate_distribution_and_scr()\\nplot_bof_var(bof_change, scr, title=\"sad\")\\n\\ndays = np.arange(252)\\n\\nasset = \\'EONIA\\' \\n\\n# Plot each simulation\\nplt.figure(figsize=(10, 6))\\nfor i in range(len(simulated_results)):\\n    plt.plot(days, simulated_results[i][asset], alpha=0.7)\\n    break\\n\\nplt.title(\\'Price Path of \\' + asset + \\' Asset Across All Simulations\\')\\nplt.xlabel(\\'Trading Days\\')\\nplt.ylabel(\\'Price\\')\\nplt.grid(True, alpha=0.3)\\nplt.show()\\n'"
      ]
     },
     "execution_count": 23,
     "metadata": {},
     "output_type": "execute_result"
    }
   ],
   "source": [
    "'''\n",
    "mc = MonteCarloJumpGBM(returns_df, weights)\n",
    "bof_change, scr, simulated_results = mc.calculate_distribution_and_scr()\n",
    "plot_bof_var(bof_change, scr, title=\"sad\")\n",
    "\n",
    "days = np.arange(252)\n",
    "\n",
    "asset = 'EONIA' \n",
    "\n",
    "# Plot each simulation\n",
    "plt.figure(figsize=(10, 6))\n",
    "for i in range(len(simulated_results)):\n",
    "    plt.plot(days, simulated_results[i][asset], alpha=0.7)\n",
    "    break\n",
    "\n",
    "plt.title('Price Path of ' + asset + ' Asset Across All Simulations')\n",
    "plt.xlabel('Trading Days')\n",
    "plt.ylabel('Price')\n",
    "plt.grid(True, alpha=0.3)\n",
    "plt.show()\n",
    "'''\n"
   ]
  },
  {
   "cell_type": "markdown",
   "id": "9808f835",
   "metadata": {},
   "source": [
    "## Generating all test SCRs"
   ]
  },
  {
   "cell_type": "code",
   "execution_count": 24,
   "id": "ea50d8c5",
   "metadata": {},
   "outputs": [],
   "source": [
    "entire_df = pd.concat([returns_df, test_returns_df])"
   ]
  },
  {
   "cell_type": "code",
   "execution_count": null,
   "id": "e3ba4388",
   "metadata": {},
   "outputs": [
    {
     "name": "stderr",
     "output_type": "stream",
     "text": [
      "Processing Dates:   0%|          | 0/100 [00:00<?, ?Date/s]"
     ]
    },
    {
     "name": "stdout",
     "output_type": "stream",
     "text": [
      "Running 10000 simulations with 16 workers and batch size 156\n"
     ]
    },
    {
     "name": "stderr",
     "output_type": "stream",
     "text": [
      "MonteCarlo Simulation: 100%|██████████| 65/65 [00:12<00:00,  5.13batch/s]\n",
      "Processing Dates:   1%|          | 1/100 [00:14<23:10, 14.05s/Date]"
     ]
    },
    {
     "name": "stdout",
     "output_type": "stream",
     "text": [
      "Completed 10000 simulations in 13.85 seconds\n",
      "Running 10000 simulations with 16 workers and batch size 156\n"
     ]
    },
    {
     "name": "stderr",
     "output_type": "stream",
     "text": [
      "MonteCarlo Simulation: 100%|██████████| 65/65 [00:13<00:00,  4.90batch/s]\n",
      "Processing Dates:   2%|▏         | 2/100 [00:28<23:28, 14.37s/Date]"
     ]
    },
    {
     "name": "stdout",
     "output_type": "stream",
     "text": [
      "Completed 10000 simulations in 14.41 seconds\n",
      "Running 10000 simulations with 16 workers and batch size 156\n"
     ]
    },
    {
     "name": "stderr",
     "output_type": "stream",
     "text": [
      "MonteCarlo Simulation: 100%|██████████| 65/65 [00:13<00:00,  4.84batch/s]\n",
      "Processing Dates:   3%|▎         | 3/100 [00:43<23:35, 14.59s/Date]"
     ]
    },
    {
     "name": "stdout",
     "output_type": "stream",
     "text": [
      "Completed 10000 simulations in 14.67 seconds\n",
      "Running 10000 simulations with 16 workers and batch size 156\n"
     ]
    },
    {
     "name": "stderr",
     "output_type": "stream",
     "text": [
      "MonteCarlo Simulation: 100%|██████████| 65/65 [00:13<00:00,  4.68batch/s]\n"
     ]
    },
    {
     "name": "stdout",
     "output_type": "stream",
     "text": [
      "Completed 10000 simulations in 15.18 seconds\n"
     ]
    },
    {
     "name": "stderr",
     "output_type": "stream",
     "text": [
      "Processing Dates:   4%|▍         | 4/100 [00:58<23:50, 14.90s/Date]"
     ]
    },
    {
     "name": "stdout",
     "output_type": "stream",
     "text": [
      "Running 10000 simulations with 16 workers and batch size 156\n"
     ]
    },
    {
     "name": "stderr",
     "output_type": "stream",
     "text": [
      "MonteCarlo Simulation: 100%|██████████| 65/65 [00:13<00:00,  4.92batch/s]\n"
     ]
    },
    {
     "name": "stdout",
     "output_type": "stream",
     "text": [
      "Completed 10000 simulations in 14.35 seconds\n"
     ]
    },
    {
     "name": "stderr",
     "output_type": "stream",
     "text": [
      "Processing Dates:   5%|▌         | 5/100 [01:13<23:23, 14.77s/Date]"
     ]
    },
    {
     "name": "stdout",
     "output_type": "stream",
     "text": [
      "Running 10000 simulations with 16 workers and batch size 156\n"
     ]
    },
    {
     "name": "stderr",
     "output_type": "stream",
     "text": [
      "MonteCarlo Simulation: 100%|██████████| 65/65 [00:13<00:00,  4.80batch/s]\n",
      "Processing Dates:   6%|▌         | 6/100 [01:28<23:13, 14.83s/Date]"
     ]
    },
    {
     "name": "stdout",
     "output_type": "stream",
     "text": [
      "Completed 10000 simulations in 14.76 seconds\n",
      "Running 10000 simulations with 16 workers and batch size 156\n"
     ]
    },
    {
     "name": "stderr",
     "output_type": "stream",
     "text": [
      "MonteCarlo Simulation: 100%|██████████| 65/65 [00:13<00:00,  4.78batch/s]\n"
     ]
    },
    {
     "name": "stdout",
     "output_type": "stream",
     "text": [
      "Completed 10000 simulations in 14.80 seconds\n"
     ]
    },
    {
     "name": "stderr",
     "output_type": "stream",
     "text": [
      "Processing Dates:   7%|▋         | 7/100 [01:43<23:10, 14.95s/Date]"
     ]
    },
    {
     "name": "stdout",
     "output_type": "stream",
     "text": [
      "Running 10000 simulations with 16 workers and batch size 156\n"
     ]
    },
    {
     "name": "stderr",
     "output_type": "stream",
     "text": [
      "MonteCarlo Simulation: 100%|██████████| 65/65 [00:13<00:00,  4.80batch/s]\n",
      "Processing Dates:   8%|▊         | 8/100 [01:58<22:57, 14.97s/Date]"
     ]
    },
    {
     "name": "stdout",
     "output_type": "stream",
     "text": [
      "Completed 10000 simulations in 14.83 seconds\n",
      "Running 10000 simulations with 16 workers and batch size 156\n"
     ]
    },
    {
     "name": "stderr",
     "output_type": "stream",
     "text": [
      "MonteCarlo Simulation: 100%|██████████| 65/65 [00:13<00:00,  4.85batch/s]\n",
      "Processing Dates:   9%|▉         | 9/100 [02:13<22:40, 14.95s/Date]"
     ]
    },
    {
     "name": "stdout",
     "output_type": "stream",
     "text": [
      "Completed 10000 simulations in 14.72 seconds\n",
      "Running 10000 simulations with 16 workers and batch size 156\n"
     ]
    },
    {
     "name": "stderr",
     "output_type": "stream",
     "text": [
      "MonteCarlo Simulation: 100%|██████████| 65/65 [00:13<00:00,  4.85batch/s]\n",
      "Processing Dates:  10%|█         | 10/100 [02:28<22:21, 14.91s/Date]"
     ]
    },
    {
     "name": "stdout",
     "output_type": "stream",
     "text": [
      "Completed 10000 simulations in 14.62 seconds\n",
      "Running 10000 simulations with 16 workers and batch size 156\n"
     ]
    },
    {
     "name": "stderr",
     "output_type": "stream",
     "text": [
      "MonteCarlo Simulation: 100%|██████████| 65/65 [00:13<00:00,  4.75batch/s]\n",
      "Processing Dates:  11%|█         | 11/100 [02:43<22:12, 14.97s/Date]"
     ]
    },
    {
     "name": "stdout",
     "output_type": "stream",
     "text": [
      "Completed 10000 simulations in 14.94 seconds\n",
      "Running 10000 simulations with 16 workers and batch size 156\n"
     ]
    },
    {
     "name": "stderr",
     "output_type": "stream",
     "text": [
      "MonteCarlo Simulation: 100%|██████████| 65/65 [00:13<00:00,  4.89batch/s]\n"
     ]
    },
    {
     "name": "stdout",
     "output_type": "stream",
     "text": [
      "Completed 10000 simulations in 14.44 seconds\n"
     ]
    },
    {
     "name": "stderr",
     "output_type": "stream",
     "text": [
      "Processing Dates:  12%|█▏        | 12/100 [02:58<21:54, 14.93s/Date]"
     ]
    },
    {
     "name": "stdout",
     "output_type": "stream",
     "text": [
      "Running 10000 simulations with 16 workers and batch size 156\n"
     ]
    },
    {
     "name": "stderr",
     "output_type": "stream",
     "text": [
      "MonteCarlo Simulation: 100%|██████████| 65/65 [00:13<00:00,  4.84batch/s]\n",
      "Processing Dates:  13%|█▎        | 13/100 [03:13<21:35, 14.90s/Date]"
     ]
    },
    {
     "name": "stdout",
     "output_type": "stream",
     "text": [
      "Completed 10000 simulations in 14.62 seconds\n",
      "Running 10000 simulations with 16 workers and batch size 156\n"
     ]
    },
    {
     "name": "stderr",
     "output_type": "stream",
     "text": [
      "MonteCarlo Simulation: 100%|██████████| 65/65 [00:13<00:00,  4.83batch/s]\n",
      "Processing Dates:  14%|█▍        | 14/100 [03:28<21:23, 14.93s/Date]"
     ]
    },
    {
     "name": "stdout",
     "output_type": "stream",
     "text": [
      "Completed 10000 simulations in 14.82 seconds\n",
      "Running 10000 simulations with 16 workers and batch size 156\n"
     ]
    },
    {
     "name": "stderr",
     "output_type": "stream",
     "text": [
      "MonteCarlo Simulation: 100%|██████████| 65/65 [00:13<00:00,  4.92batch/s]\n"
     ]
    },
    {
     "name": "stdout",
     "output_type": "stream",
     "text": [
      "Completed 10000 simulations in 14.47 seconds\n"
     ]
    },
    {
     "name": "stderr",
     "output_type": "stream",
     "text": [
      "Processing Dates:  15%|█▌        | 15/100 [03:42<21:01, 14.84s/Date]"
     ]
    },
    {
     "name": "stdout",
     "output_type": "stream",
     "text": [
      "Running 10000 simulations with 16 workers and batch size 156\n"
     ]
    },
    {
     "name": "stderr",
     "output_type": "stream",
     "text": [
      "MonteCarlo Simulation: 100%|██████████| 65/65 [00:13<00:00,  4.86batch/s]\n",
      "Processing Dates:  16%|█▌        | 16/100 [03:57<20:43, 14.80s/Date]"
     ]
    },
    {
     "name": "stdout",
     "output_type": "stream",
     "text": [
      "Completed 10000 simulations in 14.52 seconds\n",
      "Running 10000 simulations with 16 workers and batch size 156\n"
     ]
    },
    {
     "name": "stderr",
     "output_type": "stream",
     "text": [
      "MonteCarlo Simulation: 100%|██████████| 65/65 [00:13<00:00,  4.93batch/s]\n"
     ]
    },
    {
     "name": "stdout",
     "output_type": "stream",
     "text": [
      "Completed 10000 simulations in 14.45 seconds\n"
     ]
    },
    {
     "name": "stderr",
     "output_type": "stream",
     "text": [
      "Processing Dates:  17%|█▋        | 17/100 [04:12<20:29, 14.82s/Date]"
     ]
    },
    {
     "name": "stdout",
     "output_type": "stream",
     "text": [
      "Running 10000 simulations with 16 workers and batch size 156\n"
     ]
    },
    {
     "name": "stderr",
     "output_type": "stream",
     "text": [
      "MonteCarlo Simulation: 100%|██████████| 65/65 [00:13<00:00,  4.89batch/s]\n",
      "Processing Dates:  18%|█▊        | 18/100 [04:26<20:09, 14.75s/Date]"
     ]
    },
    {
     "name": "stdout",
     "output_type": "stream",
     "text": [
      "Completed 10000 simulations in 14.42 seconds\n",
      "Running 10000 simulations with 16 workers and batch size 156\n"
     ]
    },
    {
     "name": "stderr",
     "output_type": "stream",
     "text": [
      "MonteCarlo Simulation: 100%|██████████| 65/65 [00:13<00:00,  4.80batch/s]\n"
     ]
    },
    {
     "name": "stdout",
     "output_type": "stream",
     "text": [
      "Completed 10000 simulations in 14.68 seconds\n"
     ]
    },
    {
     "name": "stderr",
     "output_type": "stream",
     "text": [
      "Processing Dates:  19%|█▉        | 19/100 [04:41<19:57, 14.79s/Date]"
     ]
    },
    {
     "name": "stdout",
     "output_type": "stream",
     "text": [
      "Running 10000 simulations with 16 workers and batch size 156\n"
     ]
    },
    {
     "name": "stderr",
     "output_type": "stream",
     "text": [
      "MonteCarlo Simulation: 100%|██████████| 65/65 [00:13<00:00,  4.89batch/s]\n"
     ]
    },
    {
     "name": "stdout",
     "output_type": "stream",
     "text": [
      "Completed 10000 simulations in 14.54 seconds\n"
     ]
    },
    {
     "name": "stderr",
     "output_type": "stream",
     "text": [
      "Processing Dates:  20%|██        | 20/100 [04:56<19:41, 14.77s/Date]"
     ]
    },
    {
     "name": "stdout",
     "output_type": "stream",
     "text": [
      "Running 10000 simulations with 16 workers and batch size 156\n"
     ]
    },
    {
     "name": "stderr",
     "output_type": "stream",
     "text": [
      "MonteCarlo Simulation: 100%|██████████| 65/65 [00:13<00:00,  4.79batch/s]\n",
      "Processing Dates:  21%|██        | 21/100 [05:11<19:29, 14.80s/Date]"
     ]
    },
    {
     "name": "stdout",
     "output_type": "stream",
     "text": [
      "Completed 10000 simulations in 14.70 seconds\n",
      "Running 10000 simulations with 16 workers and batch size 156\n"
     ]
    },
    {
     "name": "stderr",
     "output_type": "stream",
     "text": [
      "MonteCarlo Simulation: 100%|██████████| 65/65 [00:13<00:00,  4.83batch/s]\n"
     ]
    },
    {
     "name": "stdout",
     "output_type": "stream",
     "text": [
      "Completed 10000 simulations in 14.67 seconds\n"
     ]
    },
    {
     "name": "stderr",
     "output_type": "stream",
     "text": [
      "Processing Dates:  22%|██▏       | 22/100 [05:26<19:21, 14.89s/Date]"
     ]
    },
    {
     "name": "stdout",
     "output_type": "stream",
     "text": [
      "Running 10000 simulations with 16 workers and batch size 156\n"
     ]
    },
    {
     "name": "stderr",
     "output_type": "stream",
     "text": [
      "MonteCarlo Simulation: 100%|██████████| 65/65 [00:13<00:00,  4.81batch/s]\n",
      "Processing Dates:  23%|██▎       | 23/100 [05:41<19:05, 14.88s/Date]"
     ]
    },
    {
     "name": "stdout",
     "output_type": "stream",
     "text": [
      "Completed 10000 simulations in 14.65 seconds\n",
      "Running 10000 simulations with 16 workers and batch size 156\n"
     ]
    },
    {
     "name": "stderr",
     "output_type": "stream",
     "text": [
      "MonteCarlo Simulation: 100%|██████████| 65/65 [00:13<00:00,  4.71batch/s]\n",
      "Processing Dates:  24%|██▍       | 24/100 [05:56<18:59, 14.99s/Date]"
     ]
    },
    {
     "name": "stdout",
     "output_type": "stream",
     "text": [
      "Completed 10000 simulations in 15.06 seconds\n",
      "Running 10000 simulations with 16 workers and batch size 156\n"
     ]
    },
    {
     "name": "stderr",
     "output_type": "stream",
     "text": [
      "MonteCarlo Simulation: 100%|██████████| 65/65 [00:13<00:00,  4.80batch/s]\n",
      "Processing Dates:  25%|██▌       | 25/100 [06:11<18:43, 14.98s/Date]"
     ]
    },
    {
     "name": "stdout",
     "output_type": "stream",
     "text": [
      "Completed 10000 simulations in 14.78 seconds\n",
      "Running 10000 simulations with 16 workers and batch size 156\n"
     ]
    },
    {
     "name": "stderr",
     "output_type": "stream",
     "text": [
      "MonteCarlo Simulation: 100%|██████████| 65/65 [00:14<00:00,  4.56batch/s]\n",
      "Processing Dates:  26%|██▌       | 26/100 [06:27<18:43, 15.19s/Date]"
     ]
    },
    {
     "name": "stdout",
     "output_type": "stream",
     "text": [
      "Completed 10000 simulations in 15.49 seconds\n",
      "Running 10000 simulations with 16 workers and batch size 156\n"
     ]
    },
    {
     "name": "stderr",
     "output_type": "stream",
     "text": [
      "MonteCarlo Simulation: 100%|██████████| 65/65 [00:13<00:00,  4.86batch/s]\n"
     ]
    },
    {
     "name": "stdout",
     "output_type": "stream",
     "text": [
      "Completed 10000 simulations in 14.52 seconds\n"
     ]
    },
    {
     "name": "stderr",
     "output_type": "stream",
     "text": [
      "Processing Dates:  27%|██▋       | 27/100 [06:42<18:23, 15.12s/Date]"
     ]
    },
    {
     "name": "stdout",
     "output_type": "stream",
     "text": [
      "Running 10000 simulations with 16 workers and batch size 156\n"
     ]
    },
    {
     "name": "stderr",
     "output_type": "stream",
     "text": [
      "MonteCarlo Simulation: 100%|██████████| 65/65 [00:13<00:00,  4.78batch/s]\n",
      "Processing Dates:  28%|██▊       | 28/100 [06:57<18:08, 15.12s/Date]"
     ]
    },
    {
     "name": "stdout",
     "output_type": "stream",
     "text": [
      "Completed 10000 simulations in 14.93 seconds\n",
      "Running 10000 simulations with 16 workers and batch size 156\n"
     ]
    },
    {
     "name": "stderr",
     "output_type": "stream",
     "text": [
      "MonteCarlo Simulation: 100%|██████████| 65/65 [00:14<00:00,  4.58batch/s]\n",
      "Processing Dates:  29%|██▉       | 29/100 [07:12<18:05, 15.28s/Date]"
     ]
    },
    {
     "name": "stdout",
     "output_type": "stream",
     "text": [
      "Completed 10000 simulations in 15.47 seconds\n",
      "Running 10000 simulations with 16 workers and batch size 156\n"
     ]
    },
    {
     "name": "stderr",
     "output_type": "stream",
     "text": [
      "MonteCarlo Simulation: 100%|██████████| 65/65 [00:19<00:00,  3.36batch/s]\n",
      "Processing Dates:  30%|███       | 30/100 [07:33<19:46, 16.95s/Date]"
     ]
    },
    {
     "name": "stdout",
     "output_type": "stream",
     "text": [
      "Completed 10000 simulations in 20.66 seconds\n",
      "Running 10000 simulations with 16 workers and batch size 156\n"
     ]
    },
    {
     "name": "stderr",
     "output_type": "stream",
     "text": [
      "MonteCarlo Simulation: 100%|██████████| 65/65 [00:14<00:00,  4.61batch/s]\n",
      "Processing Dates:  31%|███       | 31/100 [07:49<19:01, 16.54s/Date]"
     ]
    },
    {
     "name": "stdout",
     "output_type": "stream",
     "text": [
      "Completed 10000 simulations in 15.39 seconds\n",
      "Running 10000 simulations with 16 workers and batch size 156\n"
     ]
    },
    {
     "name": "stderr",
     "output_type": "stream",
     "text": [
      "MonteCarlo Simulation: 100%|██████████| 65/65 [00:14<00:00,  4.51batch/s]\n"
     ]
    },
    {
     "name": "stdout",
     "output_type": "stream",
     "text": [
      "Completed 10000 simulations in 15.88 seconds\n"
     ]
    },
    {
     "name": "stderr",
     "output_type": "stream",
     "text": [
      "Processing Dates:  32%|███▏      | 32/100 [08:05<18:40, 16.47s/Date]"
     ]
    },
    {
     "name": "stdout",
     "output_type": "stream",
     "text": [
      "Running 10000 simulations with 16 workers and batch size 156\n"
     ]
    },
    {
     "name": "stderr",
     "output_type": "stream",
     "text": [
      "MonteCarlo Simulation: 100%|██████████| 65/65 [00:13<00:00,  4.70batch/s]\n",
      "Processing Dates:  33%|███▎      | 33/100 [08:20<18:00, 16.12s/Date]"
     ]
    },
    {
     "name": "stdout",
     "output_type": "stream",
     "text": [
      "Completed 10000 simulations in 15.11 seconds\n",
      "Running 10000 simulations with 16 workers and batch size 156\n"
     ]
    },
    {
     "name": "stderr",
     "output_type": "stream",
     "text": [
      "MonteCarlo Simulation: 100%|██████████| 65/65 [00:14<00:00,  4.57batch/s]\n"
     ]
    },
    {
     "name": "stdout",
     "output_type": "stream",
     "text": [
      "Completed 10000 simulations in 15.66 seconds\n"
     ]
    },
    {
     "name": "stderr",
     "output_type": "stream",
     "text": [
      "Processing Dates:  34%|███▍      | 34/100 [08:36<17:38, 16.04s/Date]"
     ]
    },
    {
     "name": "stdout",
     "output_type": "stream",
     "text": [
      "Running 10000 simulations with 16 workers and batch size 156\n"
     ]
    },
    {
     "name": "stderr",
     "output_type": "stream",
     "text": [
      "MonteCarlo Simulation: 100%|██████████| 65/65 [00:14<00:00,  4.55batch/s]\n",
      "Processing Dates:  35%|███▌      | 35/100 [08:52<17:18, 15.97s/Date]"
     ]
    },
    {
     "name": "stdout",
     "output_type": "stream",
     "text": [
      "Completed 10000 simulations in 15.62 seconds\n",
      "Running 10000 simulations with 16 workers and batch size 156\n"
     ]
    },
    {
     "name": "stderr",
     "output_type": "stream",
     "text": [
      "MonteCarlo Simulation: 100%|██████████| 65/65 [00:15<00:00,  4.11batch/s]\n",
      "Processing Dates:  36%|███▌      | 36/100 [09:10<17:30, 16.41s/Date]"
     ]
    },
    {
     "name": "stdout",
     "output_type": "stream",
     "text": [
      "Completed 10000 simulations in 17.23 seconds\n",
      "Running 10000 simulations with 16 workers and batch size 156\n"
     ]
    },
    {
     "name": "stderr",
     "output_type": "stream",
     "text": [
      "MonteCarlo Simulation: 100%|██████████| 65/65 [00:15<00:00,  4.19batch/s]\n"
     ]
    },
    {
     "name": "stdout",
     "output_type": "stream",
     "text": [
      "Completed 10000 simulations in 16.86 seconds\n"
     ]
    },
    {
     "name": "stderr",
     "output_type": "stream",
     "text": [
      "Processing Dates:  37%|███▋      | 37/100 [09:27<17:27, 16.62s/Date]"
     ]
    },
    {
     "name": "stdout",
     "output_type": "stream",
     "text": [
      "Running 10000 simulations with 16 workers and batch size 156\n"
     ]
    },
    {
     "name": "stderr",
     "output_type": "stream",
     "text": [
      "MonteCarlo Simulation: 100%|██████████| 65/65 [00:15<00:00,  4.32batch/s]\n"
     ]
    },
    {
     "name": "stdout",
     "output_type": "stream",
     "text": [
      "Completed 10000 simulations in 16.51 seconds\n"
     ]
    },
    {
     "name": "stderr",
     "output_type": "stream",
     "text": [
      "Processing Dates:  38%|███▊      | 38/100 [09:43<17:12, 16.65s/Date]"
     ]
    },
    {
     "name": "stdout",
     "output_type": "stream",
     "text": [
      "Running 10000 simulations with 16 workers and batch size 156\n"
     ]
    },
    {
     "name": "stderr",
     "output_type": "stream",
     "text": [
      "MonteCarlo Simulation: 100%|██████████| 65/65 [00:15<00:00,  4.12batch/s]\n"
     ]
    },
    {
     "name": "stdout",
     "output_type": "stream",
     "text": [
      "Completed 10000 simulations in 17.15 seconds\n"
     ]
    },
    {
     "name": "stderr",
     "output_type": "stream",
     "text": [
      "Processing Dates:  39%|███▉      | 39/100 [10:01<17:08, 16.85s/Date]"
     ]
    },
    {
     "name": "stdout",
     "output_type": "stream",
     "text": [
      "Running 10000 simulations with 16 workers and batch size 156\n"
     ]
    },
    {
     "name": "stderr",
     "output_type": "stream",
     "text": [
      "MonteCarlo Simulation: 100%|██████████| 65/65 [00:15<00:00,  4.12batch/s]\n",
      "Processing Dates:  40%|████      | 40/100 [10:18<16:59, 16.99s/Date]"
     ]
    },
    {
     "name": "stdout",
     "output_type": "stream",
     "text": [
      "Completed 10000 simulations in 17.11 seconds\n",
      "Running 10000 simulations with 16 workers and batch size 156\n"
     ]
    },
    {
     "name": "stderr",
     "output_type": "stream",
     "text": [
      "MonteCarlo Simulation: 100%|██████████| 65/65 [00:14<00:00,  4.38batch/s]\n"
     ]
    },
    {
     "name": "stdout",
     "output_type": "stream",
     "text": [
      "Completed 10000 simulations in 16.21 seconds\n"
     ]
    },
    {
     "name": "stderr",
     "output_type": "stream",
     "text": [
      "Processing Dates:  41%|████      | 41/100 [10:34<16:32, 16.82s/Date]"
     ]
    },
    {
     "name": "stdout",
     "output_type": "stream",
     "text": [
      "Running 10000 simulations with 16 workers and batch size 156\n"
     ]
    },
    {
     "name": "stderr",
     "output_type": "stream",
     "text": [
      "MonteCarlo Simulation: 100%|██████████| 65/65 [00:14<00:00,  4.45batch/s]\n"
     ]
    },
    {
     "name": "stdout",
     "output_type": "stream",
     "text": [
      "Completed 10000 simulations in 15.99 seconds\n"
     ]
    },
    {
     "name": "stderr",
     "output_type": "stream",
     "text": [
      "Processing Dates:  42%|████▏     | 42/100 [10:51<16:04, 16.63s/Date]"
     ]
    },
    {
     "name": "stdout",
     "output_type": "stream",
     "text": [
      "Running 10000 simulations with 16 workers and batch size 156\n"
     ]
    },
    {
     "name": "stderr",
     "output_type": "stream",
     "text": [
      "MonteCarlo Simulation: 100%|██████████| 65/65 [00:15<00:00,  4.21batch/s]\n",
      "Processing Dates:  43%|████▎     | 43/100 [11:08<15:53, 16.72s/Date]"
     ]
    },
    {
     "name": "stdout",
     "output_type": "stream",
     "text": [
      "Completed 10000 simulations in 16.74 seconds\n",
      "Running 10000 simulations with 16 workers and batch size 156\n"
     ]
    },
    {
     "name": "stderr",
     "output_type": "stream",
     "text": [
      "MonteCarlo Simulation: 100%|██████████| 65/65 [00:14<00:00,  4.64batch/s]\n"
     ]
    },
    {
     "name": "stdout",
     "output_type": "stream",
     "text": [
      "Completed 10000 simulations in 15.36 seconds\n"
     ]
    },
    {
     "name": "stderr",
     "output_type": "stream",
     "text": [
      "Processing Dates:  44%|████▍     | 44/100 [11:23<15:20, 16.44s/Date]"
     ]
    },
    {
     "name": "stdout",
     "output_type": "stream",
     "text": [
      "Running 10000 simulations with 16 workers and batch size 156\n"
     ]
    },
    {
     "name": "stderr",
     "output_type": "stream",
     "text": [
      "MonteCarlo Simulation: 100%|██████████| 65/65 [00:13<00:00,  4.64batch/s]\n",
      "Processing Dates:  45%|████▌     | 45/100 [11:39<14:49, 16.18s/Date]"
     ]
    },
    {
     "name": "stdout",
     "output_type": "stream",
     "text": [
      "Completed 10000 simulations in 15.38 seconds\n",
      "Running 10000 simulations with 16 workers and batch size 156\n"
     ]
    },
    {
     "name": "stderr",
     "output_type": "stream",
     "text": [
      "MonteCarlo Simulation: 100%|██████████| 65/65 [00:15<00:00,  4.30batch/s]\n"
     ]
    },
    {
     "name": "stdout",
     "output_type": "stream",
     "text": [
      "Completed 10000 simulations in 16.52 seconds\n"
     ]
    },
    {
     "name": "stderr",
     "output_type": "stream",
     "text": [
      "Processing Dates:  46%|████▌     | 46/100 [11:56<14:42, 16.34s/Date]"
     ]
    },
    {
     "name": "stdout",
     "output_type": "stream",
     "text": [
      "Running 10000 simulations with 16 workers and batch size 156\n"
     ]
    },
    {
     "name": "stderr",
     "output_type": "stream",
     "text": [
      "MonteCarlo Simulation: 100%|██████████| 65/65 [00:14<00:00,  4.61batch/s]\n",
      "Processing Dates:  47%|████▋     | 47/100 [12:12<14:18, 16.20s/Date]"
     ]
    },
    {
     "name": "stdout",
     "output_type": "stream",
     "text": [
      "Completed 10000 simulations in 15.68 seconds\n",
      "Running 10000 simulations with 16 workers and batch size 156\n"
     ]
    },
    {
     "name": "stderr",
     "output_type": "stream",
     "text": [
      "MonteCarlo Simulation: 100%|██████████| 65/65 [00:14<00:00,  4.54batch/s]\n"
     ]
    },
    {
     "name": "stdout",
     "output_type": "stream",
     "text": [
      "Completed 10000 simulations in 15.63 seconds\n"
     ]
    },
    {
     "name": "stderr",
     "output_type": "stream",
     "text": [
      "Processing Dates:  48%|████▊     | 48/100 [12:27<13:56, 16.09s/Date]"
     ]
    },
    {
     "name": "stdout",
     "output_type": "stream",
     "text": [
      "Running 10000 simulations with 16 workers and batch size 156\n"
     ]
    },
    {
     "name": "stderr",
     "output_type": "stream",
     "text": [
      "MonteCarlo Simulation: 100%|██████████| 65/65 [00:15<00:00,  4.21batch/s]\n"
     ]
    },
    {
     "name": "stdout",
     "output_type": "stream",
     "text": [
      "Completed 10000 simulations in 16.79 seconds\n"
     ]
    },
    {
     "name": "stderr",
     "output_type": "stream",
     "text": [
      "Processing Dates:  49%|████▉     | 49/100 [12:45<13:57, 16.43s/Date]"
     ]
    },
    {
     "name": "stdout",
     "output_type": "stream",
     "text": [
      "Running 10000 simulations with 16 workers and batch size 156\n"
     ]
    },
    {
     "name": "stderr",
     "output_type": "stream",
     "text": [
      "MonteCarlo Simulation: 100%|██████████| 65/65 [00:14<00:00,  4.47batch/s]\n",
      "Processing Dates:  50%|█████     | 50/100 [13:01<13:36, 16.32s/Date]"
     ]
    },
    {
     "name": "stdout",
     "output_type": "stream",
     "text": [
      "Completed 10000 simulations in 15.89 seconds\n",
      "Running 10000 simulations with 16 workers and batch size 156\n"
     ]
    },
    {
     "name": "stderr",
     "output_type": "stream",
     "text": [
      "MonteCarlo Simulation: 100%|██████████| 65/65 [00:14<00:00,  4.49batch/s]\n",
      "Processing Dates:  51%|█████     | 51/100 [13:17<13:14, 16.21s/Date]"
     ]
    },
    {
     "name": "stdout",
     "output_type": "stream",
     "text": [
      "Completed 10000 simulations in 15.76 seconds\n",
      "Running 10000 simulations with 16 workers and batch size 156\n"
     ]
    },
    {
     "name": "stderr",
     "output_type": "stream",
     "text": [
      "MonteCarlo Simulation: 100%|██████████| 65/65 [00:13<00:00,  4.67batch/s]\n",
      "Processing Dates:  52%|█████▏    | 52/100 [13:32<12:45, 15.96s/Date]"
     ]
    },
    {
     "name": "stdout",
     "output_type": "stream",
     "text": [
      "Completed 10000 simulations in 15.18 seconds\n",
      "Running 10000 simulations with 16 workers and batch size 156\n"
     ]
    },
    {
     "name": "stderr",
     "output_type": "stream",
     "text": [
      "MonteCarlo Simulation: 100%|██████████| 65/65 [00:14<00:00,  4.49batch/s]\n",
      "Processing Dates:  53%|█████▎    | 53/100 [13:48<12:29, 15.96s/Date]"
     ]
    },
    {
     "name": "stdout",
     "output_type": "stream",
     "text": [
      "Completed 10000 simulations in 15.76 seconds\n",
      "Running 10000 simulations with 16 workers and batch size 156\n"
     ]
    },
    {
     "name": "stderr",
     "output_type": "stream",
     "text": [
      "MonteCarlo Simulation: 100%|██████████| 65/65 [00:14<00:00,  4.51batch/s]\n"
     ]
    },
    {
     "name": "stdout",
     "output_type": "stream",
     "text": [
      "Completed 10000 simulations in 15.71 seconds\n"
     ]
    },
    {
     "name": "stderr",
     "output_type": "stream",
     "text": [
      "Processing Dates:  54%|█████▍    | 54/100 [14:04<12:18, 16.05s/Date]"
     ]
    },
    {
     "name": "stdout",
     "output_type": "stream",
     "text": [
      "Running 10000 simulations with 16 workers and batch size 156\n"
     ]
    },
    {
     "name": "stderr",
     "output_type": "stream",
     "text": [
      "MonteCarlo Simulation: 100%|██████████| 65/65 [00:14<00:00,  4.58batch/s]\n"
     ]
    },
    {
     "name": "stdout",
     "output_type": "stream",
     "text": [
      "Completed 10000 simulations in 15.58 seconds\n"
     ]
    },
    {
     "name": "stderr",
     "output_type": "stream",
     "text": [
      "Processing Dates:  55%|█████▌    | 55/100 [14:20<11:58, 15.97s/Date]"
     ]
    },
    {
     "name": "stdout",
     "output_type": "stream",
     "text": [
      "Running 10000 simulations with 16 workers and batch size 156\n"
     ]
    },
    {
     "name": "stderr",
     "output_type": "stream",
     "text": [
      "MonteCarlo Simulation: 100%|██████████| 65/65 [00:15<00:00,  4.31batch/s]\n"
     ]
    },
    {
     "name": "stdout",
     "output_type": "stream",
     "text": [
      "Completed 10000 simulations in 16.46 seconds\n"
     ]
    },
    {
     "name": "stderr",
     "output_type": "stream",
     "text": [
      "Processing Dates:  56%|█████▌    | 56/100 [14:37<11:51, 16.18s/Date]"
     ]
    },
    {
     "name": "stdout",
     "output_type": "stream",
     "text": [
      "Running 10000 simulations with 16 workers and batch size 156\n"
     ]
    },
    {
     "name": "stderr",
     "output_type": "stream",
     "text": [
      "MonteCarlo Simulation: 100%|██████████| 65/65 [00:13<00:00,  4.79batch/s]\n",
      "Processing Dates:  57%|█████▋    | 57/100 [14:52<11:21, 15.85s/Date]"
     ]
    },
    {
     "name": "stdout",
     "output_type": "stream",
     "text": [
      "Completed 10000 simulations in 14.87 seconds\n",
      "Running 10000 simulations with 16 workers and batch size 156\n"
     ]
    },
    {
     "name": "stderr",
     "output_type": "stream",
     "text": [
      "MonteCarlo Simulation: 100%|██████████| 65/65 [00:14<00:00,  4.47batch/s]\n",
      "Processing Dates:  58%|█████▊    | 58/100 [15:08<11:08, 15.92s/Date]"
     ]
    },
    {
     "name": "stdout",
     "output_type": "stream",
     "text": [
      "Completed 10000 simulations in 15.88 seconds\n",
      "Running 10000 simulations with 16 workers and batch size 156\n"
     ]
    },
    {
     "name": "stderr",
     "output_type": "stream",
     "text": [
      "MonteCarlo Simulation: 100%|██████████| 65/65 [00:13<00:00,  4.80batch/s]\n"
     ]
    },
    {
     "name": "stdout",
     "output_type": "stream",
     "text": [
      "Completed 10000 simulations in 14.71 seconds\n"
     ]
    },
    {
     "name": "stderr",
     "output_type": "stream",
     "text": [
      "Processing Dates:  59%|█████▉    | 59/100 [15:23<10:42, 15.68s/Date]"
     ]
    },
    {
     "name": "stdout",
     "output_type": "stream",
     "text": [
      "Running 10000 simulations with 16 workers and batch size 156\n"
     ]
    },
    {
     "name": "stderr",
     "output_type": "stream",
     "text": [
      "MonteCarlo Simulation: 100%|██████████| 65/65 [00:14<00:00,  4.39batch/s]\n",
      "Processing Dates:  60%|██████    | 60/100 [15:39<10:35, 15.88s/Date]"
     ]
    },
    {
     "name": "stdout",
     "output_type": "stream",
     "text": [
      "Completed 10000 simulations in 16.18 seconds\n",
      "Running 10000 simulations with 16 workers and batch size 156\n"
     ]
    },
    {
     "name": "stderr",
     "output_type": "stream",
     "text": [
      "MonteCarlo Simulation: 100%|██████████| 65/65 [00:13<00:00,  4.68batch/s]\n"
     ]
    },
    {
     "name": "stdout",
     "output_type": "stream",
     "text": [
      "Completed 10000 simulations in 15.04 seconds\n"
     ]
    },
    {
     "name": "stderr",
     "output_type": "stream",
     "text": [
      "Processing Dates:  61%|██████    | 61/100 [15:55<10:12, 15.69s/Date]"
     ]
    },
    {
     "name": "stdout",
     "output_type": "stream",
     "text": [
      "Running 10000 simulations with 16 workers and batch size 156\n"
     ]
    },
    {
     "name": "stderr",
     "output_type": "stream",
     "text": [
      "MonteCarlo Simulation: 100%|██████████| 65/65 [00:13<00:00,  4.78batch/s]\n"
     ]
    },
    {
     "name": "stdout",
     "output_type": "stream",
     "text": [
      "Completed 10000 simulations in 15.10 seconds\n"
     ]
    },
    {
     "name": "stderr",
     "output_type": "stream",
     "text": [
      "Processing Dates:  62%|██████▏   | 62/100 [16:10<09:52, 15.59s/Date]"
     ]
    },
    {
     "name": "stdout",
     "output_type": "stream",
     "text": [
      "Running 10000 simulations with 16 workers and batch size 156\n"
     ]
    },
    {
     "name": "stderr",
     "output_type": "stream",
     "text": [
      "MonteCarlo Simulation: 100%|██████████| 65/65 [00:13<00:00,  4.81batch/s]\n",
      "Processing Dates:  63%|██████▎   | 63/100 [16:25<09:28, 15.37s/Date]"
     ]
    },
    {
     "name": "stdout",
     "output_type": "stream",
     "text": [
      "Completed 10000 simulations in 14.68 seconds\n",
      "Running 10000 simulations with 16 workers and batch size 156\n"
     ]
    },
    {
     "name": "stderr",
     "output_type": "stream",
     "text": [
      "MonteCarlo Simulation: 100%|██████████| 65/65 [00:13<00:00,  4.87batch/s]\n"
     ]
    },
    {
     "name": "stdout",
     "output_type": "stream",
     "text": [
      "Completed 10000 simulations in 14.67 seconds\n"
     ]
    },
    {
     "name": "stderr",
     "output_type": "stream",
     "text": [
      "Processing Dates:  64%|██████▍   | 64/100 [16:40<09:10, 15.29s/Date]"
     ]
    },
    {
     "name": "stdout",
     "output_type": "stream",
     "text": [
      "Running 10000 simulations with 16 workers and batch size 156\n"
     ]
    },
    {
     "name": "stderr",
     "output_type": "stream",
     "text": [
      "MonteCarlo Simulation: 100%|██████████| 65/65 [00:14<00:00,  4.64batch/s]\n",
      "Processing Dates:  65%|██████▌   | 65/100 [16:55<08:56, 15.34s/Date]"
     ]
    },
    {
     "name": "stdout",
     "output_type": "stream",
     "text": [
      "Completed 10000 simulations in 15.26 seconds\n",
      "Running 10000 simulations with 16 workers and batch size 156\n"
     ]
    },
    {
     "name": "stderr",
     "output_type": "stream",
     "text": [
      "MonteCarlo Simulation: 100%|██████████| 65/65 [00:14<00:00,  4.62batch/s]\n",
      "Processing Dates:  66%|██████▌   | 66/100 [17:11<08:43, 15.39s/Date]"
     ]
    },
    {
     "name": "stdout",
     "output_type": "stream",
     "text": [
      "Completed 10000 simulations in 15.31 seconds\n",
      "Running 10000 simulations with 16 workers and batch size 156\n"
     ]
    },
    {
     "name": "stderr",
     "output_type": "stream",
     "text": [
      "MonteCarlo Simulation: 100%|██████████| 65/65 [00:13<00:00,  4.77batch/s]\n",
      "Processing Dates:  67%|██████▋   | 67/100 [17:26<08:24, 15.29s/Date]"
     ]
    },
    {
     "name": "stdout",
     "output_type": "stream",
     "text": [
      "Completed 10000 simulations in 14.90 seconds\n",
      "Running 10000 simulations with 16 workers and batch size 156\n"
     ]
    },
    {
     "name": "stderr",
     "output_type": "stream",
     "text": [
      "MonteCarlo Simulation: 100%|██████████| 65/65 [00:13<00:00,  4.71batch/s]\n",
      "Processing Dates:  68%|██████▊   | 68/100 [17:41<08:08, 15.28s/Date]"
     ]
    },
    {
     "name": "stdout",
     "output_type": "stream",
     "text": [
      "Completed 10000 simulations in 15.06 seconds\n",
      "Running 10000 simulations with 16 workers and batch size 156\n"
     ]
    },
    {
     "name": "stderr",
     "output_type": "stream",
     "text": [
      "MonteCarlo Simulation: 100%|██████████| 65/65 [00:13<00:00,  4.83batch/s]\n"
     ]
    },
    {
     "name": "stdout",
     "output_type": "stream",
     "text": [
      "Completed 10000 simulations in 14.64 seconds\n"
     ]
    },
    {
     "name": "stderr",
     "output_type": "stream",
     "text": [
      "Processing Dates:  69%|██████▉   | 69/100 [17:56<07:49, 15.14s/Date]"
     ]
    },
    {
     "name": "stdout",
     "output_type": "stream",
     "text": [
      "Running 10000 simulations with 16 workers and batch size 156\n"
     ]
    },
    {
     "name": "stderr",
     "output_type": "stream",
     "text": [
      "MonteCarlo Simulation: 100%|██████████| 65/65 [00:14<00:00,  4.55batch/s]\n",
      "Processing Dates:  70%|███████   | 70/100 [18:12<07:41, 15.37s/Date]"
     ]
    },
    {
     "name": "stdout",
     "output_type": "stream",
     "text": [
      "Completed 10000 simulations in 15.71 seconds\n",
      "Running 10000 simulations with 16 workers and batch size 156\n"
     ]
    },
    {
     "name": "stderr",
     "output_type": "stream",
     "text": [
      "MonteCarlo Simulation: 100%|██████████| 65/65 [00:13<00:00,  4.72batch/s]\n",
      "Processing Dates:  71%|███████   | 71/100 [18:27<07:23, 15.28s/Date]"
     ]
    },
    {
     "name": "stdout",
     "output_type": "stream",
     "text": [
      "Completed 10000 simulations in 14.89 seconds\n",
      "Running 10000 simulations with 16 workers and batch size 156\n"
     ]
    },
    {
     "name": "stderr",
     "output_type": "stream",
     "text": [
      "MonteCarlo Simulation: 100%|██████████| 65/65 [00:13<00:00,  4.84batch/s]\n"
     ]
    },
    {
     "name": "stdout",
     "output_type": "stream",
     "text": [
      "Completed 10000 simulations in 14.62 seconds\n"
     ]
    },
    {
     "name": "stderr",
     "output_type": "stream",
     "text": [
      "Processing Dates:  72%|███████▏  | 72/100 [18:42<07:05, 15.21s/Date]"
     ]
    },
    {
     "name": "stdout",
     "output_type": "stream",
     "text": [
      "Running 10000 simulations with 16 workers and batch size 156\n"
     ]
    },
    {
     "name": "stderr",
     "output_type": "stream",
     "text": [
      "MonteCarlo Simulation: 100%|██████████| 65/65 [00:14<00:00,  4.55batch/s]\n"
     ]
    },
    {
     "name": "stdout",
     "output_type": "stream",
     "text": [
      "Completed 10000 simulations in 15.59 seconds\n"
     ]
    },
    {
     "name": "stderr",
     "output_type": "stream",
     "text": [
      "Processing Dates:  73%|███████▎  | 73/100 [18:58<06:57, 15.46s/Date]"
     ]
    },
    {
     "name": "stdout",
     "output_type": "stream",
     "text": [
      "Running 10000 simulations with 16 workers and batch size 156\n"
     ]
    },
    {
     "name": "stderr",
     "output_type": "stream",
     "text": [
      "MonteCarlo Simulation: 100%|██████████| 65/65 [00:13<00:00,  4.68batch/s]\n",
      "Processing Dates:  74%|███████▍  | 74/100 [19:13<06:39, 15.38s/Date]"
     ]
    },
    {
     "name": "stdout",
     "output_type": "stream",
     "text": [
      "Completed 10000 simulations in 14.99 seconds\n",
      "Running 10000 simulations with 16 workers and batch size 156\n"
     ]
    },
    {
     "name": "stderr",
     "output_type": "stream",
     "text": [
      "MonteCarlo Simulation: 100%|██████████| 65/65 [00:13<00:00,  4.99batch/s]\n",
      "Processing Dates:  75%|███████▌  | 75/100 [19:28<06:18, 15.12s/Date]"
     ]
    },
    {
     "name": "stdout",
     "output_type": "stream",
     "text": [
      "Completed 10000 simulations in 14.34 seconds\n",
      "Running 10000 simulations with 16 workers and batch size 156\n"
     ]
    },
    {
     "name": "stderr",
     "output_type": "stream",
     "text": [
      "MonteCarlo Simulation: 100%|██████████| 65/65 [00:13<00:00,  4.83batch/s]\n"
     ]
    },
    {
     "name": "stdout",
     "output_type": "stream",
     "text": [
      "Completed 10000 simulations in 14.55 seconds\n"
     ]
    },
    {
     "name": "stderr",
     "output_type": "stream",
     "text": [
      "Processing Dates:  76%|███████▌  | 76/100 [19:42<06:00, 15.01s/Date]"
     ]
    },
    {
     "name": "stdout",
     "output_type": "stream",
     "text": [
      "Running 10000 simulations with 16 workers and batch size 156\n"
     ]
    },
    {
     "name": "stderr",
     "output_type": "stream",
     "text": [
      "MonteCarlo Simulation: 100%|██████████| 65/65 [00:14<00:00,  4.55batch/s]\n",
      "Processing Dates:  77%|███████▋  | 77/100 [19:58<05:50, 15.25s/Date]"
     ]
    },
    {
     "name": "stdout",
     "output_type": "stream",
     "text": [
      "Completed 10000 simulations in 15.63 seconds\n",
      "Running 10000 simulations with 16 workers and batch size 156\n"
     ]
    },
    {
     "name": "stderr",
     "output_type": "stream",
     "text": [
      "MonteCarlo Simulation: 100%|██████████| 65/65 [00:14<00:00,  4.48batch/s]\n",
      "Processing Dates:  78%|███████▊  | 78/100 [20:14<05:39, 15.45s/Date]"
     ]
    },
    {
     "name": "stdout",
     "output_type": "stream",
     "text": [
      "Completed 10000 simulations in 15.74 seconds\n",
      "Running 10000 simulations with 16 workers and batch size 156\n"
     ]
    },
    {
     "name": "stderr",
     "output_type": "stream",
     "text": [
      "MonteCarlo Simulation: 100%|██████████| 65/65 [00:13<00:00,  4.68batch/s]\n",
      "Processing Dates:  79%|███████▉  | 79/100 [20:29<05:23, 15.40s/Date]"
     ]
    },
    {
     "name": "stdout",
     "output_type": "stream",
     "text": [
      "Completed 10000 simulations in 15.11 seconds\n",
      "Running 10000 simulations with 16 workers and batch size 156\n"
     ]
    },
    {
     "name": "stderr",
     "output_type": "stream",
     "text": [
      "MonteCarlo Simulation: 100%|██████████| 65/65 [00:14<00:00,  4.43batch/s]\n"
     ]
    },
    {
     "name": "stdout",
     "output_type": "stream",
     "text": [
      "Completed 10000 simulations in 16.03 seconds\n"
     ]
    },
    {
     "name": "stderr",
     "output_type": "stream",
     "text": [
      "Processing Dates:  80%|████████  | 80/100 [20:46<05:13, 15.66s/Date]"
     ]
    },
    {
     "name": "stdout",
     "output_type": "stream",
     "text": [
      "Running 10000 simulations with 16 workers and batch size 156\n"
     ]
    },
    {
     "name": "stderr",
     "output_type": "stream",
     "text": [
      "MonteCarlo Simulation: 100%|██████████| 65/65 [00:14<00:00,  4.53batch/s]\n",
      "Processing Dates:  81%|████████  | 81/100 [21:02<04:59, 15.74s/Date]"
     ]
    },
    {
     "name": "stdout",
     "output_type": "stream",
     "text": [
      "Completed 10000 simulations in 15.73 seconds\n",
      "Running 10000 simulations with 16 workers and batch size 156\n"
     ]
    },
    {
     "name": "stderr",
     "output_type": "stream",
     "text": [
      "MonteCarlo Simulation: 100%|██████████| 65/65 [00:14<00:00,  4.36batch/s]\n",
      "Processing Dates:  82%|████████▏ | 82/100 [21:18<04:46, 15.90s/Date]"
     ]
    },
    {
     "name": "stdout",
     "output_type": "stream",
     "text": [
      "Completed 10000 simulations in 16.08 seconds\n",
      "Running 10000 simulations with 16 workers and batch size 156\n"
     ]
    },
    {
     "name": "stderr",
     "output_type": "stream",
     "text": [
      "MonteCarlo Simulation: 100%|██████████| 65/65 [00:13<00:00,  4.78batch/s]\n"
     ]
    },
    {
     "name": "stdout",
     "output_type": "stream",
     "text": [
      "Completed 10000 simulations in 14.75 seconds\n"
     ]
    },
    {
     "name": "stderr",
     "output_type": "stream",
     "text": [
      "Processing Dates:  83%|████████▎ | 83/100 [21:33<04:26, 15.68s/Date]"
     ]
    },
    {
     "name": "stdout",
     "output_type": "stream",
     "text": [
      "Running 10000 simulations with 16 workers and batch size 156\n"
     ]
    },
    {
     "name": "stderr",
     "output_type": "stream",
     "text": [
      "MonteCarlo Simulation: 100%|██████████| 65/65 [00:13<00:00,  4.84batch/s]\n",
      "Processing Dates:  84%|████████▍ | 84/100 [21:48<04:06, 15.40s/Date]"
     ]
    },
    {
     "name": "stdout",
     "output_type": "stream",
     "text": [
      "Completed 10000 simulations in 14.57 seconds\n",
      "Running 10000 simulations with 16 workers and batch size 156\n"
     ]
    },
    {
     "name": "stderr",
     "output_type": "stream",
     "text": [
      "MonteCarlo Simulation: 100%|██████████| 65/65 [00:13<00:00,  4.79batch/s]\n",
      "Processing Dates:  85%|████████▌ | 85/100 [22:03<03:49, 15.30s/Date]"
     ]
    },
    {
     "name": "stdout",
     "output_type": "stream",
     "text": [
      "Completed 10000 simulations in 14.86 seconds\n",
      "Running 10000 simulations with 16 workers and batch size 156\n"
     ]
    },
    {
     "name": "stderr",
     "output_type": "stream",
     "text": [
      "MonteCarlo Simulation: 100%|██████████| 65/65 [00:14<00:00,  4.64batch/s]\n",
      "Processing Dates:  86%|████████▌ | 86/100 [22:18<03:34, 15.33s/Date]"
     ]
    },
    {
     "name": "stdout",
     "output_type": "stream",
     "text": [
      "Completed 10000 simulations in 15.20 seconds\n",
      "Running 10000 simulations with 16 workers and batch size 156\n"
     ]
    },
    {
     "name": "stderr",
     "output_type": "stream",
     "text": [
      "MonteCarlo Simulation: 100%|██████████| 65/65 [00:13<00:00,  4.73batch/s]\n",
      "Processing Dates:  87%|████████▋ | 87/100 [22:33<03:18, 15.24s/Date]"
     ]
    },
    {
     "name": "stdout",
     "output_type": "stream",
     "text": [
      "Completed 10000 simulations in 14.86 seconds\n",
      "Running 10000 simulations with 16 workers and batch size 156\n"
     ]
    },
    {
     "name": "stderr",
     "output_type": "stream",
     "text": [
      "MonteCarlo Simulation: 100%|██████████| 65/65 [00:13<00:00,  4.96batch/s]\n"
     ]
    },
    {
     "name": "stdout",
     "output_type": "stream",
     "text": [
      "Completed 10000 simulations in 14.35 seconds\n"
     ]
    },
    {
     "name": "stderr",
     "output_type": "stream",
     "text": [
      "Processing Dates:  88%|████████▊ | 88/100 [22:48<03:01, 15.11s/Date]"
     ]
    },
    {
     "name": "stdout",
     "output_type": "stream",
     "text": [
      "Running 10000 simulations with 16 workers and batch size 156\n"
     ]
    },
    {
     "name": "stderr",
     "output_type": "stream",
     "text": [
      "MonteCarlo Simulation: 100%|██████████| 65/65 [00:13<00:00,  4.81batch/s]\n",
      "Processing Dates:  89%|████████▉ | 89/100 [23:03<02:45, 15.05s/Date]"
     ]
    },
    {
     "name": "stdout",
     "output_type": "stream",
     "text": [
      "Completed 10000 simulations in 14.73 seconds\n",
      "Running 10000 simulations with 16 workers and batch size 156\n"
     ]
    },
    {
     "name": "stderr",
     "output_type": "stream",
     "text": [
      "MonteCarlo Simulation: 100%|██████████| 65/65 [00:13<00:00,  4.92batch/s]\n",
      "Processing Dates:  90%|█████████ | 90/100 [23:18<02:29, 14.90s/Date]"
     ]
    },
    {
     "name": "stdout",
     "output_type": "stream",
     "text": [
      "Completed 10000 simulations in 14.39 seconds\n",
      "Running 10000 simulations with 16 workers and batch size 156\n"
     ]
    },
    {
     "name": "stderr",
     "output_type": "stream",
     "text": [
      "MonteCarlo Simulation: 100%|██████████| 65/65 [00:12<00:00,  5.00batch/s]\n",
      "Processing Dates:  91%|█████████ | 91/100 [23:32<02:12, 14.73s/Date]"
     ]
    },
    {
     "name": "stdout",
     "output_type": "stream",
     "text": [
      "Completed 10000 simulations in 14.12 seconds\n",
      "Running 10000 simulations with 16 workers and batch size 156\n"
     ]
    },
    {
     "name": "stderr",
     "output_type": "stream",
     "text": [
      "MonteCarlo Simulation: 100%|██████████| 65/65 [00:13<00:00,  4.92batch/s]\n",
      "Processing Dates:  92%|█████████▏| 92/100 [23:46<01:57, 14.66s/Date]"
     ]
    },
    {
     "name": "stdout",
     "output_type": "stream",
     "text": [
      "Completed 10000 simulations in 14.30 seconds\n",
      "Running 10000 simulations with 16 workers and batch size 156\n"
     ]
    },
    {
     "name": "stderr",
     "output_type": "stream",
     "text": [
      "MonteCarlo Simulation: 100%|██████████| 65/65 [00:13<00:00,  4.98batch/s]\n"
     ]
    },
    {
     "name": "stdout",
     "output_type": "stream",
     "text": [
      "Completed 10000 simulations in 14.22 seconds\n"
     ]
    },
    {
     "name": "stderr",
     "output_type": "stream",
     "text": [
      "Processing Dates:  93%|█████████▎| 93/100 [24:01<01:42, 14.65s/Date]"
     ]
    },
    {
     "name": "stdout",
     "output_type": "stream",
     "text": [
      "Running 10000 simulations with 16 workers and batch size 156\n"
     ]
    },
    {
     "name": "stderr",
     "output_type": "stream",
     "text": [
      "MonteCarlo Simulation: 100%|██████████| 65/65 [00:13<00:00,  4.95batch/s]\n",
      "Processing Dates:  94%|█████████▍| 94/100 [24:16<01:27, 14.63s/Date]"
     ]
    },
    {
     "name": "stdout",
     "output_type": "stream",
     "text": [
      "Completed 10000 simulations in 14.41 seconds\n",
      "Running 10000 simulations with 16 workers and batch size 156\n"
     ]
    },
    {
     "name": "stderr",
     "output_type": "stream",
     "text": [
      "MonteCarlo Simulation: 100%|██████████| 65/65 [00:13<00:00,  4.88batch/s]\n",
      "Processing Dates:  95%|█████████▌| 95/100 [24:30<01:13, 14.67s/Date]"
     ]
    },
    {
     "name": "stdout",
     "output_type": "stream",
     "text": [
      "Completed 10000 simulations in 14.57 seconds\n",
      "Running 10000 simulations with 16 workers and batch size 156\n"
     ]
    },
    {
     "name": "stderr",
     "output_type": "stream",
     "text": [
      "MonteCarlo Simulation: 100%|██████████| 65/65 [00:13<00:00,  4.75batch/s]\n",
      "Processing Dates:  96%|█████████▌| 96/100 [24:45<00:59, 14.77s/Date]"
     ]
    },
    {
     "name": "stdout",
     "output_type": "stream",
     "text": [
      "Completed 10000 simulations in 14.81 seconds\n",
      "Running 10000 simulations with 16 workers and batch size 156\n"
     ]
    },
    {
     "name": "stderr",
     "output_type": "stream",
     "text": [
      "MonteCarlo Simulation: 100%|██████████| 65/65 [00:13<00:00,  4.73batch/s]\n",
      "Processing Dates:  97%|█████████▋| 97/100 [25:01<00:44, 14.89s/Date]"
     ]
    },
    {
     "name": "stdout",
     "output_type": "stream",
     "text": [
      "Completed 10000 simulations in 14.98 seconds\n",
      "Running 10000 simulations with 16 workers and batch size 156\n"
     ]
    },
    {
     "name": "stderr",
     "output_type": "stream",
     "text": [
      "MonteCarlo Simulation: 100%|██████████| 65/65 [00:13<00:00,  4.88batch/s]\n"
     ]
    },
    {
     "name": "stdout",
     "output_type": "stream",
     "text": [
      "Completed 10000 simulations in 14.47 seconds\n"
     ]
    },
    {
     "name": "stderr",
     "output_type": "stream",
     "text": [
      "Processing Dates:  98%|█████████▊| 98/100 [25:15<00:29, 14.88s/Date]"
     ]
    },
    {
     "name": "stdout",
     "output_type": "stream",
     "text": [
      "Running 10000 simulations with 16 workers and batch size 156\n"
     ]
    },
    {
     "name": "stderr",
     "output_type": "stream",
     "text": [
      "MonteCarlo Simulation: 100%|██████████| 65/65 [00:13<00:00,  4.81batch/s]\n",
      "Processing Dates:  99%|█████████▉| 99/100 [25:30<00:14, 14.89s/Date]"
     ]
    },
    {
     "name": "stdout",
     "output_type": "stream",
     "text": [
      "Completed 10000 simulations in 14.73 seconds\n",
      "Running 10000 simulations with 16 workers and batch size 156\n"
     ]
    },
    {
     "name": "stderr",
     "output_type": "stream",
     "text": [
      "MonteCarlo Simulation: 100%|██████████| 65/65 [00:13<00:00,  4.72batch/s]\n",
      "Processing Dates: 100%|██████████| 100/100 [25:45<00:00, 14.97s/Date]"
     ]
    },
    {
     "name": "stdout",
     "output_type": "stream",
     "text": [
      "Completed 10000 simulations in 14.97 seconds\n",
      "Warning: 2020-05-25 00:00:00 is the last day in the index, no next day available.\n"
     ]
    },
    {
     "name": "stderr",
     "output_type": "stream",
     "text": [
      "Processing Dates: 100%|██████████| 100/100 [25:45<00:00, 15.46s/Date]\n"
     ]
    }
   ],
   "source": [
    "scenarios_results = {}\n",
    "portfolio_scr_results = {} \n",
    "lookback = 252 + 30\n",
    "\n",
    "i = 0\n",
    "for i, t in enumerate(tqdm(test_returns_df.index, desc='Processing Dates', unit='Date')):\n",
    "    t_position = historical_df.index.get_loc(t)\n",
    "    i += 1\n",
    "\n",
    "    window_data = historical_df.iloc[t_position-lookback:t_position]\n",
    "    mc_model = MonteCarloJumpGBM(window_data, weights)\n",
    "    _, scr, _ = mc_model.calculate_distribution_and_scr()\n",
    "\n",
    "    if t != test_returns_df.index[-1]:\n",
    "        next_day = test_returns_df.index[test_returns_df.index.get_loc(t) + 1]\n",
    "    else:\n",
    "        print(f\"Warning: {t} is the last day in the index, no next day available.\")\n",
    "        continue\n",
    "    \n",
    "    if scr > 0: scr = 0.0\n",
    "    \n",
    "    portfolio_scr_results[next_day] = scr"
   ]
  },
  {
   "cell_type": "code",
   "execution_count": 27,
   "id": "f3256bda",
   "metadata": {},
   "outputs": [
    {
     "data": {
      "image/png": "[encoded data removed]",
      "text/plain": [
       "<Figure size 1800x300 with 1 Axes>"
      ]
     },
     "metadata": {},
     "output_type": "display_data"
    }
   ],
   "source": [
    "sorted_dates = sorted(portfolio_scr_results.keys())\n",
    "scr_values = [portfolio_scr_results[date] for date in sorted_dates]\n",
    "\n",
    "'''\n",
    "plt.figure(figsize=(18, 3))\n",
    "plt.plot(test_returns_df.index[:-3], scr_values, linestyle='-')\n",
    "plt.xlabel(\"Windows\")\n",
    "plt.ylabel(\"SCR\")\n",
    "plt.title(\"Portfolio SCR Over Time\")\n",
    "plt.xticks(rotation=45)\n",
    "plt.grid(False)\n",
    "plt.tight_layout()\n",
    "plt.show()\n",
    "'''\n",
    "\n",
    "plt.figure(figsize=(18, 3))\n",
    "plt.plot(scr_values, linestyle='-')\n",
    "plt.xlabel(\"Windows\")\n",
    "plt.ylabel(\"SCR\")\n",
    "plt.title(\"Portfolio SCR Over Time\")\n",
    "plt.xticks(rotation=45)\n",
    "plt.grid(False)\n",
    "plt.tight_layout()\n",
    "plt.show()"
   ]
  },
  {
   "cell_type": "code",
   "execution_count": 28,
   "id": "b528b938",
   "metadata": {},
   "outputs": [
    {
     "data": {
      "image/png": "[encoded data removed]",
      "text/plain": [
       "<Figure size 1000x600 with 1 Axes>"
      ]
     },
     "metadata": {},
     "output_type": "display_data"
    }
   ],
   "source": [
    "plt.figure(figsize=(10, 6))\n",
    "plt.plot(scr_values, linestyle='-', label='SCR')\n",
    "plt.plot(realized_delta_bof_values_1, linestyle='-', label='Realized Delta BOF')\n",
    "\n",
    "# Add a vertical dashed line - you can change the position as needed\n",
    "plt.axhline(y=0, color='black', linestyle='--', label='No Buffer', alpha=0.5)\n",
    "\n",
    "plt.xlabel(\"Window\")\n",
    "plt.ylabel(\"Delta BOF\")\n",
    "plt.title(\"SCR v.s. realized Delta BOF\")\n",
    "plt.grid(False)\n",
    "plt.tight_layout()\n",
    "plt.legend()\n",
    "plt.show()"
   ]
  },
  {
   "cell_type": "code",
   "execution_count": 29,
   "id": "70f8bcf0",
   "metadata": {},
   "outputs": [],
   "source": [
    "from backtesting.perform_var_tests import evaluate_risk_metrics"
   ]
  },
  {
   "cell_type": "code",
   "execution_count": 30,
   "id": "87ba476a",
   "metadata": {},
   "outputs": [
    {
     "name": "stdout",
     "output_type": "stream",
     "text": [
      "breaches [0 0 0 0 0 0 0 0 0 0 0 0 0 0 0 0 0 0 0 0 0 0 0 0 0 0 0 0 0 0 0 0 0 0 0 0 0\n",
      " 0 0 0 0 0 0 0 0 0 0 0 0 0 0 0 0 0 0 0 0 0 0 0 0 0 0 0 0 0 0 0 0 0 0 0 0 0\n",
      " 0 0 0 0 0 0 0 0 0 0 0 0 0 0 0 0 0 0 0 0 0 0 0 0 0]\n"
     ]
    },
    {
     "data": {
      "text/html": [
       "<div>\n",
       "<style scoped>\n",
       "    .dataframe tbody tr th:only-of-type {\n",
       "        vertical-align: middle;\n",
       "    }\n",
       "\n",
       "    .dataframe tbody tr th {\n",
       "        vertical-align: top;\n",
       "    }\n",
       "\n",
       "    .dataframe thead th {\n",
       "        text-align: right;\n",
       "    }\n",
       "</style>\n",
       "<table border=\"1\" class=\"dataframe\">\n",
       "  <thead>\n",
       "    <tr style=\"text-align: right;\">\n",
       "      <th></th>\n",
       "      <th>Metric</th>\n",
       "      <th>Value</th>\n",
       "      <th>Description</th>\n",
       "      <th>Pass/Fail</th>\n",
       "    </tr>\n",
       "  </thead>\n",
       "  <tbody>\n",
       "    <tr>\n",
       "      <th>0</th>\n",
       "      <td>Balanced SCR Loss (α=0.25)</td>\n",
       "      <td>58133.2190</td>\n",
       "      <td>Penalty for under-conservatism</td>\n",
       "      <td></td>\n",
       "    </tr>\n",
       "    <tr>\n",
       "      <th>1</th>\n",
       "      <td>Balanced SCR Loss (α=0.5)</td>\n",
       "      <td>116266.4380</td>\n",
       "      <td>Penalty for balanced</td>\n",
       "      <td></td>\n",
       "    </tr>\n",
       "    <tr>\n",
       "      <th>2</th>\n",
       "      <td>Balanced SCR Loss (α=0.75)</td>\n",
       "      <td>174399.6570</td>\n",
       "      <td>Penalty for capital inefficiency</td>\n",
       "      <td></td>\n",
       "    </tr>\n",
       "    <tr>\n",
       "      <th>3</th>\n",
       "      <td>Kupiec POF Test p-value</td>\n",
       "      <td>0.3191</td>\n",
       "      <td>Tests if breach frequency matches expected</td>\n",
       "      <td>✅</td>\n",
       "    </tr>\n",
       "    <tr>\n",
       "      <th>4</th>\n",
       "      <td>Indep. Test p-value</td>\n",
       "      <td>1.0000</td>\n",
       "      <td>Tests if breaches are independent</td>\n",
       "      <td>✅</td>\n",
       "    </tr>\n",
       "    <tr>\n",
       "      <th>5</th>\n",
       "      <td>Cond. Coverage p-value</td>\n",
       "      <td>0.6088</td>\n",
       "      <td>Combined test of frequency and independence</td>\n",
       "      <td>✅</td>\n",
       "    </tr>\n",
       "    <tr>\n",
       "      <th>6</th>\n",
       "      <td>Lopez Average Loss</td>\n",
       "      <td>0.0000</td>\n",
       "      <td>Quadratic loss function for VaR breaches</td>\n",
       "      <td></td>\n",
       "    </tr>\n",
       "    <tr>\n",
       "      <th>7</th>\n",
       "      <td>Breach Rate</td>\n",
       "      <td>0.0000</td>\n",
       "      <td>Proportion of time when Delta BOF &lt; SCR</td>\n",
       "      <td></td>\n",
       "    </tr>\n",
       "  </tbody>\n",
       "</table>\n",
       "</div>"
      ],
      "text/plain": [
       "                       Metric        Value  \\\n",
       "0  Balanced SCR Loss (α=0.25)   58133.2190   \n",
       "1   Balanced SCR Loss (α=0.5)  116266.4380   \n",
       "2  Balanced SCR Loss (α=0.75)  174399.6570   \n",
       "3     Kupiec POF Test p-value       0.3191   \n",
       "4         Indep. Test p-value       1.0000   \n",
       "5      Cond. Coverage p-value       0.6088   \n",
       "6          Lopez Average Loss       0.0000   \n",
       "7                 Breach Rate       0.0000   \n",
       "\n",
       "                                   Description Pass/Fail  \n",
       "0               Penalty for under-conservatism            \n",
       "1                         Penalty for balanced            \n",
       "2             Penalty for capital inefficiency            \n",
       "3   Tests if breach frequency matches expected         ✅  \n",
       "4            Tests if breaches are independent         ✅  \n",
       "5  Combined test of frequency and independence         ✅  \n",
       "6     Quadratic loss function for VaR breaches            \n",
       "7      Proportion of time when Delta BOF < SCR            "
      ]
     },
     "execution_count": 30,
     "metadata": {},
     "output_type": "execute_result"
    }
   ],
   "source": [
    "evaluate_risk_metrics(scr_values, realized_delta_bof_values_1)"
   ]
  },
  {
   "cell_type": "code",
   "execution_count": null,
   "id": "11156ff0",
   "metadata": {},
   "outputs": [],
   "source": []
  }
 ],
 "metadata": {
  "kernelspec": {
   "display_name": "packages",
   "language": "python",
   "name": "python3"
  },
  "language_info": {
   "codemirror_mode": {
    "name": "ipython",
    "version": 3
   },
   "file_extension": ".py",
   "mimetype": "text/x-python",
   "name": "python",
   "nbconvert_exporter": "python",
   "pygments_lexer": "ipython3",
   "version": "3.12.3"
  }
 },
 "nbformat": 4,
 "nbformat_minor": 5
}
