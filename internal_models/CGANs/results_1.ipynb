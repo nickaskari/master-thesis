{
 "cells": [
  {
   "cell_type": "markdown",
   "metadata": {},
   "source": [
    "## This notebook aims to visualize the different asset distributions produced by CGAN"
   ]
  },
  {
   "cell_type": "code",
   "execution_count": 1,
   "metadata": {},
   "outputs": [],
   "source": [
    "import os\n",
    "import torch\n",
    "import matplotlib.pyplot as plt\n",
    "import seaborn as sns\n",
    "import pandas as pd\n",
    "import numpy as np\n",
    "from sklearn.decomposition import PCA\n",
    "from scipy.spatial.distance import pdist\n",
    "import sys\n",
    "\n",
    "parent_dir = os.path.abspath(os.path.join(os.getcwd(), \"../../\"))\n",
    "sys.path.insert(0, parent_dir)\n",
    "\n",
    "from utilities.gan_plotting import extensive_plotting\n",
    "from utilities.backtesting_plots import backtest_var_single_asset\n",
    "from utilities.gan_plotting import load_generated_returns\n",
    "from backtesting.perform_var_tests import perform_var_backtesting_tests\n",
    "from backtesting.perform_distribution_tests import perform_distribution_tests\n",
    "from utilities.gan_plotting import create_rolling_empirical\n"
   ]
  },
  {
   "cell_type": "code",
   "execution_count": 2,
   "metadata": {},
   "outputs": [
    {
     "name": "stdout",
     "output_type": "stream",
     "text": [
      "c:\\Users\\nicka\\master-thesis\\internal_models\\CGANs\n"
     ]
    }
   ],
   "source": [
    "import os\n",
    "print(os.getcwd())"
   ]
  },
  {
   "cell_type": "markdown",
   "metadata": {},
   "source": [
    "## Note to self -- We only test assets MSCIWORLD, HY and EONIA"
   ]
  },
  {
   "cell_type": "code",
   "execution_count": 3,
   "metadata": {},
   "outputs": [],
   "source": [
    "def fetch_data_df():\n",
    "    # Load the data\n",
    "    df = pd.read_csv('../../data/final_daily_returns_asset_classes.csv', index_col=0, parse_dates=True)\n",
    "    df.index = pd.to_datetime(df.index)\n",
    "    start_test_date = os.getenv(\"START_TEST_DATE\")\n",
    "    \n",
    "    if start_test_date is None:\n",
    "        raise ValueError(\"Environment variable 'START_TEST_DATE' is not set.\")\n",
    "\n",
    "    start_test_date = pd.to_datetime(start_test_date)\n",
    "\n",
    "    columns = [0]#[0,1,2,4]\n",
    "    selected_columns = df.iloc[:, columns]  # Remember: Python uses 0-based indexing\n",
    "\n",
    "    pre_test_df = selected_columns[selected_columns.index < start_test_date]\n",
    "    test_df = selected_columns[selected_columns.index >= start_test_date].iloc[:252]\n",
    "    \n",
    "    return pre_test_df, test_df\n",
    "\n",
    "returns_df, test_returns_df = fetch_data_df()"
   ]
  },
  {
   "cell_type": "code",
   "execution_count": 4,
   "metadata": {},
   "outputs": [],
   "source": [
    "asset_names = returns_df.columns"
   ]
  },
  {
   "cell_type": "code",
   "execution_count": 5,
   "metadata": {},
   "outputs": [],
   "source": [
    "from internal_models.utilities.generate_quarterly_scenarios import generate_quarterly_scenarios"
   ]
  },
  {
   "cell_type": "markdown",
   "metadata": {},
   "source": [
    "## TRAINING CGAN"
   ]
  },
  {
   "cell_type": "code",
   "execution_count": null,
   "metadata": {},
   "outputs": [
    {
     "name": "stdout",
     "output_type": "stream",
     "text": [
      "Training CGAN for REEL...\n"
     ]
    }
   ],
   "source": [
    "from cgan2 import CGAN2\n",
    "from CGAN1 import CGAN1\n",
    "from cgan3 import CGAN3\n",
    "from NOVAGAN import NovaGAN\n",
    "\n",
    "for asset_name in returns_df.columns:\n",
    "    print(f\"Training CGAN for {asset_name}...\")\n",
    "    asset_returns = returns_df[asset_name]\n",
    "    \n",
    "    # Create WGAN instance for the current asset\n",
    "    gan = NovaGAN(asset_returns, asset_name)\n",
    "    \n",
    "    # Train WGAN for this asset\n",
    "    gan.train()\n",
    "    scenarios = gan.generate_scenarios(num_scenarios=10000)\n",
    "    \n",
    "    print(f\"Finished training CGAN for {asset_name}.\\n\")"
   ]
  },
  {
   "cell_type": "markdown",
   "metadata": {},
   "source": [
    "## RESULTS"
   ]
  },
  {
   "cell_type": "code",
   "execution_count": null,
   "metadata": {},
   "outputs": [
    {
     "ename": "NameError",
     "evalue": "name 'gan' is not defined",
     "output_type": "error",
     "traceback": [
      "\u001b[1;31m---------------------------------------------------------------------------\u001b[0m",
      "\u001b[1;31mNameError\u001b[0m                                 Traceback (most recent call last)",
      "Cell \u001b[1;32mIn[1], line 1\u001b[0m\n\u001b[1;32m----> 1\u001b[0m scenarios \u001b[38;5;241m=\u001b[39m \u001b[43mgan\u001b[49m\u001b[38;5;241m.\u001b[39mgenerate_scenarios(num_scenarios\u001b[38;5;241m=\u001b[39m\u001b[38;5;241m10000\u001b[39m)\n",
      "\u001b[1;31mNameError\u001b[0m: name 'gan' is not defined"
     ]
    }
   ],
   "source": [
    "scenarios = gan.generate_scenarios(num_scenarios=10000)"
   ]
  },
  {
   "cell_type": "code",
   "execution_count": null,
   "metadata": {},
   "outputs": [
    {
     "name": "stdout",
     "output_type": "stream",
     "text": [
      "Loaded Generated returns from: generated_CGAN_output_test\\generated_returns_REEL_final_scenarios.pt\n",
      "Scaled = False\n"
     ]
    },
    {
     "data": {
      "image/png": "[encoded data removed]",
      "text/plain": [
       "<Figure size 1500x500 with 1 Axes>"
      ]
     },
     "metadata": {},
     "output_type": "display_data"
    },
    {
     "name": "stdout",
     "output_type": "stream",
     "text": [
      "\n",
      "📊 Return Statistics Summary:\n",
      "           Asset      Mean  Std Dev  Skewness  Kurtosis  99.5% VaR\n",
      "     REEL - Real  0.000193 0.012916 -0.270455  4.969021  -0.051644\n",
      "REEL - Generated -0.000393 0.009293 -0.060194  2.415064  -0.030309\n",
      "\n",
      "==================================================\n",
      "\n",
      "\n",
      "═══════════════════════════\n",
      "║  ANALYZING ASSET: REEL  ║\n",
      "═══════════════════════════\n",
      "\n",
      "Loaded Generated returns from: generated_CGAN_output_test\\generated_returns_REEL_final_scenarios.pt\n",
      "Variance of Real Data: 0.000167\n",
      "Variance of Generated Data: 0.000071\n",
      "⚠️ Warning: Possible Mode Collapse - Low Variance in Generated Data\n"
     ]
    }
   ],
   "source": [
    "extensive_plotting(scaled=False, returns_df=returns_df, test=True, quarterly=False)"
   ]
  },
  {
   "cell_type": "code",
   "execution_count": null,
   "metadata": {},
   "outputs": [],
   "source": [
    "from utilities.load_generated_quarters import load_all_generated_quarters"
   ]
  },
  {
   "cell_type": "code",
   "execution_count": null,
   "metadata": {},
   "outputs": [
    {
     "ename": "FileNotFoundError",
     "evalue": "[Errno 2] No such file or directory: 'generated_CGAN_output_test\\\\q0\\\\generated_returns_REEL_q0.pt'",
     "output_type": "error",
     "traceback": [
      "\u001b[1;31m---------------------------------------------------------------------------\u001b[0m",
      "\u001b[1;31mFileNotFoundError\u001b[0m                         Traceback (most recent call last)",
      "Cell \u001b[1;32mIn[10], line 3\u001b[0m\n\u001b[0;32m      1\u001b[0m \u001b[38;5;28;01mfor\u001b[39;00m asset_name \u001b[38;5;129;01min\u001b[39;00m returns_df\u001b[38;5;241m.\u001b[39mcolumns:\n\u001b[0;32m      2\u001b[0m     \u001b[38;5;66;03m# Create a new function that loads all fucking quarter for a fucking asset\u001b[39;00m\n\u001b[1;32m----> 3\u001b[0m     generated_returns \u001b[38;5;241m=\u001b[39m \u001b[43mload_all_generated_quarters\u001b[49m\u001b[43m(\u001b[49m\u001b[43masset_name\u001b[49m\u001b[43m,\u001b[49m\u001b[43m \u001b[49m\u001b[43mquarterly\u001b[49m\u001b[38;5;241;43m=\u001b[39;49m\u001b[38;5;28;43;01mTrue\u001b[39;49;00m\u001b[43m,\u001b[49m\u001b[43m \u001b[49m\u001b[43mtest\u001b[49m\u001b[38;5;241;43m=\u001b[39;49m\u001b[38;5;28;43;01mTrue\u001b[39;49;00m\u001b[43m)\u001b[49m\n\u001b[0;32m      5\u001b[0m     failures, var_thresholds \u001b[38;5;241m=\u001b[39m backtest_var_single_asset(test_returns_df[asset_name], generated_returns, asset_name, quarterly\u001b[38;5;241m=\u001b[39m\u001b[38;5;28;01mTrue\u001b[39;00m)\n\u001b[0;32m      7\u001b[0m     perform_var_backtesting_tests(failures\u001b[38;5;241m=\u001b[39mfailures, returns\u001b[38;5;241m=\u001b[39mtest_returns_df[asset_name], var_forecast\u001b[38;5;241m=\u001b[39mvar_thresholds, asset_name\u001b[38;5;241m=\u001b[39masset_name, generated_returns\u001b[38;5;241m=\u001b[39mgenerated_returns)\n",
      "File \u001b[1;32mc:\\Users\\nicka\\master-thesis\\utilities\\load_generated_quarters.py:16\u001b[0m, in \u001b[0;36mload_all_generated_quarters\u001b[1;34m(asset_name, quarterly, test)\u001b[0m\n\u001b[0;32m     14\u001b[0m         quarter_num \u001b[38;5;241m=\u001b[39m \u001b[38;5;124mf\u001b[39m\u001b[38;5;124m'\u001b[39m\u001b[38;5;124mq\u001b[39m\u001b[38;5;132;01m{\u001b[39;00mq\u001b[38;5;132;01m}\u001b[39;00m\u001b[38;5;124m'\u001b[39m\n\u001b[0;32m     15\u001b[0m         file_path \u001b[38;5;241m=\u001b[39m os\u001b[38;5;241m.\u001b[39mpath\u001b[38;5;241m.\u001b[39mjoin(quarter_dir, \u001b[38;5;124mf\u001b[39m\u001b[38;5;124m'\u001b[39m\u001b[38;5;124mgenerated_returns_\u001b[39m\u001b[38;5;132;01m{\u001b[39;00masset_name\u001b[38;5;132;01m}\u001b[39;00m\u001b[38;5;124m_\u001b[39m\u001b[38;5;132;01m{\u001b[39;00mquarter_num\u001b[38;5;132;01m}\u001b[39;00m\u001b[38;5;124m.pt\u001b[39m\u001b[38;5;124m'\u001b[39m)\n\u001b[1;32m---> 16\u001b[0m         returns \u001b[38;5;241m=\u001b[39m \u001b[43mtorch\u001b[49m\u001b[38;5;241;43m.\u001b[39;49m\u001b[43mload\u001b[49m\u001b[43m(\u001b[49m\u001b[43mfile_path\u001b[49m\u001b[43m)\u001b[49m\n\u001b[0;32m     17\u001b[0m         gen_returns\u001b[38;5;241m.\u001b[39mappend(returns)\n\u001b[0;32m     18\u001b[0m \u001b[38;5;28;01melse\u001b[39;00m:\n",
      "File \u001b[1;32mc:\\Users\\nicka\\master-thesis\\packages\\Lib\\site-packages\\torch\\serialization.py:1425\u001b[0m, in \u001b[0;36mload\u001b[1;34m(f, map_location, pickle_module, weights_only, mmap, **pickle_load_args)\u001b[0m\n\u001b[0;32m   1422\u001b[0m \u001b[38;5;28;01mif\u001b[39;00m \u001b[38;5;124m\"\u001b[39m\u001b[38;5;124mencoding\u001b[39m\u001b[38;5;124m\"\u001b[39m \u001b[38;5;129;01mnot\u001b[39;00m \u001b[38;5;129;01min\u001b[39;00m pickle_load_args\u001b[38;5;241m.\u001b[39mkeys():\n\u001b[0;32m   1423\u001b[0m     pickle_load_args[\u001b[38;5;124m\"\u001b[39m\u001b[38;5;124mencoding\u001b[39m\u001b[38;5;124m\"\u001b[39m] \u001b[38;5;241m=\u001b[39m \u001b[38;5;124m\"\u001b[39m\u001b[38;5;124mutf-8\u001b[39m\u001b[38;5;124m\"\u001b[39m\n\u001b[1;32m-> 1425\u001b[0m \u001b[38;5;28;01mwith\u001b[39;00m \u001b[43m_open_file_like\u001b[49m\u001b[43m(\u001b[49m\u001b[43mf\u001b[49m\u001b[43m,\u001b[49m\u001b[43m \u001b[49m\u001b[38;5;124;43m\"\u001b[39;49m\u001b[38;5;124;43mrb\u001b[39;49m\u001b[38;5;124;43m\"\u001b[39;49m\u001b[43m)\u001b[49m \u001b[38;5;28;01mas\u001b[39;00m opened_file:\n\u001b[0;32m   1426\u001b[0m     \u001b[38;5;28;01mif\u001b[39;00m _is_zipfile(opened_file):\n\u001b[0;32m   1427\u001b[0m         \u001b[38;5;66;03m# The zipfile reader is going to advance the current file position.\u001b[39;00m\n\u001b[0;32m   1428\u001b[0m         \u001b[38;5;66;03m# If we want to actually tail call to torch.jit.load, we need to\u001b[39;00m\n\u001b[0;32m   1429\u001b[0m         \u001b[38;5;66;03m# reset back to the original position.\u001b[39;00m\n\u001b[0;32m   1430\u001b[0m         orig_position \u001b[38;5;241m=\u001b[39m opened_file\u001b[38;5;241m.\u001b[39mtell()\n",
      "File \u001b[1;32mc:\\Users\\nicka\\master-thesis\\packages\\Lib\\site-packages\\torch\\serialization.py:751\u001b[0m, in \u001b[0;36m_open_file_like\u001b[1;34m(name_or_buffer, mode)\u001b[0m\n\u001b[0;32m    749\u001b[0m \u001b[38;5;28;01mdef\u001b[39;00m\u001b[38;5;250m \u001b[39m\u001b[38;5;21m_open_file_like\u001b[39m(name_or_buffer, mode):\n\u001b[0;32m    750\u001b[0m     \u001b[38;5;28;01mif\u001b[39;00m _is_path(name_or_buffer):\n\u001b[1;32m--> 751\u001b[0m         \u001b[38;5;28;01mreturn\u001b[39;00m \u001b[43m_open_file\u001b[49m\u001b[43m(\u001b[49m\u001b[43mname_or_buffer\u001b[49m\u001b[43m,\u001b[49m\u001b[43m \u001b[49m\u001b[43mmode\u001b[49m\u001b[43m)\u001b[49m\n\u001b[0;32m    752\u001b[0m     \u001b[38;5;28;01melse\u001b[39;00m:\n\u001b[0;32m    753\u001b[0m         \u001b[38;5;28;01mif\u001b[39;00m \u001b[38;5;124m\"\u001b[39m\u001b[38;5;124mw\u001b[39m\u001b[38;5;124m\"\u001b[39m \u001b[38;5;129;01min\u001b[39;00m mode:\n",
      "File \u001b[1;32mc:\\Users\\nicka\\master-thesis\\packages\\Lib\\site-packages\\torch\\serialization.py:732\u001b[0m, in \u001b[0;36m_open_file.__init__\u001b[1;34m(self, name, mode)\u001b[0m\n\u001b[0;32m    731\u001b[0m \u001b[38;5;28;01mdef\u001b[39;00m\u001b[38;5;250m \u001b[39m\u001b[38;5;21m__init__\u001b[39m(\u001b[38;5;28mself\u001b[39m, name, mode):\n\u001b[1;32m--> 732\u001b[0m     \u001b[38;5;28msuper\u001b[39m()\u001b[38;5;241m.\u001b[39m\u001b[38;5;21m__init__\u001b[39m(\u001b[38;5;28;43mopen\u001b[39;49m\u001b[43m(\u001b[49m\u001b[43mname\u001b[49m\u001b[43m,\u001b[49m\u001b[43m \u001b[49m\u001b[43mmode\u001b[49m\u001b[43m)\u001b[49m)\n",
      "\u001b[1;31mFileNotFoundError\u001b[0m: [Errno 2] No such file or directory: 'generated_CGAN_output_test\\\\q0\\\\generated_returns_REEL_q0.pt'"
     ]
    }
   ],
   "source": [
    "for asset_name in returns_df.columns:\n",
    "    # Create a new function that loads all fucking quarter for a fucking asset\n",
    "    generated_returns = load_all_generated_quarters(asset_name, quarterly=True, test=True)\n",
    "\n",
    "    failures, var_thresholds = backtest_var_single_asset(test_returns_df[asset_name], generated_returns, asset_name, quarterly=True)\n",
    "\n",
    "    perform_var_backtesting_tests(failures=failures, returns=test_returns_df[asset_name], var_forecast=var_thresholds, asset_name=asset_name, generated_returns=generated_returns)\n",
    "\n",
    "\n",
    "    perform_distribution_tests(generated_returns=generated_returns[0], empirical_returns_rolling=create_rolling_empirical(returns_df[asset_name]), asset_name = asset_name)\n"
   ]
  },
  {
   "cell_type": "code",
   "execution_count": null,
   "metadata": {},
   "outputs": [],
   "source": []
  }
 ],
 "metadata": {
  "kernelspec": {
   "display_name": "packages",
   "language": "python",
   "name": "python3"
  },
  "language_info": {
   "codemirror_mode": {
    "name": "ipython",
    "version": 3
   },
   "file_extension": ".py",
   "mimetype": "text/x-python",
   "name": "python",
   "nbconvert_exporter": "python",
   "pygments_lexer": "ipython3",
   "version": "3.12.3"
  }
 },
 "nbformat": 4,
 "nbformat_minor": 2
}
