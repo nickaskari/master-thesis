{
 "cells": [
  {
   "cell_type": "markdown",
   "metadata": {},
   "source": [
    "# Comparison of All Models - Backtesting, Vizualization\n",
    "\n",
    "This notebook compares all internal models, as well as the standard formula approach. The comparison will be done with the implemented backtesting in mind. \n",
    "\n",
    "Additional plots, and vizualizations might be presented."
   ]
  },
  {
   "cell_type": "markdown",
   "metadata": {},
   "source": []
  }
 ],
 "metadata": {
  "language_info": {
   "name": "python"
  }
 },
 "nbformat": 4,
 "nbformat_minor": 2
}
