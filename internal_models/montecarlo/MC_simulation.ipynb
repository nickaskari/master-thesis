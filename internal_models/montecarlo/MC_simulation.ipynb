{
 "cells": [
  {
   "cell_type": "markdown",
   "metadata": {},
   "source": [
    "# Monte Carlo Simulation using appropriate stochastic models"
   ]
  },
  {
   "cell_type": "markdown",
   "metadata": {},
   "source": [
    "### Simple\n",
    "Equity - GBM\n",
    "Bonds - Vasicek interest rate model for interest rates, combined with a deterministic credit spread for pricing bonds. (Simple, mean-reverting and analytically tractable). \n",
    "\n",
    "\n",
    "### Advanced\n",
    "Equity - GBM with Garch-EVT-Copula\n",
    "Bonds - CIR model for interest rates and credit risk via markov chains\n"
   ]
  },
  {
   "cell_type": "code",
   "execution_count": 5,
   "metadata": {},
   "outputs": [],
   "source": [
    "import pandas as pd  \n",
    "import numpy as np\n",
    "from scipy.stats import t, rankdata\n",
    "from copulae import StudentCopula\n",
    "import matplotlib.pyplot as plt\n",
    "\n",
    "from dotenv.main import load_dotenv\n",
    "load_dotenv(override=True)\n",
    "\n",
    "import os"
   ]
  },
  {
   "cell_type": "code",
   "execution_count": 6,
   "metadata": {},
   "outputs": [],
   "source": [
    "def fetch_data_df():\n",
    "    df = pd.read_csv(\n",
    "        '../../data/final_daily_returns_asset_classes.csv', index_col=0, parse_dates=True)\n",
    "    df.index = pd.to_datetime(df.index)\n",
    "    return df"
   ]
  },
  {
   "cell_type": "code",
   "execution_count": 7,
   "metadata": {},
   "outputs": [
    {
     "data": {
      "text/html": [
       "<div>\n",
       "<style scoped>\n",
       "    .dataframe tbody tr th:only-of-type {\n",
       "        vertical-align: middle;\n",
       "    }\n",
       "\n",
       "    .dataframe tbody tr th {\n",
       "        vertical-align: top;\n",
       "    }\n",
       "\n",
       "    .dataframe thead th {\n",
       "        text-align: right;\n",
       "    }\n",
       "</style>\n",
       "<table border=\"1\" class=\"dataframe\">\n",
       "  <thead>\n",
       "    <tr style=\"text-align: right;\">\n",
       "      <th></th>\n",
       "      <th>REEL</th>\n",
       "      <th>PE</th>\n",
       "      <th>MSCIWORLD</th>\n",
       "      <th>IG</th>\n",
       "      <th>GOV</th>\n",
       "      <th>HY</th>\n",
       "      <th>EONIA</th>\n",
       "    </tr>\n",
       "    <tr>\n",
       "      <th>Date</th>\n",
       "      <th></th>\n",
       "      <th></th>\n",
       "      <th></th>\n",
       "      <th></th>\n",
       "      <th></th>\n",
       "      <th></th>\n",
       "      <th></th>\n",
       "    </tr>\n",
       "  </thead>\n",
       "  <tbody>\n",
       "    <tr>\n",
       "      <th>2005-10-11</th>\n",
       "      <td>0.003231</td>\n",
       "      <td>0.006833</td>\n",
       "      <td>0.004578</td>\n",
       "      <td>-0.001342</td>\n",
       "      <td>-0.001916</td>\n",
       "      <td>-0.004075</td>\n",
       "      <td>0.000054</td>\n",
       "    </tr>\n",
       "    <tr>\n",
       "      <th>2005-10-12</th>\n",
       "      <td>-0.003550</td>\n",
       "      <td>-0.009657</td>\n",
       "      <td>-0.007867</td>\n",
       "      <td>-0.002606</td>\n",
       "      <td>-0.001570</td>\n",
       "      <td>-0.004370</td>\n",
       "      <td>0.000058</td>\n",
       "    </tr>\n",
       "    <tr>\n",
       "      <th>2005-10-13</th>\n",
       "      <td>-0.018599</td>\n",
       "      <td>-0.010692</td>\n",
       "      <td>0.000588</td>\n",
       "      <td>-0.002331</td>\n",
       "      <td>-0.003062</td>\n",
       "      <td>-0.003423</td>\n",
       "      <td>0.000058</td>\n",
       "    </tr>\n",
       "    <tr>\n",
       "      <th>2005-10-14</th>\n",
       "      <td>-0.007856</td>\n",
       "      <td>0.001569</td>\n",
       "      <td>-0.002991</td>\n",
       "      <td>-0.000564</td>\n",
       "      <td>0.000060</td>\n",
       "      <td>0.001618</td>\n",
       "      <td>0.000058</td>\n",
       "    </tr>\n",
       "    <tr>\n",
       "      <th>2005-10-17</th>\n",
       "      <td>-0.003613</td>\n",
       "      <td>0.000492</td>\n",
       "      <td>0.003290</td>\n",
       "      <td>0.000458</td>\n",
       "      <td>-0.000227</td>\n",
       "      <td>0.005447</td>\n",
       "      <td>0.000173</td>\n",
       "    </tr>\n",
       "  </tbody>\n",
       "</table>\n",
       "</div>"
      ],
      "text/plain": [
       "                REEL        PE  MSCIWORLD        IG       GOV        HY  \\\n",
       "Date                                                                      \n",
       "2005-10-11  0.003231  0.006833   0.004578 -0.001342 -0.001916 -0.004075   \n",
       "2005-10-12 -0.003550 -0.009657  -0.007867 -0.002606 -0.001570 -0.004370   \n",
       "2005-10-13 -0.018599 -0.010692   0.000588 -0.002331 -0.003062 -0.003423   \n",
       "2005-10-14 -0.007856  0.001569  -0.002991 -0.000564  0.000060  0.001618   \n",
       "2005-10-17 -0.003613  0.000492   0.003290  0.000458 -0.000227  0.005447   \n",
       "\n",
       "               EONIA  \n",
       "Date                  \n",
       "2005-10-11  0.000054  \n",
       "2005-10-12  0.000058  \n",
       "2005-10-13  0.000058  \n",
       "2005-10-14  0.000058  \n",
       "2005-10-17  0.000173  "
      ]
     },
     "execution_count": 7,
     "metadata": {},
     "output_type": "execute_result"
    }
   ],
   "source": [
    "returns_df = fetch_data_df()\n",
    "\n",
    "returns_df.head()"
   ]
  },
  {
   "cell_type": "code",
   "execution_count": null,
   "metadata": {},
   "outputs": [],
   "source": []
  }
 ],
 "metadata": {
  "kernelspec": {
   "display_name": "packages",
   "language": "python",
   "name": "python3"
  },
  "language_info": {
   "codemirror_mode": {
    "name": "ipython",
    "version": 3
   },
   "file_extension": ".py",
   "mimetype": "text/x-python",
   "name": "python",
   "nbconvert_exporter": "python",
   "pygments_lexer": "ipython3",
   "version": "3.8.8"
  }
 },
 "nbformat": 4,
 "nbformat_minor": 2
}
