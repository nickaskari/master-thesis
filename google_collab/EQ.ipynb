{
 "cells": [
  {
   "cell_type": "markdown",
   "metadata": {
    "id": "jb6uOhT4Y8J0"
   },
   "source": [
    "## This notebook aims to visualize the different asset distributions produced by CGAN\n",
    "\n",
    "Testing BondGANS"
   ]
  },
  {
   "cell_type": "code",
   "execution_count": 26,
   "metadata": {
    "colab": {
     "base_uri": "https://localhost:8080/"
    },
    "executionInfo": {
     "elapsed": 1239,
     "status": "ok",
     "timestamp": 1749332251395,
     "user": {
      "displayName": "Nick",
      "userId": "06460157292764517305"
     },
     "user_tz": -120
    },
    "id": "1G71pn6WZbyx",
    "outputId": "33202c6c-c6b4-4913-df10-85252aff5597"
   },
   "outputs": [
    {
     "name": "stdout",
     "output_type": "stream",
     "text": [
      "Drive already mounted at /content/drive/; to attempt to forcibly remount, call drive.mount(\"/content/drive/\", force_remount=True).\n"
     ]
    }
   ],
   "source": [
    "from google.colab import drive\n",
    "drive.mount('/content/drive/')"
   ]
  },
  {
   "cell_type": "code",
   "execution_count": 2,
   "metadata": {
    "colab": {
     "base_uri": "https://localhost:8080/"
    },
    "executionInfo": {
     "elapsed": 7891,
     "status": "ok",
     "timestamp": 1749331469628,
     "user": {
      "displayName": "Nick",
      "userId": "06460157292764517305"
     },
     "user_tz": -120
    },
    "id": "5FrK156KY8J1",
    "outputId": "08782628-d10d-4ffc-b5bd-5e3981f5ae5f"
   },
   "outputs": [
    {
     "name": "stdout",
     "output_type": "stream",
     "text": [
      "Collecting python-dotenv\n",
      "  Downloading python_dotenv-1.1.0-py3-none-any.whl.metadata (24 kB)\n",
      "Downloading python_dotenv-1.1.0-py3-none-any.whl (20 kB)\n",
      "Installing collected packages: python-dotenv\n",
      "Successfully installed python-dotenv-1.1.0\n"
     ]
    }
   ],
   "source": [
    "import os\n",
    "import torch\n",
    "import matplotlib.pyplot as plt\n",
    "import seaborn as sns\n",
    "import pandas as pd\n",
    "import numpy as np\n",
    "from sklearn.decomposition import PCA\n",
    "from scipy.spatial.distance import pdist\n",
    "import sys\n",
    "from tqdm import tqdm\n",
    "\n",
    "from sklearn.preprocessing import StandardScaler\n",
    "\n",
    "\n",
    "!pip install python-dotenv\n",
    "\n",
    "from dotenv.main import load_dotenv\n",
    "load_dotenv(override=True)\n",
    "import os\n"
   ]
  },
  {
   "cell_type": "code",
   "execution_count": 3,
   "metadata": {
    "executionInfo": {
     "elapsed": 8157,
     "status": "ok",
     "timestamp": 1749331477787,
     "user": {
      "displayName": "Nick",
      "userId": "06460157292764517305"
     },
     "user_tz": -120
    },
    "id": "jSJFVhmpY8J2"
   },
   "outputs": [],
   "source": [
    "from drive.MyDrive.MasterThesis.FashionGANOLD import ForcastGAN\n",
    "from drive.MyDrive.MasterThesis.FashionGAN import FashionGAN\n",
    "from drive.MyDrive.MasterThesis.BondGAN2 import BondGAN\n",
    "from drive.MyDrive.MasterThesis.lambardGAN import LambardGAN\n",
    "from drive.MyDrive.MasterThesis.simple_gan_portfolio import SimpleGANPortfolio\n",
    "from drive.MyDrive.MasterThesis.gan_plotting import extensive_plotting\n",
    "\n",
    "from drive.MyDrive.MasterThesis.shortrateGAN import shortRateGAN\n",
    "from drive.MyDrive.MasterThesis.lambardGAN import LambardGAN"
   ]
  },
  {
   "cell_type": "markdown",
   "metadata": {
    "id": "hWR9clEIY8J2"
   },
   "source": [
    "### Parameters"
   ]
  },
  {
   "cell_type": "code",
   "execution_count": 4,
   "metadata": {
    "executionInfo": {
     "elapsed": 2,
     "status": "ok",
     "timestamp": 1749331477794,
     "user": {
      "displayName": "Nick",
      "userId": "06460157292764517305"
     },
     "user_tz": -120
    },
    "id": "U7t6pwo0Y8J2"
   },
   "outputs": [],
   "source": [
    "assets_0 = 1000000\n",
    "liabilities_0 = 1000000 * 0.88\n",
    "num_simulations = 10000\n",
    "bof_0 = assets_0 - liabilities_0"
   ]
  },
  {
   "cell_type": "markdown",
   "metadata": {
    "id": "eygxnkKFY8J2"
   },
   "source": [
    "## Note to self -- We only test assets MSCIWORLD, HY and EONIA"
   ]
  },
  {
   "cell_type": "code",
   "execution_count": 5,
   "metadata": {
    "executionInfo": {
     "elapsed": 1551,
     "status": "ok",
     "timestamp": 1749331479346,
     "user": {
      "displayName": "Nick",
      "userId": "06460157292764517305"
     },
     "user_tz": -120
    },
    "id": "FC9B7AL0Y8J2"
   },
   "outputs": [],
   "source": [
    "'''\n",
    "def fetch_data_df():\n",
    "    # Load the data\n",
    "    df = pd.read_csv('drive/MyDrive/MasterThesis/final_daily_returns_asset_classes.csv', index_col=0, parse_dates=True)\n",
    "    df.index = pd.to_datetime(df.index)\n",
    "    start_test_date = '2020-01-01'\n",
    "\n",
    "    if start_test_date is None:\n",
    "        raise ValueError(\"Environment variable 'START_TEST_DATE' is not set.\")\n",
    "\n",
    "    start_test_date = pd.to_datetime(start_test_date)\n",
    "\n",
    "    columns = [1,2]#[0,1,2,4]\n",
    "    selected_columns = df.iloc[:, columns]  # Remember: Python uses 0-based indexing\n",
    "\n",
    "    pre_test_df = selected_columns[selected_columns.index < start_test_date]\n",
    "    test_df = selected_columns[selected_columns.index >= start_test_date].iloc[:]\n",
    "\n",
    "    return pre_test_df, test_df\n",
    "\n",
    "returns_df, test_returns_df = fetch_data_df()\n",
    "\n",
    "'''\n",
    "\n",
    "def fetch_data_df():\n",
    "    df = pd.read_csv('drive/MyDrive/MasterThesis/final_daily_returns_asset_classes.csv', index_col=0, parse_dates=True)\n",
    "\n",
    "    reference_start_test_date = pd.to_datetime('2020-01-01')\n",
    "    selected_columns_indices = [2]\n",
    "\n",
    "    data_subset = df.iloc[:, selected_columns_indices]\n",
    "\n",
    "    if not data_subset.index.is_monotonic_increasing:\n",
    "        data_subset = data_subset.sort_index()\n",
    "\n",
    "    ref_idx_position = data_subset.index.searchsorted(reference_start_test_date)\n",
    "\n",
    "    actual_split_idx_position = max(0, ref_idx_position - 252)\n",
    "\n",
    "    actual_split_date = data_subset.index[actual_split_idx_position]\n",
    "\n",
    "    pre_test_df = data_subset[data_subset.index < actual_split_date]\n",
    "    test_df = data_subset[data_subset.index >= actual_split_date]\n",
    "\n",
    "    return pre_test_df, test_df\n",
    "\n",
    "\n",
    "returns_df, test_returns_df = fetch_data_df()"
   ]
  },
  {
   "cell_type": "code",
   "execution_count": 6,
   "metadata": {
    "executionInfo": {
     "elapsed": 2,
     "status": "ok",
     "timestamp": 1749331479350,
     "user": {
      "displayName": "Nick",
      "userId": "06460157292764517305"
     },
     "user_tz": -120
    },
    "id": "dH32JmcIY8J2"
   },
   "outputs": [],
   "source": [
    "asset_names = returns_df.columns\n",
    "\n",
    "gan_dict = {}"
   ]
  },
  {
   "cell_type": "code",
   "execution_count": 7,
   "metadata": {
    "colab": {
     "base_uri": "https://localhost:8080/",
     "height": 873
    },
    "executionInfo": {
     "elapsed": 221776,
     "status": "ok",
     "timestamp": 1749331701127,
     "user": {
      "displayName": "Nick",
      "userId": "06460157292764517305"
     },
     "user_tz": -120
    },
    "id": "DR7xneGAxbKm",
    "outputId": "ca170d6b-7da1-4c51-c79e-e31083b62dcb"
   },
   "outputs": [
    {
     "name": "stderr",
     "output_type": "stream",
     "text": [
      "\rTraining GANs:   0%|          | 0/1 [00:00<?, ?asset/s]"
     ]
    },
    {
     "name": "stdout",
     "output_type": "stream",
     "text": [
      "Training GAN for MSCIWORLD...\n",
      "Training: [████████████████████] 100.0% | Epoch 5000/5000 | Batch 2/2 | D: 0.6075 | G: 0.0000 | Tail: 0.0000\n"
     ]
    },
    {
     "data": {
      "image/png": "[encoded data removed]",
      "text/plain": [
       "<Figure size 1200x800 with 4 Axes>"
      ]
     },
     "metadata": {},
     "output_type": "display_data"
    },
    {
     "name": "stderr",
     "output_type": "stream",
     "text": [
      "Training GANs: 100%|██████████| 1/1 [03:41<00:00, 221.35s/asset]"
     ]
    },
    {
     "name": "stdout",
     "output_type": "stream",
     "text": [
      "Finished training GAN for MSCIWORLD.\n",
      "\n",
      "4\n",
      "Generated scenarios saved to: generated_CGAN_output_test/generated_returns_MSCIWORLD_final_scenarios.pt\n",
      "Finished generating scenarios for MSCIWORLD.\n",
      "\n",
      "MSCIWORLD: Stored initial generated scenarios for 2019-01-02 00:00:00.\n"
     ]
    },
    {
     "name": "stderr",
     "output_type": "stream",
     "text": [
      "\n"
     ]
    }
   ],
   "source": [
    "# Dictionary to store generated scenarios by asset and date.\n",
    "# Structure: { asset_name: { date: generated_scenarios, ... }, ... }\n",
    "scenarios_results = {}\n",
    "\n",
    "for asset_name in tqdm(returns_df.columns, desc=\"Training GANs\", unit=\"asset\"):\n",
    "    print(f\"Training GAN for {asset_name}...\")\n",
    "    asset_returns = returns_df[asset_name]\n",
    "\n",
    "    if asset_name in ['IG', 'HY', 'GOV']:\n",
    "          gan = BondGAN(asset_returns, asset_name, n_epochs=1000, lambda_gp =7, cond_scale=0.2)\n",
    "          gan.g_lr = 10e-6\n",
    "          gan.d_lr = 50e-8\n",
    "\n",
    "    elif asset_name == 'EONIA':\n",
    "        gan = shortRateGAN(asset_returns, asset_name, n_epochs=1200, lambda_gp = 7, cond_scale=0.2)\n",
    "        gan.g_lr = 10e-7\n",
    "        gan.d_lr = 50e-8\n",
    "    else:\n",
    "        #        gan = LambardGAN(asset_returns, asset_name, n_epochs=10000,\n",
    "                         #lambda_gp = 2, lambda_tail=5, lag_periods=[252, 500, 700], cond_scale=0.6)\n",
    "        gan = LambardGAN(asset_returns, asset_name, n_epochs=5000,\n",
    "                         lambda_gp = 2, lambda_tail=5, lag_periods=[252, 500, 700], cond_scale=0.29, lambda_skew = 0.5)\n",
    "        gan.g_lr = 10e-6\n",
    "        gan.d_lr = 10e-7\n",
    "\n",
    "    gan.train()\n",
    "    print(f\"Finished training GAN for {asset_name}.\\n\")\n",
    "\n",
    "    scenarios = gan.generate_scenarios(num_scenarios=4000)\n",
    "    print(f\"Finished generating scenarios for {asset_name}.\\n\")\n",
    "\n",
    "    gan_dict[asset_name] = gan\n",
    "\n",
    "    initial_date = returns_df.index[-1]\n",
    "    next_day = initial_date + pd.Timedelta(days=1)\n",
    "    scenarios_results.setdefault(asset_name, {})[next_day] = scenarios\n",
    "    print(f\"{asset_name}: Stored initial generated scenarios for {initial_date}.\")"
   ]
  },
  {
   "cell_type": "code",
   "execution_count": 8,
   "metadata": {
    "colab": {
     "base_uri": "https://localhost:8080/",
     "height": 87
    },
    "executionInfo": {
     "elapsed": 31,
     "status": "ok",
     "timestamp": 1749331701160,
     "user": {
      "displayName": "Nick",
      "userId": "06460157292764517305"
     },
     "user_tz": -120
    },
    "id": "9IDjzEwUI5VG",
    "outputId": "65ee1ac6-3484-4b2d-c5a5-fe0ec9fb41df"
   },
   "outputs": [
    {
     "data": {
      "application/vnd.google.colaboratory.intrinsic+json": {
       "type": "string"
      },
      "text/plain": [
       "\"\\nfor asset_name in returns_df.columns:\\n    print(asset_name)\\n    if asset_name in ['IG', 'HY', 'GOV']:\\n        gan_dict[asset_name] = load_gan_model(asset_name, BondGAN, 2)\\n    elif asset_name == 'EONIA':\\n        gan_dict[asset_name] = load_gan_model(asset_name, shortRateGAN, 2)\\n    else:\\n      continue\\n      gan_dict[asset_name] = load_gan_model(asset_name, LambardGAN, 1)\\n\\n\""
      ]
     },
     "execution_count": 8,
     "metadata": {},
     "output_type": "execute_result"
    }
   ],
   "source": [
    "def load_gan_model(asset_name, model_class, num):\n",
    "    model_path = f\"/content/drive/MyDrive/gan_models_{num}/{asset_name}_gan.pt\"\n",
    "    checkpoint = torch.load(model_path, weights_only=False)\n",
    "\n",
    "    dummy_returns = returns_df[asset_name]\n",
    "\n",
    "    if asset_name in ['IG', 'HY', 'GOV']:\n",
    "        gan = model_class(dummy_returns, asset_name, n_epochs=1000, lambda_gp =7, cond_scale=1)\n",
    "        gan.g_lr = 10e-6\n",
    "        gan.d_lr = 50e-8\n",
    "\n",
    "    elif asset_name == 'EONIA':\n",
    "        gan = model_class(dummy_returns, asset_name, n_epochs=1200, lambda_gp = 7, cond_scale=1)\n",
    "        gan.g_lr = 10e-7\n",
    "        gan.d_lr = 50e-8\n",
    "    else:\n",
    "        gan = model_class(dummy_returns, asset_name, n_epochs=3000,\n",
    "                         lambda_gp = 2, lambda_tail=5, lag_periods=[252, 500, 700], cond_scale=0.35)\n",
    "        gan.g_lr = 10e-6\n",
    "        gan.d_lr = 10e-7\n",
    "\n",
    "    gan.setup()\n",
    "\n",
    "    # Load saved weights and scalers\n",
    "    gan.generator.load_state_dict(checkpoint['generator'])\n",
    "    gan.generator.eval()\n",
    "    gan.discriminator.load_state_dict(checkpoint['discriminator'])\n",
    "    gan.discriminator.eval()\n",
    "    #gan.scaler = checkpoint['scaler']\n",
    "    #gan.condition_scaler = checkpoint['condition_scaler']\n",
    "\n",
    "    device = 'cuda' if torch.cuda.is_available() else 'cpu'\n",
    "    gan.generator.to(device)\n",
    "    gan.discriminator.to(device)\n",
    "    gan.cuda = torch.cuda.is_available()\n",
    "\n",
    "    return gan\n",
    "\n",
    "\n",
    "\n",
    "'''\n",
    "for asset_name in returns_df.columns:\n",
    "    print(asset_name)\n",
    "    if asset_name in ['IG', 'HY', 'GOV']:\n",
    "        gan_dict[asset_name] = load_gan_model(asset_name, BondGAN, 2)\n",
    "    elif asset_name == 'EONIA':\n",
    "        gan_dict[asset_name] = load_gan_model(asset_name, shortRateGAN, 2)\n",
    "    else:\n",
    "      continue\n",
    "      gan_dict[asset_name] = load_gan_model(asset_name, LambardGAN, 1)\n",
    "\n",
    "'''\n",
    "\n"
   ]
  },
  {
   "cell_type": "code",
   "execution_count": 9,
   "metadata": {
    "executionInfo": {
     "elapsed": 36,
     "status": "ok",
     "timestamp": 1749331701197,
     "user": {
      "displayName": "Nick",
      "userId": "06460157292764517305"
     },
     "user_tz": -120
    },
    "id": "j-IRT1aljHOS"
   },
   "outputs": [],
   "source": [
    "# Prelimenary  For reseting\n",
    "\n",
    "for asset_name in gan_dict:\n",
    "    gan_dict[asset_name].returns_series = returns_df[asset_name]"
   ]
  },
  {
   "cell_type": "code",
   "execution_count": 10,
   "metadata": {
    "colab": {
     "base_uri": "https://localhost:8080/"
    },
    "executionInfo": {
     "elapsed": 84783,
     "status": "ok",
     "timestamp": 1749331785982,
     "user": {
      "displayName": "Nick",
      "userId": "06460157292764517305"
     },
     "user_tz": -120
    },
    "id": "HWPPgLaFY8J3",
    "outputId": "95cb383c-5b56-43a6-9891-6e75b06073c1"
   },
   "outputs": [
    {
     "name": "stdout",
     "output_type": "stream",
     "text": [
      "Asset = MSCIWORLD\n"
     ]
    },
    {
     "name": "stderr",
     "output_type": "stream",
     "text": [
      "Processing Dates: 100%|██████████| 1232/1232 [01:25<00:00, 14.43dates/s]\n"
     ]
    }
   ],
   "source": [
    "all_dates = []\n",
    "\n",
    "for asset_name in test_returns_df.columns:\n",
    "    asset_returns = returns_df[asset_name]\n",
    "    gan = gan_dict[asset_name]\n",
    "    foundNAN = False\n",
    "    print(\"Asset =\", asset_name)\n",
    "\n",
    "    i = 0\n",
    "    for test_day in tqdm(test_returns_df.index[:-252], desc=\"Processing Dates\", unit=\"dates\"):\n",
    "        i += 1\n",
    "        new_return = test_returns_df.loc[test_day, asset_name]\n",
    "\n",
    "        if test_day != test_returns_df.index[-1]:\n",
    "            next_day = test_returns_df.index[test_returns_df.index.get_loc(test_day) + 1]\n",
    "        else:\n",
    "            print(f\"Warning: {test_day} is the last day in the index, no next day available.\")\n",
    "            continue\n",
    "\n",
    "        #if i % 252 == 0:\n",
    "          # Retrain\n",
    "         # gan.prep_retrain(new_return, test_day)\n",
    "          #print()\n",
    "         # gan.train()\n",
    "\n",
    "        # test different lookbacks\n",
    "        scenarios = gan.generate_new_scenarios_from_return(new_return, test_day, 1, next_day, save=True, num_scenarios=10000)\n",
    "\n",
    "        has_inf = np.isinf(scenarios).any()\n",
    "        has_nan = np.isnan(scenarios).any()\n",
    "\n",
    "        if has_nan or has_inf:\n",
    "            print(\"FOUND NAN\")\n",
    "            foundNAN = True\n",
    "            break\n",
    "        all_dates.append(next_day)\n",
    "\n",
    "    if foundNAN: break"
   ]
  },
  {
   "cell_type": "markdown",
   "metadata": {
    "id": "C4kPC84MY8J3"
   },
   "source": [
    "## Making sure the window ends when we want to start testing"
   ]
  },
  {
   "cell_type": "code",
   "execution_count": 11,
   "metadata": {
    "colab": {
     "base_uri": "https://localhost:8080/",
     "height": 237
    },
    "executionInfo": {
     "elapsed": 93,
     "status": "ok",
     "timestamp": 1749331786108,
     "user": {
      "displayName": "Nick",
      "userId": "06460157292764517305"
     },
     "user_tz": -120
    },
    "id": "0r6NSaxJY8J3",
    "outputId": "f8d31d59-4de2-4d01-e479-646c9e151c21"
   },
   "outputs": [
    {
     "data": {
      "application/vnd.google.colaboratory.intrinsic+json": {
       "summary": "{\n  \"name\": \"historical_df\",\n  \"rows\": 1484,\n  \"fields\": [\n    {\n      \"column\": \"Date\",\n      \"properties\": {\n        \"dtype\": \"date\",\n        \"min\": \"2019-01-03 00:00:00\",\n        \"max\": \"2024-11-06 00:00:00\",\n        \"num_unique_values\": 1484,\n        \"samples\": [\n          \"2019-07-02 00:00:00\",\n          \"2020-09-17 00:00:00\",\n          \"2023-02-02 00:00:00\"\n        ],\n        \"semantic_type\": \"\",\n        \"description\": \"\"\n      }\n    },\n    {\n      \"column\": \"MSCIWORLD\",\n      \"properties\": {\n        \"dtype\": \"number\",\n        \"std\": 0.010617606790483824,\n        \"min\": -0.1006755068633032,\n        \"max\": 0.0840455222747327,\n        \"num_unique_values\": 1484,\n        \"samples\": [\n          0.0055158756632553,\n          -0.0065157575907,\n          0.0117477546809769\n        ],\n        \"semantic_type\": \"\",\n        \"description\": \"\"\n      }\n    }\n  ]\n}",
       "type": "dataframe",
       "variable_name": "historical_df"
      },
      "text/html": [
       "\n",
       "  <div id=\"df-7edd2fe3-15a1-4ab1-b53b-62a60d19ddcc\" class=\"colab-df-container\">\n",
       "    <div>\n",
       "<style scoped>\n",
       "    .dataframe tbody tr th:only-of-type {\n",
       "        vertical-align: middle;\n",
       "    }\n",
       "\n",
       "    .dataframe tbody tr th {\n",
       "        vertical-align: top;\n",
       "    }\n",
       "\n",
       "    .dataframe thead th {\n",
       "        text-align: right;\n",
       "    }\n",
       "</style>\n",
       "<table border=\"1\" class=\"dataframe\">\n",
       "  <thead>\n",
       "    <tr style=\"text-align: right;\">\n",
       "      <th></th>\n",
       "      <th>MSCIWORLD</th>\n",
       "    </tr>\n",
       "    <tr>\n",
       "      <th>Date</th>\n",
       "      <th></th>\n",
       "    </tr>\n",
       "  </thead>\n",
       "  <tbody>\n",
       "    <tr>\n",
       "      <th>2019-01-03</th>\n",
       "      <td>-0.017998</td>\n",
       "    </tr>\n",
       "    <tr>\n",
       "      <th>2019-01-04</th>\n",
       "      <td>0.025947</td>\n",
       "    </tr>\n",
       "    <tr>\n",
       "      <th>2019-01-07</th>\n",
       "      <td>0.003607</td>\n",
       "    </tr>\n",
       "    <tr>\n",
       "      <th>2019-01-08</th>\n",
       "      <td>0.010125</td>\n",
       "    </tr>\n",
       "    <tr>\n",
       "      <th>2019-01-09</th>\n",
       "      <td>0.001916</td>\n",
       "    </tr>\n",
       "  </tbody>\n",
       "</table>\n",
       "</div>\n",
       "    <div class=\"colab-df-buttons\">\n",
       "\n",
       "  <div class=\"colab-df-container\">\n",
       "    <button class=\"colab-df-convert\" onclick=\"convertToInteractive('df-7edd2fe3-15a1-4ab1-b53b-62a60d19ddcc')\"\n",
       "            title=\"Convert this dataframe to an interactive table.\"\n",
       "            style=\"display:none;\">\n",
       "\n",
       "  <svg xmlns=\"http://www.w3.org/2000/svg\" height=\"24px\" viewBox=\"0 -960 960 960\">\n",
       "    <path d=\"M120-120v-720h720v720H120Zm60-500h600v-160H180v160Zm220 220h160v-160H400v160Zm0 220h160v-160H400v160ZM180-400h160v-160H180v160Zm440 0h160v-160H620v160ZM180-180h160v-160H180v160Zm440 0h160v-160H620v160Z\"/>\n",
       "  </svg>\n",
       "    </button>\n",
       "\n",
       "  <style>\n",
       "    .colab-df-container {\n",
       "      display:flex;\n",
       "      gap: 12px;\n",
       "    }\n",
       "\n",
       "    .colab-df-convert {\n",
       "      background-color: #E8F0FE;\n",
       "      border: none;\n",
       "      border-radius: 50%;\n",
       "      cursor: pointer;\n",
       "      display: none;\n",
       "      fill: #1967D2;\n",
       "      height: 32px;\n",
       "      padding: 0 0 0 0;\n",
       "      width: 32px;\n",
       "    }\n",
       "\n",
       "    .colab-df-convert:hover {\n",
       "      background-color: #E2EBFA;\n",
       "      box-shadow: 0px 1px 2px rgba(60, 64, 67, 0.3), 0px 1px 3px 1px rgba(60, 64, 67, 0.15);\n",
       "      fill: #174EA6;\n",
       "    }\n",
       "\n",
       "    .colab-df-buttons div {\n",
       "      margin-bottom: 4px;\n",
       "    }\n",
       "\n",
       "    [theme=dark] .colab-df-convert {\n",
       "      background-color: #3B4455;\n",
       "      fill: #D2E3FC;\n",
       "    }\n",
       "\n",
       "    [theme=dark] .colab-df-convert:hover {\n",
       "      background-color: #434B5C;\n",
       "      box-shadow: 0px 1px 3px 1px rgba(0, 0, 0, 0.15);\n",
       "      filter: drop-shadow(0px 1px 2px rgba(0, 0, 0, 0.3));\n",
       "      fill: #FFFFFF;\n",
       "    }\n",
       "  </style>\n",
       "\n",
       "    <script>\n",
       "      const buttonEl =\n",
       "        document.querySelector('#df-7edd2fe3-15a1-4ab1-b53b-62a60d19ddcc button.colab-df-convert');\n",
       "      buttonEl.style.display =\n",
       "        google.colab.kernel.accessAllowed ? 'block' : 'none';\n",
       "\n",
       "      async function convertToInteractive(key) {\n",
       "        const element = document.querySelector('#df-7edd2fe3-15a1-4ab1-b53b-62a60d19ddcc');\n",
       "        const dataTable =\n",
       "          await google.colab.kernel.invokeFunction('convertToInteractive',\n",
       "                                                    [key], {});\n",
       "        if (!dataTable) return;\n",
       "\n",
       "        const docLinkHtml = 'Like what you see? Visit the ' +\n",
       "          '<a target=\"_blank\" href=https://colab.research.google.com/notebooks/data_table.ipynb>data table notebook</a>'\n",
       "          + ' to learn more about interactive tables.';\n",
       "        element.innerHTML = '';\n",
       "        dataTable['output_type'] = 'display_data';\n",
       "        await google.colab.output.renderOutput(dataTable, element);\n",
       "        const docLink = document.createElement('div');\n",
       "        docLink.innerHTML = docLinkHtml;\n",
       "        element.appendChild(docLink);\n",
       "      }\n",
       "    </script>\n",
       "  </div>\n",
       "\n",
       "\n",
       "    <div id=\"df-b4680826-4299-4033-85e1-43e82693de04\">\n",
       "      <button class=\"colab-df-quickchart\" onclick=\"quickchart('df-b4680826-4299-4033-85e1-43e82693de04')\"\n",
       "                title=\"Suggest charts\"\n",
       "                style=\"display:none;\">\n",
       "\n",
       "<svg xmlns=\"http://www.w3.org/2000/svg\" height=\"24px\"viewBox=\"0 0 24 24\"\n",
       "     width=\"24px\">\n",
       "    <g>\n",
       "        <path d=\"M19 3H5c-1.1 0-2 .9-2 2v14c0 1.1.9 2 2 2h14c1.1 0 2-.9 2-2V5c0-1.1-.9-2-2-2zM9 17H7v-7h2v7zm4 0h-2V7h2v10zm4 0h-2v-4h2v4z\"/>\n",
       "    </g>\n",
       "</svg>\n",
       "      </button>\n",
       "\n",
       "<style>\n",
       "  .colab-df-quickchart {\n",
       "      --bg-color: #E8F0FE;\n",
       "      --fill-color: #1967D2;\n",
       "      --hover-bg-color: #E2EBFA;\n",
       "      --hover-fill-color: #174EA6;\n",
       "      --disabled-fill-color: #AAA;\n",
       "      --disabled-bg-color: #DDD;\n",
       "  }\n",
       "\n",
       "  [theme=dark] .colab-df-quickchart {\n",
       "      --bg-color: #3B4455;\n",
       "      --fill-color: #D2E3FC;\n",
       "      --hover-bg-color: #434B5C;\n",
       "      --hover-fill-color: #FFFFFF;\n",
       "      --disabled-bg-color: #3B4455;\n",
       "      --disabled-fill-color: #666;\n",
       "  }\n",
       "\n",
       "  .colab-df-quickchart {\n",
       "    background-color: var(--bg-color);\n",
       "    border: none;\n",
       "    border-radius: 50%;\n",
       "    cursor: pointer;\n",
       "    display: none;\n",
       "    fill: var(--fill-color);\n",
       "    height: 32px;\n",
       "    padding: 0;\n",
       "    width: 32px;\n",
       "  }\n",
       "\n",
       "  .colab-df-quickchart:hover {\n",
       "    background-color: var(--hover-bg-color);\n",
       "    box-shadow: 0 1px 2px rgba(60, 64, 67, 0.3), 0 1px 3px 1px rgba(60, 64, 67, 0.15);\n",
       "    fill: var(--button-hover-fill-color);\n",
       "  }\n",
       "\n",
       "  .colab-df-quickchart-complete:disabled,\n",
       "  .colab-df-quickchart-complete:disabled:hover {\n",
       "    background-color: var(--disabled-bg-color);\n",
       "    fill: var(--disabled-fill-color);\n",
       "    box-shadow: none;\n",
       "  }\n",
       "\n",
       "  .colab-df-spinner {\n",
       "    border: 2px solid var(--fill-color);\n",
       "    border-color: transparent;\n",
       "    border-bottom-color: var(--fill-color);\n",
       "    animation:\n",
       "      spin 1s steps(1) infinite;\n",
       "  }\n",
       "\n",
       "  @keyframes spin {\n",
       "    0% {\n",
       "      border-color: transparent;\n",
       "      border-bottom-color: var(--fill-color);\n",
       "      border-left-color: var(--fill-color);\n",
       "    }\n",
       "    20% {\n",
       "      border-color: transparent;\n",
       "      border-left-color: var(--fill-color);\n",
       "      border-top-color: var(--fill-color);\n",
       "    }\n",
       "    30% {\n",
       "      border-color: transparent;\n",
       "      border-left-color: var(--fill-color);\n",
       "      border-top-color: var(--fill-color);\n",
       "      border-right-color: var(--fill-color);\n",
       "    }\n",
       "    40% {\n",
       "      border-color: transparent;\n",
       "      border-right-color: var(--fill-color);\n",
       "      border-top-color: var(--fill-color);\n",
       "    }\n",
       "    60% {\n",
       "      border-color: transparent;\n",
       "      border-right-color: var(--fill-color);\n",
       "    }\n",
       "    80% {\n",
       "      border-color: transparent;\n",
       "      border-right-color: var(--fill-color);\n",
       "      border-bottom-color: var(--fill-color);\n",
       "    }\n",
       "    90% {\n",
       "      border-color: transparent;\n",
       "      border-bottom-color: var(--fill-color);\n",
       "    }\n",
       "  }\n",
       "</style>\n",
       "\n",
       "      <script>\n",
       "        async function quickchart(key) {\n",
       "          const quickchartButtonEl =\n",
       "            document.querySelector('#' + key + ' button');\n",
       "          quickchartButtonEl.disabled = true;  // To prevent multiple clicks.\n",
       "          quickchartButtonEl.classList.add('colab-df-spinner');\n",
       "          try {\n",
       "            const charts = await google.colab.kernel.invokeFunction(\n",
       "                'suggestCharts', [key], {});\n",
       "          } catch (error) {\n",
       "            console.error('Error during call to suggestCharts:', error);\n",
       "          }\n",
       "          quickchartButtonEl.classList.remove('colab-df-spinner');\n",
       "          quickchartButtonEl.classList.add('colab-df-quickchart-complete');\n",
       "        }\n",
       "        (() => {\n",
       "          let quickchartButtonEl =\n",
       "            document.querySelector('#df-b4680826-4299-4033-85e1-43e82693de04 button');\n",
       "          quickchartButtonEl.style.display =\n",
       "            google.colab.kernel.accessAllowed ? 'block' : 'none';\n",
       "        })();\n",
       "      </script>\n",
       "    </div>\n",
       "\n",
       "    </div>\n",
       "  </div>\n"
      ],
      "text/plain": [
       "            MSCIWORLD\n",
       "Date                 \n",
       "2019-01-03  -0.017998\n",
       "2019-01-04   0.025947\n",
       "2019-01-07   0.003607\n",
       "2019-01-08   0.010125\n",
       "2019-01-09   0.001916"
      ]
     },
     "execution_count": 11,
     "metadata": {},
     "output_type": "execute_result"
    }
   ],
   "source": [
    "entire_df = pd.concat([returns_df, test_returns_df])\n",
    "\n",
    "'''\n",
    "test_start_date = '2020-01-01'\n",
    "test_start_date = pd.to_datetime(test_start_date)\n",
    "\n",
    "test_end_date = test_returns_df.index.max()\n",
    "print(\"Test end date:\", test_end_date)\n",
    "\n",
    "# Find the index location of the test_start_date in entire_df\n",
    "idx = entire_df.index.get_loc(test_end_date)\n",
    "idx_start = entire_df.index.get_loc(test_start_date)\n",
    "'''\n",
    "\n",
    "# Slice 252 rows before that index\n",
    "historical_df = test_returns_df\n",
    "historical_df.head()"
   ]
  },
  {
   "cell_type": "code",
   "execution_count": 12,
   "metadata": {
    "executionInfo": {
     "elapsed": 1,
     "status": "ok",
     "timestamp": 1749331786111,
     "user": {
      "displayName": "Nick",
      "userId": "06460157292764517305"
     },
     "user_tz": -120
    },
    "id": "C5BhzQbWY8J3"
   },
   "outputs": [],
   "source": [
    "# CALCULATE DELTA BOF ARRAY\n",
    "eonia = historical_df.iloc[:, -1]\n",
    "bof_0 = assets_0 - liabilities_0"
   ]
  },
  {
   "cell_type": "code",
   "execution_count": 13,
   "metadata": {
    "executionInfo": {
     "elapsed": 652,
     "status": "ok",
     "timestamp": 1749331786953,
     "user": {
      "displayName": "Nick",
      "userId": "06460157292764517305"
     },
     "user_tz": -120
    },
    "id": "w08lpPu8Y8J3"
   },
   "outputs": [],
   "source": [
    "n_windows = len(historical_df) - 252 + 1\n",
    "\n",
    "window_start_dates = []\n",
    "window_end_dates = []\n",
    "realized_bof_values = []\n",
    "realized_delta_bof_values_1 = []\n",
    "\n",
    "for t in range(n_windows):\n",
    "    # Get window data\n",
    "    window_data = historical_df.iloc[t:t+252]\n",
    "    window_start_date = historical_df.index[t]\n",
    "    window_end_date = historical_df.index[t+252-1]\n",
    "\n",
    "    # Get returns and EONIA for this window\n",
    "    window_returns = (window_data).sum(axis=1)\n",
    "    window_eonia = window_data.iloc[:, -1]\n",
    "\n",
    "    # Calculate portfolio value at the end of the window\n",
    "    # Starting from assets_0 each time\n",
    "    portfolio_value_end = assets_0 * (1 + window_returns).prod() # This is analogous to the yearly return\n",
    "\n",
    "    # Calculate liabilities at the end of the window\n",
    "    # Starting from liabilities_0 each time\n",
    "    liabilities_end = liabilities_0 * (1 + window_eonia).prod()\n",
    "\n",
    "    # Calculate BOF at the end of the window\n",
    "    bof_end = portfolio_value_end - liabilities_end\n",
    "    delta_bof = bof_end - bof_0\n",
    "\n",
    "    # Store results\n",
    "    window_start_dates.append(window_start_date)\n",
    "    window_end_dates.append(window_end_date)\n",
    "    realized_bof_values.append(bof_end)\n",
    "    realized_delta_bof_values_1.append(portfolio_value_end)"
   ]
  },
  {
   "cell_type": "markdown",
   "metadata": {
    "id": "20NNYw6ZY8J3"
   },
   "source": [
    "## Does not work, since when we have a rolling BOF_0, and windows are overlapping, returns are counted over again multiple times, hence blowing up bof_0\n",
    "\n",
    "To mitigate these i look at portfolio and liability values on a daily basis. I check the start and end values for all the different windows."
   ]
  },
  {
   "cell_type": "code",
   "execution_count": 14,
   "metadata": {
    "colab": {
     "base_uri": "https://localhost:8080/"
    },
    "executionInfo": {
     "elapsed": 100816,
     "status": "ok",
     "timestamp": 1749331887774,
     "user": {
      "displayName": "Nick",
      "userId": "06460157292764517305"
     },
     "user_tz": -120
    },
    "id": "cyel1nI9qcKg",
    "outputId": "859989ca-dd7f-4467-bd49-7b45cf07d10b"
   },
   "outputs": [
    {
     "name": "stderr",
     "output_type": "stream",
     "text": [
      "Processing dates with GPU: 100%|██████████| 1232/1232 [01:40<00:00, 12.22it/s]\n"
     ]
    }
   ],
   "source": [
    "import concurrent.futures\n",
    "from functools import partial\n",
    "from tqdm import tqdm\n",
    "\n",
    "\n",
    "def process_date(date, asset_names, device=\"cuda\"):\n",
    "    gan_samples_cols = []\n",
    "    for asset in asset_names:\n",
    "        file_path = os.path.join(f\"test_{date}\", f\"generated_returns_{asset}_scenarios.pt\")\n",
    "        asset_scenarios = torch.load(file_path, map_location=device).double()\n",
    "        asset_cum = torch.prod(1 + asset_scenarios, dim=1) - 1\n",
    "        gan_samples_cols.append(asset_cum.reshape(-1, 1))\n",
    "\n",
    "    gan_samples = torch.cat(gan_samples_cols, dim=1)\n",
    "\n",
    "\n",
    "    # Calculate VaR\n",
    "    cumulative_returns = torch.prod(1 + gan_samples, dim=1) - 1  # Shape: (N,)\n",
    "\n",
    "    final_asset_values = assets_0 * (1 + cumulative_returns)\n",
    "\n",
    "    var = torch.quantile(final_asset_values, 0.005)\n",
    "\n",
    "\n",
    "\n",
    "\n",
    "    if var > 1e6:\n",
    "        var = 1e6\n",
    "\n",
    "\n",
    "    return date, var\n",
    "\n",
    "\n",
    "asset_names = list(returns_df.columns)\n",
    "all_dates = set(all_dates)\n",
    "all_dates = sorted(all_dates)\n",
    "\n",
    "portfolio_scr_results = {}\n",
    "for date in tqdm(all_dates, desc=\"Processing dates with GPU\"):\n",
    "    date, scr = process_date(date, asset_names=asset_names)\n",
    "    portfolio_scr_results[date] = scr"
   ]
  },
  {
   "cell_type": "code",
   "execution_count": null,
   "metadata": {
    "colab": {
     "base_uri": "https://localhost:8080/",
     "height": 183
    },
    "executionInfo": {
     "elapsed": 501,
     "status": "ok",
     "timestamp": 1749331888291,
     "user": {
      "displayName": "Nick",
      "userId": "06460157292764517305"
     },
     "user_tz": -120
    },
    "id": "HG6mkpVqY8J3",
    "outputId": "0b7811af-2960-4124-de62-99b4d94ef491"
   },
   "outputs": [],
   "source": [
    "sorted_dates = sorted(portfolio_scr_results.keys())\n",
    "scr_values = [portfolio_scr_results[date].cpu() if hasattr(portfolio_scr_results[date], 'cpu') else portfolio_scr_results[date] for date in sorted_dates]\n",
    "\n",
    "plt.figure(figsize=(18, 3))\n",
    "plt.plot(scr_values, linestyle='-')\n",
    "plt.xlabel(\"Windows\")\n",
    "plt.ylabel(\"VaR\")\n",
    "plt.title(\"Portfolio SCR Over Time\")\n",
    "plt.xticks(rotation=45)\n",
    "plt.grid(False)\n",
    "plt.tight_layout()\n",
    "plt.show()"
   ]
  },
  {
   "cell_type": "code",
   "execution_count": 16,
   "metadata": {
    "colab": {
     "base_uri": "https://localhost:8080/"
    },
    "executionInfo": {
     "elapsed": 6,
     "status": "ok",
     "timestamp": 1749331888299,
     "user": {
      "displayName": "Nick",
      "userId": "06460157292764517305"
     },
     "user_tz": -120
    },
    "id": "I-J3ufX0jJfH",
    "outputId": "aa46c13b-4041-4657-838d-82865b74ded9"
   },
   "outputs": [
    {
     "data": {
      "text/plain": [
       "6.16"
      ]
     },
     "execution_count": 16,
     "metadata": {},
     "output_type": "execute_result"
    }
   ],
   "source": [
    "1232/200"
   ]
  },
  {
   "cell_type": "code",
   "execution_count": null,
   "metadata": {
    "colab": {
     "base_uri": "https://localhost:8080/",
     "height": 902
    },
    "executionInfo": {
     "elapsed": 216,
     "status": "ok",
     "timestamp": 1749331888517,
     "user": {
      "displayName": "Nick",
      "userId": "06460157292764517305"
     },
     "user_tz": -120
    },
    "id": "BC4n3SIlY8J3",
    "outputId": "3eb3acaa-c4e5-4c14-8e24-5e7c813ff89a"
   },
   "outputs": [],
   "source": [
    "plt.figure(figsize=(10, 6))\n",
    "plt.plot(scr_values, linestyle='-', label='SCR')\n",
    "plt.plot(realized_delta_bof_values_1, linestyle='-', label='Realized Delta BOF')\n",
    "\n",
    "# Add a vertical dashed line - you can change the position as needed\n",
    "plt.axhline(y=0, color='black', linestyle='--', label='No Buffer', alpha=0.5)\n",
    "\n",
    "plt.xlabel(\"Window\")\n",
    "plt.ylabel(\"Assets\")\n",
    "plt.title(\"VaR v.s. Actual\")\n",
    "plt.grid(False)\n",
    "plt.tight_layout()\n",
    "plt.legend()\n",
    "plt.show()\n",
    "\n",
    "exceedances = sum(scr > realized for scr, realized in zip(scr_values, realized_delta_bof_values_1))\n",
    "print(f\"SCR exceeds realized: {exceedances} times out of {len(scr_values)}\")\n",
    "\n",
    "count = 0\n",
    "for i in range(len(scr_values)):\n",
    "\n",
    "    if scr_values[i] > realized_delta_bof_values_1[i]:\n",
    "      count += 1\n",
    "      print(\"Window =\", i+ 1)"
   ]
  },
  {
   "cell_type": "code",
   "execution_count": 18,
   "metadata": {
    "colab": {
     "base_uri": "https://localhost:8080/",
     "height": 87
    },
    "executionInfo": {
     "elapsed": 3,
     "status": "ok",
     "timestamp": 1749331888522,
     "user": {
      "displayName": "Nick",
      "userId": "06460157292764517305"
     },
     "user_tz": -120
    },
    "id": "MuGLvbqsn2Vx",
    "outputId": "b268d463-4411-4637-ac2c-e8b916494e77"
   },
   "outputs": [
    {
     "data": {
      "application/vnd.google.colaboratory.intrinsic+json": {
       "type": "string"
      },
      "text/plain": [
       "'\\n# Save GAN models\\nfor asset_name, gan in gan_dict.items():\\n    model_path = f\"{save_dir}/{asset_name}_gan.pt\"\\n    torch.save({\\n        \\'generator\\': gan.generator.state_dict(),\\n        \\'discriminator\\': gan.discriminator.state_dict(),\\n        \\'scaler\\': gan.scaler,\\n        \\'condition_scaler\\': gan.condition_scaler\\n    }, model_path)\\n\\nprint(f\"Saved {len(gan_dict)} models to {save_dir}\")\\n'"
      ]
     },
     "execution_count": 18,
     "metadata": {},
     "output_type": "execute_result"
    }
   ],
   "source": [
    "save_dir = '/content/drive/MyDrive/gan_models_3'\n",
    "scenarios_dir = '/content/drive/MyDrive/gan_scenarios'\n",
    "os.makedirs(save_dir, exist_ok=True)\n",
    "os.makedirs(scenarios_dir, exist_ok=True)\n",
    "\n",
    "'''\n",
    "# Save GAN models\n",
    "for asset_name, gan in gan_dict.items():\n",
    "    model_path = f\"{save_dir}/{asset_name}_gan.pt\"\n",
    "    torch.save({\n",
    "        'generator': gan.generator.state_dict(),\n",
    "        'discriminator': gan.discriminator.state_dict(),\n",
    "        'scaler': gan.scaler,\n",
    "        'condition_scaler': gan.condition_scaler\n",
    "    }, model_path)\n",
    "\n",
    "print(f\"Saved {len(gan_dict)} models to {save_dir}\")\n",
    "'''\n"
   ]
  },
  {
   "cell_type": "code",
   "execution_count": null,
   "metadata": {
    "colab": {
     "base_uri": "https://localhost:8080/",
     "height": 607
    },
    "executionInfo": {
     "elapsed": 193,
     "status": "ok",
     "timestamp": 1749331888716,
     "user": {
      "displayName": "Nick",
      "userId": "06460157292764517305"
     },
     "user_tz": -120
    },
    "id": "qbogo7hZFCcR",
    "outputId": "864c91f9-07a9-44ef-e6bc-81cae78270d2"
   },
   "outputs": [],
   "source": [
    "x_scr_shifted = range(-252, len(scr_values) - 252)\n",
    "plt.figure(figsize=(10, 6))\n",
    "plt.plot(x_scr_shifted, scr_values, linestyle='-', label='SCR (shifted)')\n",
    "\n",
    "# Plot realized_delta_bof_values_1 (assuming its x-values start from 0)\n",
    "plt.plot(realized_delta_bof_values_1, linestyle='-', label='Realized Delta BOF')\n",
    "\n",
    "plt.axhline(y=0, color='black', linestyle='--', label='No Buffer', alpha=0.5)\n",
    "plt.xlabel(\"Window\")\n",
    "plt.ylabel(\"Assets\")\n",
    "plt.title(\"VaR\")\n",
    "plt.grid(False)\n",
    "plt.tight_layout()\n",
    "plt.legend()\n",
    "plt.show()"
   ]
  },
  {
   "cell_type": "code",
   "execution_count": 27,
   "metadata": {
    "colab": {
     "base_uri": "https://localhost:8080/"
    },
    "executionInfo": {
     "elapsed": 438,
     "status": "ok",
     "timestamp": 1749332256608,
     "user": {
      "displayName": "Nick",
      "userId": "06460157292764517305"
     },
     "user_tz": -120
    },
    "id": "LTVJOl_SRdLd",
    "outputId": "e6497de3-8ea6-48f2-b33d-2f7df97e3059"
   },
   "outputs": [
    {
     "name": "stdout",
     "output_type": "stream",
     "text": [
      "Saved to /content/drive/MyDrive/MasterThesis/d_losses/eq.csv\n"
     ]
    }
   ],
   "source": [
    "df = pd.DataFrame({'d_losses': gan.d_losses})\n",
    "df.to_csv('/content/drive/MyDrive/MasterThesis/d_losses/eq.csv', index=False)\n",
    "\n",
    "print(\"Saved to /content/drive/MyDrive/MasterThesis/d_losses/eq.csv\")"
   ]
  },
  {
   "cell_type": "markdown",
   "metadata": {
    "id": "17egByZCY8J3"
   },
   "source": [
    "-------------------------------------------------------------------------------------------------------------------------------------------------------------------------\n",
    "## SHOWING A BUNCH OF GAN SPESIFIC RESULTS"
   ]
  },
  {
   "cell_type": "markdown",
   "metadata": {
    "id": "bfetbjZgY8J3"
   },
   "source": [
    "- Distributions\n",
    "- Latent space plots\n",
    "- PCAs\n",
    "\n",
    "etc."
   ]
  },
  {
   "cell_type": "code",
   "execution_count": null,
   "metadata": {
    "executionInfo": {
     "elapsed": 428883,
     "status": "aborted",
     "timestamp": 1749331888756,
     "user": {
      "displayName": "Nick",
      "userId": "06460157292764517305"
     },
     "user_tz": -120
    },
    "id": "vBe8wUbSp8WA"
   },
   "outputs": [],
   "source": [
    "for asset_name in returns_df.columns:\n",
    "    print(asset_name)\n",
    "    if asset_name in ['IG', 'HY', 'EONIA']:\n",
    "        gan_dict[asset_name].generate_scenarios(num_scenarios=4000)\n",
    "    else:\n",
    "      gan_dict[asset_name].generate_scenarios(num_scenarios=4000)"
   ]
  },
  {
   "cell_type": "markdown",
   "metadata": {
    "id": "qBPNZ77DSAK3"
   },
   "source": []
  },
  {
   "cell_type": "markdown",
   "metadata": {
    "id": "Uw23_WSSY8J3"
   },
   "source": [
    "# ----------------------------------------------------------"
   ]
  },
  {
   "cell_type": "code",
   "execution_count": null,
   "metadata": {
    "executionInfo": {
     "elapsed": 428899,
     "status": "aborted",
     "timestamp": 1749331888774,
     "user": {
      "displayName": "Nick",
      "userId": "06460157292764517305"
     },
     "user_tz": -120
    },
    "id": "gYXtiCkbY8J4"
   },
   "outputs": [],
   "source": [
    "extensive_plotting(scaled=False, returns_df=returns_df, test=True, quarterly=False)"
   ]
  },
  {
   "cell_type": "code",
   "execution_count": null,
   "metadata": {
    "executionInfo": {
     "elapsed": 428899,
     "status": "aborted",
     "timestamp": 1749331888776,
     "user": {
      "displayName": "Nick",
      "userId": "06460157292764517305"
     },
     "user_tz": -120
    },
    "id": "lYXftFd5yiGg"
   },
   "outputs": [],
   "source": [
    "import numpy as np\n",
    "import torch\n",
    "from sklearn.decomposition import PCA\n",
    "import matplotlib.pyplot as plt\n",
    "\n",
    "def explain_gan_latent(gan, n_samples=2000):\n",
    "    \"\"\"Explain GAN using PCA on latent space\"\"\"\n",
    "    device = 'cuda' if gan.cuda else 'cpu'\n",
    "    gan.generator.eval()\n",
    "\n",
    "    with torch.no_grad():\n",
    "        # Sample latent + conditions\n",
    "        z = torch.randn(n_samples, gan.latent_dim, device=device)\n",
    "        cond_idx = np.random.choice(len(gan.conditions), n_samples, replace=True)\n",
    "        cond = torch.tensor(gan.conditions[cond_idx], dtype=torch.float32, device=device)\n",
    "\n",
    "        # Generate scenarios\n",
    "        gen = gan.generator(z, cond).cpu().numpy()\n",
    "        z_np = z.cpu().numpy()\n",
    "        cond_np = cond.cpu().numpy()\n",
    "\n",
    "    # PCA on latent space\n",
    "    pca = PCA(n_components=5)\n",
    "    z_pca = pca.fit_transform(z_np)\n",
    "\n",
    "    # Compute scenario statistics\n",
    "    stats = {\n",
    "        'mean': np.mean(gen, axis=1),\n",
    "        'std': np.std(gen, axis=1),\n",
    "        'min': np.min(gen, axis=1),\n",
    "        'skew': [np.mean((g - np.mean(g))**3) / np.std(g)**3 for g in gen]\n",
    "    }\n",
    "\n",
    "    # Correlations: PCA components vs output stats & conditions\n",
    "    results = []\n",
    "    for i in range(5):\n",
    "        corr = {\n",
    "            'component': i,\n",
    "            'variance_explained': pca.explained_variance_ratio_[i],\n",
    "            'mean_return': np.corrcoef(z_pca[:, i], stats['mean'])[0,1],\n",
    "            'volatility': np.corrcoef(z_pca[:, i], stats['std'])[0,1],\n",
    "            'tail_risk': np.corrcoef(z_pca[:, i], stats['min'])[0,1],\n",
    "            'skewness': np.corrcoef(z_pca[:, i], stats['skew'])[0,1]\n",
    "        }\n",
    "\n",
    "        # Correlations with market conditions (your lag features)\n",
    "        cond_corrs = [np.corrcoef(z_pca[:, i], cond_np[:, j])[0,1]\n",
    "                     for j in range(cond_np.shape[1])]\n",
    "        corr['condition_correlations'] = cond_corrs\n",
    "        results.append(corr)\n",
    "\n",
    "    return results, pca, z_np, gen, cond_np\n",
    "\n",
    "def plot_latent_effects(gan, pca, component=0):\n",
    "    \"\"\"Show how latent component affects scenarios\"\"\"\n",
    "    device = 'cuda' if gan.cuda else 'cpu'\n",
    "\n",
    "    # Fixed condition + vary latent component\n",
    "    base_z = torch.zeros(1, gan.latent_dim, device=device)\n",
    "    fixed_cond = torch.tensor(gan.conditions[0:1], dtype=torch.float32, device=device)\n",
    "\n",
    "    variations = np.linspace(-2, 2, 5)\n",
    "    scenarios = []\n",
    "\n",
    "    with torch.no_grad():\n",
    "        for v in variations:\n",
    "            z_var = base_z.clone()\n",
    "            z_var += torch.tensor(pca.components_[component] * v, dtype=torch.float32, device=device)\n",
    "            gen = gan.generator(z_var, fixed_cond).cpu().numpy()[0]\n",
    "            scenarios.append(gen)\n",
    "\n",
    "    # Plot\n",
    "    plt.figure(figsize=(10, 4))\n",
    "    for i, scenario in enumerate(scenarios):\n",
    "        plt.plot(scenario, alpha=0.8, label=f'{variations[i]:.1f}')\n",
    "    plt.title(f'PCA Component {component} Effect')\n",
    "    plt.xlabel('Time')\n",
    "    plt.ylabel('Returns')\n",
    "    plt.legend()\n",
    "    plt.show()\n",
    "\n",
    "def print_interpretation(results):\n",
    "    \"\"\"Print key findings\"\"\"\n",
    "    condition_names = ['cum_ret_14d', 'vol_14d', 'kurt_14d', 'drawdown_14d',\n",
    "                      'cum_ret_90d', 'vol_90d', 'kurt_90d', 'drawdown_90d',\n",
    "                      'cum_ret_180d', 'vol_180d', 'kurt_180d', 'drawdown_180d']\n",
    "\n",
    "    for r in results[:3]:  # Top 3 components\n",
    "        print(f\"\\n**Component {r['component']}** ({r['variance_explained']:.1%} variance)\")\n",
    "\n",
    "        # Output effects\n",
    "        if abs(r['mean_return']) > 0.2:\n",
    "            print(f\"  Return level: {r['mean_return']:.2f}\")\n",
    "        if abs(r['volatility']) > 0.2:\n",
    "            print(f\"  Volatility: {r['volatility']:.2f}\")\n",
    "        if abs(r['tail_risk']) > 0.2:\n",
    "            print(f\"  Tail risk: {r['tail_risk']:.2f}\")\n",
    "\n",
    "        # Condition effects\n",
    "        top_cond = np.argsort(np.abs(r['condition_correlations']))[-2:]\n",
    "        for idx in top_cond:\n",
    "            if abs(r['condition_correlations'][idx]) > 0.15:\n",
    "                print(f\"  {condition_names[idx]}: {r['condition_correlations'][idx]:.2f}\")\n",
    "\n",
    "# Usage:\n",
    "def analyze_gan(gan):\n",
    "    results, pca, z, gen, cond = explain_gan_latent(gan)\n",
    "    print_interpretation(results)\n",
    "    plot_latent_effects(gan, pca, 0)  # Plot top component\n",
    "    return results, pca\n",
    "\n",
    "\n",
    "for name in gan_dict:\n",
    "    results, pca = analyze_gan(gan_dict[name])"
   ]
  },
  {
   "cell_type": "markdown",
   "metadata": {
    "id": "1sH6_hMjOLdD"
   },
   "source": []
  }
 ],
 "metadata": {
  "accelerator": "GPU",
  "colab": {
   "gpuType": "T4",
   "machine_shape": "hm",
   "provenance": [
    {
     "file_id": "1GNwmzS0j7Dl_u2GiCZGkl6kLB4k79FV0",
     "timestamp": 1748979005021
    },
    {
     "file_id": "1V1J8MqtB3cPK7EZAiP4wG2zOtZLI-xdL",
     "timestamp": 1748978597669
    },
    {
     "file_id": "1sLDjE7PKAJUKKZAU2BPz6qpRYcxSt_3u",
     "timestamp": 1748964737833
    },
    {
     "file_id": "1-RKNdpQoP1qmI5v0lwMwPEAa6ma0kIgN",
     "timestamp": 1748856271590
    },
    {
     "file_id": "14UeYSDip7qwNo56lHY3VrIMG7YxWBf5E",
     "timestamp": 1748118391227
    },
    {
     "file_id": "1qhW88tKvI5vfNPbc3zb6uvEQ-eGOLfxa",
     "timestamp": 1747391547435
    }
   ]
  },
  "kernelspec": {
   "display_name": "Python 3",
   "name": "python3"
  },
  "language_info": {
   "codemirror_mode": {
    "name": "ipython",
    "version": 3
   },
   "file_extension": ".py",
   "mimetype": "text/x-python",
   "name": "python",
   "nbconvert_exporter": "python",
   "pygments_lexer": "ipython3",
   "version": "3.12.3"
  }
 },
 "nbformat": 4,
 "nbformat_minor": 0
}
