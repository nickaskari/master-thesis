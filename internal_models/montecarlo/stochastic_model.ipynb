{
 "cells": [
  {
   "cell_type": "markdown",
   "id": "236a7733",
   "metadata": {},
   "source": [
    "## Creating a Stochastic Model Benchmark"
   ]
  },
  {
   "cell_type": "code",
   "execution_count": 1,
   "id": "58eb5c9d",
   "metadata": {},
   "outputs": [
    {
     "data": {
      "text/plain": [
       "True"
      ]
     },
     "execution_count": 1,
     "metadata": {},
     "output_type": "execute_result"
    }
   ],
   "source": [
    "import pandas as pd  \n",
    "import numpy as np\n",
    "from scipy.stats import t, rankdata\n",
    "from copulae import StudentCopula\n",
    "import matplotlib.pyplot as plt\n",
    "from dotenv.main import load_dotenv\n",
    "from tqdm import tqdm\n",
    "import sys\n",
    "import os\n",
    "parent_dir = os.path.abspath(os.path.join(os.getcwd(), \"../../\"))\n",
    "sys.path.insert(0, parent_dir)\n",
    "\n",
    "load_dotenv(override=True)"
   ]
  },
  {
   "cell_type": "code",
   "execution_count": 2,
   "id": "b5c5283b",
   "metadata": {},
   "outputs": [],
   "source": [
    "assets_0 = int(os.getenv(\"INIT_ASSETS\"))\n",
    "liabilities_0 = int(os.getenv(\"INIT_ASSETS\")) * float(os.getenv(\"FRAC_LIABILITIES\"))\n",
    "num_simulations = 10000#int(os.getenv(\"N_SIMULATIONS\"))\n",
    "bof_0 = assets_0 - liabilities_0"
   ]
  },
  {
   "cell_type": "code",
   "execution_count": 3,
   "id": "8fd13eac",
   "metadata": {},
   "outputs": [
    {
     "data": {
      "text/plain": [
       "'c:\\\\Users\\\\nicka\\\\master-thesis'"
      ]
     },
     "execution_count": 3,
     "metadata": {},
     "output_type": "execute_result"
    }
   ],
   "source": [
    "parent_dir"
   ]
  },
  {
   "cell_type": "code",
   "execution_count": 4,
   "id": "c28cc94d",
   "metadata": {},
   "outputs": [],
   "source": [
    "def fetch_data_df():\n",
    "    # Load the data\n",
    "    df = pd.read_csv('../../data/final_daily_returns_asset_classes.csv', index_col=0, parse_dates=True)\n",
    "    df.index = pd.to_datetime(df.index)\n",
    "    start_test_date = os.getenv(\"START_TEST_DATE\")\n",
    "    \n",
    "    if start_test_date is None:\n",
    "        raise ValueError(\"Environment variable 'START_TEST_DATE' is not set.\")\n",
    "\n",
    "    start_test_date = pd.to_datetime(start_test_date)\n",
    "\n",
    "    columns = [0,1,2,3,4,5,6] \n",
    "    selected_columns = df.iloc[:, columns]  # Remember: Python uses 0-based indexing\n",
    "\n",
    "    pre_test_df = selected_columns[selected_columns.index < start_test_date]\n",
    "    test_df = selected_columns[selected_columns.index >= start_test_date].iloc[:]\n",
    "    \n",
    "    return pre_test_df, test_df\n",
    "\n",
    "returns_df, test_returns_df = fetch_data_df()"
   ]
  },
  {
   "cell_type": "code",
   "execution_count": 5,
   "id": "534b7ac2",
   "metadata": {},
   "outputs": [],
   "source": [
    "asset_names = returns_df.columns\n",
    "\n",
    "num_assets = returns_df.shape[1]\n",
    "weights = np.full(num_assets, 1 / num_assets)  "
   ]
  },
  {
   "cell_type": "code",
   "execution_count": 6,
   "id": "6b9210c9",
   "metadata": {},
   "outputs": [],
   "source": [
    "entire_df = pd.concat([returns_df, test_returns_df])\n",
    "\n",
    "test_start_date = test_returns_df.index.min()\n",
    "test_end_date = test_returns_df.index.max()\n",
    "idx = entire_df.index.get_loc(test_end_date)\n",
    "idx_start = entire_df.index.get_loc(test_start_date)\n",
    "historical_df = entire_df.iloc[idx_start - 252:]\n",
    "historical_df.head()\n",
    "\n",
    "eonia = historical_df.iloc[:, -1]\n",
    "bof_0 = assets_0 - liabilities_0"
   ]
  },
  {
   "cell_type": "markdown",
   "id": "978d6287",
   "metadata": {},
   "source": [
    "# Creating Testing Data"
   ]
  },
  {
   "cell_type": "code",
   "execution_count": 7,
   "id": "c721d9f7",
   "metadata": {},
   "outputs": [],
   "source": [
    "n_windows = len(historical_df) - 252 + 1\n",
    "\n",
    "window_start_dates = []\n",
    "window_end_dates = []\n",
    "realized_bof_values = []\n",
    "realized_delta_bof_values_1 = []\n",
    "\n",
    "for t in range(n_windows):\n",
    "    # Get window data\n",
    "    window_data = historical_df.iloc[t:t+252]\n",
    "    window_start_date = historical_df.index[t]\n",
    "    window_end_date = historical_df.index[t+252-1]\n",
    "    \n",
    "    # Get returns and EONIA for this window\n",
    "    window_returns = (window_data * weights).sum(axis=1)\n",
    "    window_eonia = window_data.iloc[:, -1]\n",
    "    \n",
    "    # Calculate portfolio value at the end of the window\n",
    "    # Starting from assets_0 each time\n",
    "    portfolio_value_end = assets_0 * (1 + window_returns).prod() # This is analogous to the yearly return\n",
    "    \n",
    "    # Calculate liabilities at the end of the window\n",
    "    # Starting from liabilities_0 each time\n",
    "    liabilities_end = liabilities_0 * (1 + window_eonia).prod()\n",
    "    \n",
    "    # Calculate BOF at the end of the window\n",
    "    bof_end = portfolio_value_end - liabilities_end\n",
    "    delta_bof = bof_end - bof_0\n",
    "    \n",
    "    # Store results\n",
    "    window_start_dates.append(window_start_date)\n",
    "    window_end_dates.append(window_end_date)\n",
    "    realized_bof_values.append(bof_end)\n",
    "    realized_delta_bof_values_1.append(delta_bof)"
   ]
  },
  {
   "cell_type": "markdown",
   "id": "a8616808",
   "metadata": {},
   "source": [
    "## Concatonating all Stochastic Models\n",
    "\n",
    "Plan\n",
    "1. Same GBM with jumps model for all assets\n",
    "2. Special Model for EONIA\n",
    "3. Use some Copula --> Use Student-t Copula"
   ]
  },
  {
   "cell_type": "code",
   "execution_count": 8,
   "id": "b5cf2374",
   "metadata": {},
   "outputs": [],
   "source": [
    "from internal_models.montecarlo.mc_jumpgbm import MonteCarloJumpGBM\n",
    "from utilities.bof_var_plot import plot_bof_var"
   ]
  },
  {
   "cell_type": "code",
   "execution_count": 9,
   "id": "043a294c",
   "metadata": {},
   "outputs": [],
   "source": [
    "mc = MonteCarloJumpGBM(returns_df, weights)"
   ]
  },
  {
   "cell_type": "code",
   "execution_count": 10,
   "id": "19e37b9a",
   "metadata": {},
   "outputs": [
    {
     "name": "stdout",
     "output_type": "stream",
     "text": [
      "Running 10000 simulations with 16 workers and batch size 156\n",
      "Using Numba optimization\n",
      "Numba optimization test successful. Proceeding with parallel processing.\n"
     ]
    },
    {
     "name": "stderr",
     "output_type": "stream",
     "text": [
      "MonteCarlo GBM w Jumps: 100%|██████████| 65/65 [00:12<00:00,  5.31batch/s]\n"
     ]
    },
    {
     "name": "stdout",
     "output_type": "stream",
     "text": [
      "Completed 10000 simulations in 16.48 seconds\n"
     ]
    }
   ],
   "source": [
    "bof_change, scr = mc.calculate_distribution_and_scr()\n"
   ]
  },
  {
   "cell_type": "code",
   "execution_count": 11,
   "id": "642475bb",
   "metadata": {},
   "outputs": [
    {
     "data": {
      "image/png": "[encoded data removed]",
      "text/plain": [
       "<Figure size 1000x600 with 1 Axes>"
      ]
     },
     "metadata": {},
     "output_type": "display_data"
    }
   ],
   "source": [
    "plot_bof_var(bof_change, scr, title=\"sad\")"
   ]
  },
  {
   "cell_type": "code",
   "execution_count": null,
   "id": "f3abd57e",
   "metadata": {},
   "outputs": [],
   "source": []
  }
 ],
 "metadata": {
  "kernelspec": {
   "display_name": "packages",
   "language": "python",
   "name": "python3"
  },
  "language_info": {
   "codemirror_mode": {
    "name": "ipython",
    "version": 3
   },
   "file_extension": ".py",
   "mimetype": "text/x-python",
   "name": "python",
   "nbconvert_exporter": "python",
   "pygments_lexer": "ipython3",
   "version": "3.12.3"
  }
 },
 "nbformat": 4,
 "nbformat_minor": 5
}
