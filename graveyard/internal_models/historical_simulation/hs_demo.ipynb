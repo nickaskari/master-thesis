{
 "cells": [
  {
   "cell_type": "markdown",
   "metadata": {},
   "source": [
    "# Demonstrates the calculation of VaR for a historical simulation"
   ]
  },
  {
   "cell_type": "code",
   "execution_count": 15,
   "metadata": {},
   "outputs": [],
   "source": [
    "import pandas as pd\n",
    "import numpy as np\n",
    "import matplotlib.pyplot as plt \n",
    "from dotenv.main import load_dotenv\n",
    "load_dotenv(override=True)\n",
    "\n",
    "import os\n"
   ]
  },
  {
   "cell_type": "code",
   "execution_count": 16,
   "metadata": {},
   "outputs": [
    {
     "data": {
      "text/html": [
       "<div>\n",
       "<style scoped>\n",
       "    .dataframe tbody tr th:only-of-type {\n",
       "        vertical-align: middle;\n",
       "    }\n",
       "\n",
       "    .dataframe tbody tr th {\n",
       "        vertical-align: top;\n",
       "    }\n",
       "\n",
       "    .dataframe thead th {\n",
       "        text-align: right;\n",
       "    }\n",
       "</style>\n",
       "<table border=\"1\" class=\"dataframe\">\n",
       "  <thead>\n",
       "    <tr style=\"text-align: right;\">\n",
       "      <th></th>\n",
       "      <th>REEL</th>\n",
       "      <th>PE</th>\n",
       "      <th>MSCIWORLD</th>\n",
       "      <th>IG</th>\n",
       "      <th>GOV</th>\n",
       "      <th>HY</th>\n",
       "      <th>EONIA</th>\n",
       "    </tr>\n",
       "    <tr>\n",
       "      <th>Date</th>\n",
       "      <th></th>\n",
       "      <th></th>\n",
       "      <th></th>\n",
       "      <th></th>\n",
       "      <th></th>\n",
       "      <th></th>\n",
       "      <th></th>\n",
       "    </tr>\n",
       "  </thead>\n",
       "  <tbody>\n",
       "    <tr>\n",
       "      <th>2005-10-11</th>\n",
       "      <td>0.003231</td>\n",
       "      <td>0.006833</td>\n",
       "      <td>0.004578</td>\n",
       "      <td>-0.001342</td>\n",
       "      <td>-0.001916</td>\n",
       "      <td>-0.004075</td>\n",
       "      <td>0.000054</td>\n",
       "    </tr>\n",
       "    <tr>\n",
       "      <th>2005-10-12</th>\n",
       "      <td>-0.003550</td>\n",
       "      <td>-0.009657</td>\n",
       "      <td>-0.007867</td>\n",
       "      <td>-0.002606</td>\n",
       "      <td>-0.001570</td>\n",
       "      <td>-0.004370</td>\n",
       "      <td>0.000058</td>\n",
       "    </tr>\n",
       "    <tr>\n",
       "      <th>2005-10-13</th>\n",
       "      <td>-0.018599</td>\n",
       "      <td>-0.010692</td>\n",
       "      <td>0.000588</td>\n",
       "      <td>-0.002331</td>\n",
       "      <td>-0.003062</td>\n",
       "      <td>-0.003423</td>\n",
       "      <td>0.000058</td>\n",
       "    </tr>\n",
       "    <tr>\n",
       "      <th>2005-10-14</th>\n",
       "      <td>-0.007856</td>\n",
       "      <td>0.001569</td>\n",
       "      <td>-0.002991</td>\n",
       "      <td>-0.000564</td>\n",
       "      <td>0.000060</td>\n",
       "      <td>0.001618</td>\n",
       "      <td>0.000058</td>\n",
       "    </tr>\n",
       "    <tr>\n",
       "      <th>2005-10-17</th>\n",
       "      <td>-0.003613</td>\n",
       "      <td>0.000492</td>\n",
       "      <td>0.003290</td>\n",
       "      <td>0.000458</td>\n",
       "      <td>-0.000227</td>\n",
       "      <td>0.005447</td>\n",
       "      <td>0.000173</td>\n",
       "    </tr>\n",
       "  </tbody>\n",
       "</table>\n",
       "</div>"
      ],
      "text/plain": [
       "                REEL        PE  MSCIWORLD        IG       GOV        HY  \\\n",
       "Date                                                                      \n",
       "2005-10-11  0.003231  0.006833   0.004578 -0.001342 -0.001916 -0.004075   \n",
       "2005-10-12 -0.003550 -0.009657  -0.007867 -0.002606 -0.001570 -0.004370   \n",
       "2005-10-13 -0.018599 -0.010692   0.000588 -0.002331 -0.003062 -0.003423   \n",
       "2005-10-14 -0.007856  0.001569  -0.002991 -0.000564  0.000060  0.001618   \n",
       "2005-10-17 -0.003613  0.000492   0.003290  0.000458 -0.000227  0.005447   \n",
       "\n",
       "               EONIA  \n",
       "Date                  \n",
       "2005-10-11  0.000054  \n",
       "2005-10-12  0.000058  \n",
       "2005-10-13  0.000058  \n",
       "2005-10-14  0.000058  \n",
       "2005-10-17  0.000173  "
      ]
     },
     "execution_count": 16,
     "metadata": {},
     "output_type": "execute_result"
    }
   ],
   "source": [
    "def fetch_data_df():\n",
    "    df = pd.read_csv('../../data/final_daily_returns_asset_classes.csv', index_col=0, parse_dates=True)\n",
    "    df.index = pd.to_datetime(df.index)\n",
    "    return df\n",
    "\n",
    "returns_df = fetch_data_df()\n",
    "returns_df.head()"
   ]
  },
  {
   "cell_type": "markdown",
   "metadata": {},
   "source": [
    "## Definig Parameters"
   ]
  },
  {
   "cell_type": "code",
   "execution_count": 17,
   "metadata": {},
   "outputs": [],
   "source": [
    "assets_0 = int(os.getenv(\"INIT_ASSETS\"))\n",
    "liabilities_0 = assets_0 * float(os.getenv(\"FRAC_LIABILITIES\"))\n",
    "n_simulations = int(os.getenv(\"N_SIMULATIONS\"))\n",
    "n_days = int(os.getenv(\"N_DAYS\"))"
   ]
  },
  {
   "cell_type": "code",
   "execution_count": 18,
   "metadata": {},
   "outputs": [
    {
     "data": {
      "image/png": "[encoded data removed]",
      "text/plain": [
       "<Figure size 720x432 with 1 Axes>"
      ]
     },
     "metadata": {
      "needs_background": "light"
     },
     "output_type": "display_data"
    },
    {
     "name": "stdout",
     "output_type": "stream",
     "text": [
      "1-Year Value at Risk (95% confidence): -33.96%\n",
      "Expected 1-Year Return: 4.87%\n",
      "1-Year Standard Deviation: 11.62%\n"
     ]
    }
   ],
   "source": [
    "weights = np.full(returns_df.shape[1], 1 / returns_df.shape[1])\n",
    "\n",
    "PnL_daily = (weights * returns_df.values).sum(axis=1)\n",
    "\n",
    "rolling_window = 252  # Number of trading days in a year\n",
    "\n",
    "# Calculate cumulative returns by summing over rolling windows\n",
    "PnL_1yr_cumulative = pd.Series(PnL_daily).rolling(window=rolling_window).sum().dropna()\n",
    "\n",
    "plt.figure(figsize=(10, 6))\n",
    "plt.hist(PnL_1yr_cumulative, bins=100, edgecolor='black', alpha=0.7)\n",
    "plt.title('Distribution of 1-Year Cumulative Portfolio P&L for Equally Weighted Portfolio')\n",
    "plt.xlabel('1-Year Cumulative P&L')\n",
    "plt.ylabel('Frequency')\n",
    "plt.grid(True)\n",
    "\n",
    "VaR_995_1yr = np.percentile(PnL_1yr_cumulative, 0.5)\n",
    "\n",
    "# Add VaR line to the plot\n",
    "plt.axvline(VaR_995_1yr, color='red', linestyle='dashed', linewidth=2, label=f'VaR (99.5%): {VaR_995_1yr:.2%}')\n",
    "plt.legend()\n",
    "plt.show()\n",
    "\n",
    "# Step 6: Display VaR and other metrics\n",
    "expected_return_1yr = np.mean(PnL_1yr_cumulative)\n",
    "std_dev_1yr = np.std(PnL_1yr_cumulative)\n",
    "\n",
    "print(f\"1-Year Value at Risk (95% confidence): {VaR_995_1yr:.2%}\")\n",
    "print(f\"Expected 1-Year Return: {expected_return_1yr:.2%}\")\n",
    "print(f\"1-Year Standard Deviation: {std_dev_1yr:.2%}\")\n"
   ]
  },
  {
   "cell_type": "markdown",
   "metadata": {},
   "source": [
    "## $\\Delta$ BOF Distribution"
   ]
  },
  {
   "cell_type": "code",
   "execution_count": 19,
   "metadata": {},
   "outputs": [
    {
     "data": {
      "image/png": "[encoded data removed]",
      "text/plain": [
       "<Figure size 720x432 with 1 Axes>"
      ]
     },
     "metadata": {
      "needs_background": "light"
     },
     "output_type": "display_data"
    },
    {
     "data": {
      "text/plain": [
       "array([102595.56085443, 102220.60922023, 106498.36451588, ...,\n",
       "       125093.62781603, 127551.89428672, 136337.5859592 ])"
      ]
     },
     "execution_count": 19,
     "metadata": {},
     "output_type": "execute_result"
    }
   ],
   "source": [
    "def plot_BOF_distribution_historical(): # ASSUMES EQUALLY WEIGHTED\n",
    "    BOF_0 = assets_0 - liabilities_0  \n",
    "\n",
    "    weights = np.full(returns_df.shape[1], 1 / returns_df.shape[1])\n",
    "\n",
    "    PnL_portfolio_daily = (weights * returns_df.values).sum(axis=1)\n",
    "    PnL_portfolio_1yr = pd.Series(PnL_portfolio_daily).rolling(window=252).sum().dropna()\n",
    "\n",
    "    eonia_returns = returns_df.iloc[:, 6]  # EONIA daily returns\n",
    "    PnL_eonia_1yr = eonia_returns.rolling(window=252).sum().dropna()\n",
    "\n",
    "    # Align lengths of PnL_portfolio_1yr and PnL_eonia_1yr\n",
    "    min_length = min(len(PnL_portfolio_1yr), len(PnL_eonia_1yr))\n",
    "    PnL_portfolio_1yr = PnL_portfolio_1yr[-min_length:]\n",
    "    PnL_eonia_1yr = PnL_eonia_1yr[-min_length:]\n",
    "\n",
    "    assets_t1 = assets_0 * (1 + PnL_portfolio_1yr.values)\n",
    "    liabilities_t1 = liabilities_0 * (1 + PnL_eonia_1yr.values)\n",
    "\n",
    "    bof_t1 = assets_t1 - liabilities_t1\n",
    "    bof_change = bof_t1 - BOF_0\n",
    "\n",
    "    scr = np.percentile(bof_change, 100 * (1 - 0.995))\n",
    "\n",
    "    plt.figure(figsize=(10, 6))\n",
    "    plt.hist(bof_change / 1e6, bins=100, alpha=0.7, color='c', label='Change in BOF Distribution', density=True)\n",
    "    plt.axvline(scr / 1e6, color='r', linestyle='--', label=f'VaR (99.5%): {scr / 1e6:.2f}M')\n",
    "    plt.title('Distribution of Change in BOF after 1 Year (Historical Simulation)')\n",
    "    plt.xlabel('Change in BOF (Millions)')\n",
    "    plt.ylabel('Density')\n",
    "\n",
    "    plt.xlim(-1, 1)\n",
    "    plt.xticks(np.arange(-1, 1.1, 0.5))  # Increments of 0.5 within the range [-1, 1]\n",
    "\n",
    "    plt.legend()\n",
    "    plt.grid(True)\n",
    "    plt.show()\n",
    "\n",
    "    return bof_change\n",
    "\n",
    "plot_BOF_distribution_historical()"
   ]
  }
 ],
 "metadata": {
  "kernelspec": {
   "display_name": "base",
   "language": "python",
   "name": "python3"
  },
  "language_info": {
   "codemirror_mode": {
    "name": "ipython",
    "version": 3
   },
   "file_extension": ".py",
   "mimetype": "text/x-python",
   "name": "python",
   "nbconvert_exporter": "python",
   "pygments_lexer": "ipython3",
   "version": "3.9.12"
  }
 },
 "nbformat": 4,
 "nbformat_minor": 2
}
