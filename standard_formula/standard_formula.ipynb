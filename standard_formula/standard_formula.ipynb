{
 "cells": [
  {
   "cell_type": "markdown",
   "metadata": {},
   "source": [
    "# MARKET SCR step-by-step"
   ]
  },
  {
   "cell_type": "markdown",
   "metadata": {},
   "source": [
    "EIOPA 2025: https://eur-lex.europa.eu/legal-content/EN/TXT/?uri=CELEX:02009L0138-20250117\n",
    "- Information on Market Risk Submodule is in Annex IV. It links to Article 105(5)"
   ]
  },
  {
   "cell_type": "code",
   "execution_count": 131,
   "metadata": {},
   "outputs": [],
   "source": [
    "import numpy as np\n",
    "import pandas as pd\n",
    "import math as m"
   ]
  },
  {
   "cell_type": "code",
   "execution_count": 132,
   "metadata": {},
   "outputs": [
    {
     "data": {
      "text/plain": [
       "'\\ncc_step: rating\\n0 : \"AAA\"\\n1 : \"AA\"\\n2 : \"A\"\\n3 : \"BBB\"\\n4 : \"BB\"\\n5 : \"B\"\\n6 : \"CCC or lower\"\\n7 : \"Unrated\"\\n\\nexposure_types:\\n1 : \"EEA governments and central banks denominated and funded in the domestic currency, multilateral banks and international organisations\"\\n2 : \"Standard\"\\n3 : \"Mortgage covered bond or public sector covered bonds exposure\"\\n4 : \"Property exposure\"\\n5 : \"non-EEA governments and central banks denominated and funded in the domestic currency exposures\"\\n'"
      ]
     },
     "execution_count": 132,
     "metadata": {},
     "output_type": "execute_result"
    }
   ],
   "source": [
    "'''\n",
    "cc_step: rating\n",
    "0 : \"AAA\"\n",
    "1 : \"AA\"\n",
    "2 : \"A\"\n",
    "3 : \"BBB\"\n",
    "4 : \"BB\"\n",
    "5 : \"B\"\n",
    "6 : \"CCC or lower\"\n",
    "7 : \"Unrated\"\n",
    "\n",
    "exposure_types:\n",
    "1 : \"EEA governments and central banks denominated and funded in the domestic currency, multilateral banks and international organisations\"\n",
    "2 : \"Standard\"\n",
    "3 : \"Mortgage covered bond or public sector covered bonds exposure\"\n",
    "4 : \"Property exposure\"\n",
    "5 : \"non-EEA governments and central banks denominated and funded in the domestic currency exposures\"\n",
    "'''"
   ]
  },
  {
   "cell_type": "markdown",
   "metadata": {},
   "source": [
    "## Gathering data"
   ]
  },
  {
   "cell_type": "code",
   "execution_count": 133,
   "metadata": {},
   "outputs": [],
   "source": [
    "portfolio_data = {\n",
    "    \"Asset Class\": [ \"World Equity\", \"Private Equity\", \"Real Estate\", \"Government Bonds\",\n",
    "        \"Investment Grade Corporate Bonds\", \"High Yield Corporate Bonds\", \"Money Market\"],\n",
    "    \n",
    "    \"Index Used\": [\"MSCI World\", \"LPX50\", \"FTSE EPRA Nareit Developed Europe\", \"FTSE EMU Government Bond\",\n",
    "        \"ICE BofA Global Corporate (GOBC)\", \"ICE BofA Global HY (HW00)\", \"EONIA & €STR\"],\n",
    "    \n",
    "    \"Short Name\": [\"Equity\", \"PE\", \"RE\", \"GB\", \"IG CB\", \"HY CB\", \"Money\"],\n",
    "    \n",
    "    \"Exposure Type\": [\"type1\", \"type2\", \"single_property\", \"gov_eea\", \"bonds\", \"bonds\", \"gov_eea\"],\n",
    "    \n",
    "    \"Credit Quality Step\": [None, None, None, 1, 2, 5, None],\n",
    "    \n",
    "    \"Duration\": [None, None, None, 7.29, 5.90, 3.14, None]  \n",
    "}"
   ]
  }
 ],
 "metadata": {
  "kernelspec": {
   "display_name": "Python 3",
   "language": "python",
   "name": "python3"
  },
  "language_info": {
   "codemirror_mode": {
    "name": "ipython",
    "version": 3
   },
   "file_extension": ".py",
   "mimetype": "text/x-python",
   "name": "python",
   "nbconvert_exporter": "python",
   "pygments_lexer": "ipython3",
   "version": "3.10.11"
  }
 },
 "nbformat": 4,
 "nbformat_minor": 2
}
